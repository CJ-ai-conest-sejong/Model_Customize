{
  "nbformat": 4,
  "nbformat_minor": 0,
  "metadata": {
    "accelerator": "GPU",
    "colab": {
      "name": "CJ_Embedding_Unet_MLPregressor.ipynb",
      "provenance": [],
      "collapsed_sections": [
        "_Ab66o2Pmr3t"
      ],
      "machine_shape": "hm"
    },
    "kernelspec": {
      "display_name": "Python 3",
      "name": "python3"
    },
    "language_info": {
      "name": "python"
    }
  },
  "cells": [
    {
      "cell_type": "code",
      "metadata": {
        "colab": {
          "base_uri": "https://localhost:8080/"
        },
        "id": "NyfhqzmKij2Q",
        "outputId": "0986c86f-1e93-47e4-ad0a-203381dabd1a"
      },
      "source": [
        "from google.colab import drive\n",
        "drive.mount('/content/gdrive/')"
      ],
      "execution_count": 1,
      "outputs": [
        {
          "output_type": "stream",
          "name": "stdout",
          "text": [
            "Mounted at /content/gdrive/\n"
          ]
        }
      ]
    },
    {
      "cell_type": "code",
      "metadata": {
        "id": "xozMxuuQiXBs"
      },
      "source": [
        "import pandas as pd\n",
        "import matplotlib.pyplot as plt\n",
        "import seaborn as sns\n",
        "import numpy as np\n",
        "from sklearn.model_selection import train_test_split\n",
        "import random\n",
        "\n",
        "from sklearn.preprocessing import LabelEncoder, OneHotEncoder"
      ],
      "execution_count": 2,
      "outputs": []
    },
    {
      "cell_type": "code",
      "metadata": {
        "id": "JA9tZvuDicB6"
      },
      "source": [
        "path = '/content/gdrive/MyDrive/Dataset/CJ AI/'"
      ],
      "execution_count": 3,
      "outputs": []
    },
    {
      "cell_type": "code",
      "metadata": {
        "colab": {
          "base_uri": "https://localhost:8080/"
        },
        "id": "cXtwEEZVib_j",
        "outputId": "77ea9fd0-8dc2-4c58-fd72-e71acee45ddb"
      },
      "source": [
        "march = pd.read_csv(path + 'march.csv', encoding = 'utf-8')\n",
        "april = pd.read_csv(path + 'april.csv', encoding = 'utf-8')\n",
        "may = pd.read_csv(path + 'may.csv', encoding = 'utf-8')\n",
        "june = pd.read_csv(path + 'june.csv', encoding = 'utf-8')"
      ],
      "execution_count": 4,
      "outputs": [
        {
          "output_type": "stream",
          "name": "stderr",
          "text": [
            "/usr/local/lib/python3.7/dist-packages/IPython/core/interactiveshell.py:2718: DtypeWarning: Columns (16,17) have mixed types.Specify dtype option on import or set low_memory=False.\n",
            "  interactivity=interactivity, compiler=compiler, result=result)\n",
            "/usr/local/lib/python3.7/dist-packages/IPython/core/interactiveshell.py:2718: DtypeWarning: Columns (17) have mixed types.Specify dtype option on import or set low_memory=False.\n",
            "  interactivity=interactivity, compiler=compiler, result=result)\n"
          ]
        }
      ]
    },
    {
      "cell_type": "code",
      "metadata": {
        "id": "TO0dtziVl25k"
      },
      "source": [
        "df = pd.concat((march, april, may, june), axis = 0)"
      ],
      "execution_count": 5,
      "outputs": []
    },
    {
      "cell_type": "code",
      "metadata": {
        "id": "6gc7yzTx5PfI"
      },
      "source": [
        "columns = ['CORP_ID', 'BKG_DATE', 'SHPR_CD', 'ITEM_SEQ', 'ITEM_CD', 'ITEM_QTY', 'ITEM_AMT', \n",
        "           'BRAND_NM', 'POST_ZONE']\n",
        "           # , 'SHPR_ADDR1', 'SHPR_ADDR1', 'CNEE_ADDR1', 'CNEE_ADDR1'\n",
        "dataset = df[columns]\n",
        "dataset = df.groupby(columns,as_index=False).sum()\n",
        "dataset = dataset[columns]\n",
        "dataset = dataset.dropna(axis = 0, how = 'any')"
      ],
      "execution_count": 6,
      "outputs": []
    },
    {
      "cell_type": "code",
      "metadata": {
        "id": "1oFxBPNgu-_C"
      },
      "source": [
        "category_columns = ['SHPR_CD', 'BRAND_NM', 'CORP_ID', 'ITEM_CD']\n",
        "for i in category_columns:\n",
        "  L_encoder = LabelEncoder()\n",
        "  L_encoder.fit(dataset[i].astype(str))\n",
        "  dataset[i] = L_encoder.transform(dataset[i].astype(str))"
      ],
      "execution_count": 7,
      "outputs": []
    },
    {
      "cell_type": "code",
      "metadata": {
        "id": "sTo5SCVCdn3d"
      },
      "source": [
        "dataset['ITEM_AMT'] = np.sqrt(dataset['ITEM_AMT'])"
      ],
      "execution_count": 8,
      "outputs": []
    },
    {
      "cell_type": "code",
      "metadata": {
        "id": "Q2RkQB6b9EwV"
      },
      "source": [
        "# dataset['year'] = dataset['BKG_DATE'].astype(str).str[0:4].astype(int)\n",
        "dataset['month'] = dataset['BKG_DATE'].astype(str).str[4:6].astype(int)\n",
        "dataset['day'] = dataset['BKG_DATE'].astype(str).str[6:].astype(int)"
      ],
      "execution_count": 9,
      "outputs": []
    },
    {
      "cell_type": "code",
      "metadata": {
        "id": "9Hhdzu_3Baix"
      },
      "source": [
        "dataset = dataset.drop(columns = 'BKG_DATE')\n",
        "Y_total = dataset['ITEM_QTY']\n",
        "Y_total = Y_total.astype('float64')"
      ],
      "execution_count": 10,
      "outputs": []
    },
    {
      "cell_type": "code",
      "metadata": {
        "id": "OFYOdoG5D_hR"
      },
      "source": [
        "X_total = dataset.drop(columns = 'ITEM_QTY')"
      ],
      "execution_count": 11,
      "outputs": []
    },
    {
      "cell_type": "code",
      "metadata": {
        "id": "-JhxOpKZL4qn"
      },
      "source": [
        "# 데이터 분리. train - 0.64, valid - 0.16, test_public = 0.1, test_private = 0.1\n",
        "X_train, X_test, Y_train, Y_test = train_test_split(X_total, Y_total, test_size=0.2, random_state=123)\n",
        "# X_train, X_valid, Y_train, Y_valid = train_test_split(X_train, Y_train, test_size=0.2, random_state=123)\n",
        "X_test_public, X_test_private, Y_test_public, Y_test_private = train_test_split(X_test, Y_test, test_size=0.5, random_state=123)"
      ],
      "execution_count": 12,
      "outputs": []
    },
    {
      "cell_type": "markdown",
      "metadata": {
        "id": "jI0IfkQPRDJl"
      },
      "source": [
        "# Model part"
      ]
    },
    {
      "cell_type": "code",
      "metadata": {
        "id": "Ni2kqgbHQy5t"
      },
      "source": [
        "import tensorflow as tf\n",
        "from tensorflow.keras import layers\n",
        "from tensorflow.keras.models import Model\n",
        "from tensorflow.keras.layers import Input,Embedding,Dot,Add,Flatten\n",
        "from tensorflow.keras.regularizers import l2\n",
        "from tensorflow.keras.optimizers import SGD,Adamax\n",
        "from tensorflow.keras.layers import Dense,Concatenate,BatchNormalization,LayerNormalization, Dropout\n",
        "from keras import backend as K"
      ],
      "execution_count": 13,
      "outputs": []
    },
    {
      "cell_type": "code",
      "metadata": {
        "id": "ibssHpwbfDGC"
      },
      "source": [
        "def RMSE(y_true,y_pred):\n",
        "    return tf.sqrt(tf.reduce_mean(tf.square(tf.subtract(y_pred,y_true))))"
      ],
      "execution_count": 14,
      "outputs": []
    },
    {
      "cell_type": "code",
      "metadata": {
        "id": "5TM_oL68bQe-"
      },
      "source": [
        "# Index(['CORP_ID', 'SHPR_CD', 'ITEM_SEQ', 'ITEM_CD', 'ITEM_AMT', 'BRAND_NM',\n",
        "#        'POST_ZONE', 'month', 'day'])\n",
        "\n",
        "C = dataset.CORP_ID.max()+1\n",
        "S = dataset.SHPR_CD.max()+1\n",
        "IS = dataset.ITEM_SEQ.max()+1\n",
        "I = dataset.ITEM_CD.max()+1\n",
        "IA = int(dataset.ITEM_AMT.max())+1\n",
        "BN = int(dataset.BRAND_NM.max()) + 1\n",
        "P = int(dataset.POST_ZONE.max())+1\n",
        "M = dataset.month.max()+1\n",
        "D = dataset.day.max()+1"
      ],
      "execution_count": 21,
      "outputs": []
    },
    {
      "cell_type": "code",
      "metadata": {
        "colab": {
          "base_uri": "https://localhost:8080/"
        },
        "id": "XeYppmjxbMvF",
        "outputId": "4197009b-fe03-4c07-8ce7-4d09c3b1b0a9"
      },
      "source": [
        "def Unet_MLP_ver1():\n",
        "    corp = Input(shape = (1,))\n",
        "    brand = Input(shape = (1,))\n",
        "    itemcd = Input(shape=(1,))\n",
        "    shpr = Input(shape=(1,))\n",
        "    post = Input(shape=(1,))\n",
        "    itemseq = Input(shape=(1,))\n",
        "    itemamt = Input(shape=(1,))\n",
        "    month = Input(shape=(1,))\n",
        "    day = Input(shape=(1,))\n",
        "\n",
        "    K = 150\n",
        "\n",
        "    C_embedding = Embedding(C,K,embeddings_regularizer=l2())(corp)\n",
        "    BN_embedding = Embedding(BN,K,embeddings_regularizer=l2())(brand)\n",
        "    I_embedding = Embedding(I,K,embeddings_regularizer=l2())(itemcd)\n",
        "    S_embedding = Embedding(S,K,embeddings_regularizer=l2())(shpr)\n",
        "    P_embedding = Embedding(P,K,embeddings_regularizer=l2())(post)\n",
        "    IS_embedding = Embedding(IS,K,embeddings_regularizer=l2())(itemseq)\n",
        "    IA_embedding = Embedding(IA,K,embeddings_regularizer=l2())(itemamt) \n",
        "    M_embedding = Embedding(M,K,embeddings_regularizer=l2())(month)\n",
        "    D_embedding = Embedding(D,K,embeddings_regularizer=l2())(day)\n",
        "\n",
        "\n",
        "\n",
        "    #아래 부분은 경향성 부분인데, 아직 안보이니 pass\n",
        "\n",
        "    IA_bias = Embedding(IA,1,embeddings_regularizer=l2())(itemamt)\n",
        "    IS_bias = Embedding(IS,1,embeddings_regularizer=l2())(itemseq)\n",
        "\n",
        "    #user_bias = Embedding(U.max()+1,1,embeddings_regularizer=l2())(user) #user를 특정 할 수 있는 정보가 있을 때 사용\n",
        "    #sex_bias = Embedding(S,1,embeddings_regularizer=l2())(sex)\n",
        "    #age_bias = Embedding(A,1,embeddings_regularizer=l2())(age)\n",
        "    #hj_bias = Embedding(H,1,embeddings_regularizer=l2())(hj)\n",
        "    #item_bias = Embedding(I,1,embeddings_regularizer=l2())(item_buz)\n",
        "\n",
        "    from tensorflow.keras.layers import Dense,Concatenate,Activation\n",
        "\n",
        "\n",
        "    C_embedding = Flatten()(C_embedding)\n",
        "    BN_embedding = Flatten()(BN_embedding)\n",
        "    I_embedding = Flatten()(I_embedding)\n",
        "    S_embedding = Flatten()(S_embedding)\n",
        "    P_embedding = Flatten()(P_embedding)\n",
        "    IS_embedding = Flatten()(IS_embedding)\n",
        "    IA_embedding = Flatten()(IA_embedding)\n",
        "    M_embedding = Flatten()(M_embedding)\n",
        "    D_embedding = Flatten()(D_embedding)\n",
        "\n",
        "    IA_bias = Flatten()(IA_bias)\n",
        "    IS_bias = Flatten()(IS_bias)\n",
        "    #user_bias = Flatten()(user_bias)\n",
        "    #sex_bias = Flatten()(sex_bias)\n",
        "    #age_bias = Flatten()(age_bias)\n",
        "    #hj_bias = Flatten()(hj_bias)\n",
        "    #item_bias = Flatten()(item_bias)\n",
        "\n",
        "\n",
        "    #user_bias 와 U_embedding을 user를 특정 할 수 있는 정보가 있다면 추가하면 좋다. => 더 높은 정확성과, 적은 오류를 가질 것이다.\n",
        "    R = Concatenate()([C_embedding, BN_embedding, I_embedding, S_embedding, P_embedding, IS_embedding,\n",
        "                      IA_embedding, M_embedding, D_embedding, IA_bias, IS_bias])\n",
        "\n",
        "    n_nodes = 256\n",
        "\n",
        "    UB1 = Dense(n_nodes, activation=\"relu\")(R)\n",
        "    UB2 = Dense(n_nodes * 2, activation=\"relu\")(UB1)\n",
        "    UB3 = Dense(n_nodes * 4, activation=\"relu\")(UB2)\n",
        "    UB4 = Dense(n_nodes * 8, activation=\"relu\")(UB3)\n",
        "    UB5 = Dense(n_nodes * 16, activation=\"relu\")(UB4)\n",
        "\n",
        "    DB5 = Dense(n_nodes * 16, activation=\"relu\")(UB5)\n",
        "    DB5 = Add()([DB5, UB5])\n",
        "    DB4 = Dense(n_nodes * 8, activation=\"relu\")(DB5)\n",
        "    DB4 = Add()([DB4, UB4])\n",
        "    DB3 = Dense(n_nodes * 4, activation=\"relu\")(DB4)\n",
        "    DB3 = Add()([DB3, UB3])\n",
        "    DB2 = Dense(n_nodes * 2, activation=\"relu\")(DB3)\n",
        "    DB2 = Add()([DB2, UB2])\n",
        "    DB1 = Dense(n_nodes * 1, activation=\"relu\")(DB2)\n",
        "    DB1 = Add()([DB1, UB1])\n",
        "\n",
        "    outputs = Dense(1, activation=\"linear\")(DB1)\n",
        "    model = Model(inputs=[corp, brand, itemcd,shpr,post,itemseq,itemamt,month,day],outputs= outputs)\n",
        "    return model\n",
        "model_ver1 = Unet_MLP_ver1()\n",
        "model_ver1.compile(\n",
        "    loss = RMSE,\n",
        "    optimizer = 'Adam',\n",
        "    metrics = [RMSE]\n",
        ")\n",
        "\n",
        "model_ver1.summary()"
      ],
      "execution_count": 91,
      "outputs": [
        {
          "output_type": "stream",
          "name": "stdout",
          "text": [
            "Model: \"model_10\"\n",
            "__________________________________________________________________________________________________\n",
            "Layer (type)                    Output Shape         Param #     Connected to                     \n",
            "==================================================================================================\n",
            "input_93 (InputLayer)           [(None, 1)]          0                                            \n",
            "__________________________________________________________________________________________________\n",
            "input_94 (InputLayer)           [(None, 1)]          0                                            \n",
            "__________________________________________________________________________________________________\n",
            "input_95 (InputLayer)           [(None, 1)]          0                                            \n",
            "__________________________________________________________________________________________________\n",
            "input_96 (InputLayer)           [(None, 1)]          0                                            \n",
            "__________________________________________________________________________________________________\n",
            "input_97 (InputLayer)           [(None, 1)]          0                                            \n",
            "__________________________________________________________________________________________________\n",
            "input_98 (InputLayer)           [(None, 1)]          0                                            \n",
            "__________________________________________________________________________________________________\n",
            "input_99 (InputLayer)           [(None, 1)]          0                                            \n",
            "__________________________________________________________________________________________________\n",
            "input_100 (InputLayer)          [(None, 1)]          0                                            \n",
            "__________________________________________________________________________________________________\n",
            "input_101 (InputLayer)          [(None, 1)]          0                                            \n",
            "__________________________________________________________________________________________________\n",
            "embedding_110 (Embedding)       (None, 1, 150)       300         input_93[0][0]                   \n",
            "__________________________________________________________________________________________________\n",
            "embedding_111 (Embedding)       (None, 1, 150)       450         input_94[0][0]                   \n",
            "__________________________________________________________________________________________________\n",
            "embedding_112 (Embedding)       (None, 1, 150)       2214000     input_95[0][0]                   \n",
            "__________________________________________________________________________________________________\n",
            "embedding_113 (Embedding)       (None, 1, 150)       3600        input_96[0][0]                   \n",
            "__________________________________________________________________________________________________\n",
            "embedding_114 (Embedding)       (None, 1, 150)       15000       input_97[0][0]                   \n",
            "__________________________________________________________________________________________________\n",
            "embedding_115 (Embedding)       (None, 1, 150)       5850        input_98[0][0]                   \n",
            "__________________________________________________________________________________________________\n",
            "embedding_116 (Embedding)       (None, 1, 150)       423450      input_99[0][0]                   \n",
            "__________________________________________________________________________________________________\n",
            "embedding_117 (Embedding)       (None, 1, 150)       1050        input_100[0][0]                  \n",
            "__________________________________________________________________________________________________\n",
            "embedding_118 (Embedding)       (None, 1, 150)       4800        input_101[0][0]                  \n",
            "__________________________________________________________________________________________________\n",
            "embedding_119 (Embedding)       (None, 1, 1)         2823        input_99[0][0]                   \n",
            "__________________________________________________________________________________________________\n",
            "embedding_120 (Embedding)       (None, 1, 1)         39          input_98[0][0]                   \n",
            "__________________________________________________________________________________________________\n",
            "flatten_110 (Flatten)           (None, 150)          0           embedding_110[0][0]              \n",
            "__________________________________________________________________________________________________\n",
            "flatten_111 (Flatten)           (None, 150)          0           embedding_111[0][0]              \n",
            "__________________________________________________________________________________________________\n",
            "flatten_112 (Flatten)           (None, 150)          0           embedding_112[0][0]              \n",
            "__________________________________________________________________________________________________\n",
            "flatten_113 (Flatten)           (None, 150)          0           embedding_113[0][0]              \n",
            "__________________________________________________________________________________________________\n",
            "flatten_114 (Flatten)           (None, 150)          0           embedding_114[0][0]              \n",
            "__________________________________________________________________________________________________\n",
            "flatten_115 (Flatten)           (None, 150)          0           embedding_115[0][0]              \n",
            "__________________________________________________________________________________________________\n",
            "flatten_116 (Flatten)           (None, 150)          0           embedding_116[0][0]              \n",
            "__________________________________________________________________________________________________\n",
            "flatten_117 (Flatten)           (None, 150)          0           embedding_117[0][0]              \n",
            "__________________________________________________________________________________________________\n",
            "flatten_118 (Flatten)           (None, 150)          0           embedding_118[0][0]              \n",
            "__________________________________________________________________________________________________\n",
            "flatten_119 (Flatten)           (None, 1)            0           embedding_119[0][0]              \n",
            "__________________________________________________________________________________________________\n",
            "flatten_120 (Flatten)           (None, 1)            0           embedding_120[0][0]              \n",
            "__________________________________________________________________________________________________\n",
            "concatenate_10 (Concatenate)    (None, 1352)         0           flatten_110[0][0]                \n",
            "                                                                 flatten_111[0][0]                \n",
            "                                                                 flatten_112[0][0]                \n",
            "                                                                 flatten_113[0][0]                \n",
            "                                                                 flatten_114[0][0]                \n",
            "                                                                 flatten_115[0][0]                \n",
            "                                                                 flatten_116[0][0]                \n",
            "                                                                 flatten_117[0][0]                \n",
            "                                                                 flatten_118[0][0]                \n",
            "                                                                 flatten_119[0][0]                \n",
            "                                                                 flatten_120[0][0]                \n",
            "__________________________________________________________________________________________________\n",
            "dense_137 (Dense)               (None, 256)          346368      concatenate_10[0][0]             \n",
            "__________________________________________________________________________________________________\n",
            "dense_138 (Dense)               (None, 512)          131584      dense_137[0][0]                  \n",
            "__________________________________________________________________________________________________\n",
            "dense_139 (Dense)               (None, 1024)         525312      dense_138[0][0]                  \n",
            "__________________________________________________________________________________________________\n",
            "dense_140 (Dense)               (None, 2048)         2099200     dense_139[0][0]                  \n",
            "__________________________________________________________________________________________________\n",
            "dense_141 (Dense)               (None, 4096)         8392704     dense_140[0][0]                  \n",
            "__________________________________________________________________________________________________\n",
            "dense_142 (Dense)               (None, 4096)         16781312    dense_141[0][0]                  \n",
            "__________________________________________________________________________________________________\n",
            "add_56 (Add)                    (None, 4096)         0           dense_142[0][0]                  \n",
            "                                                                 dense_141[0][0]                  \n",
            "__________________________________________________________________________________________________\n",
            "dense_143 (Dense)               (None, 2048)         8390656     add_56[0][0]                     \n",
            "__________________________________________________________________________________________________\n",
            "add_57 (Add)                    (None, 2048)         0           dense_143[0][0]                  \n",
            "                                                                 dense_140[0][0]                  \n",
            "__________________________________________________________________________________________________\n",
            "dense_144 (Dense)               (None, 1024)         2098176     add_57[0][0]                     \n",
            "__________________________________________________________________________________________________\n",
            "add_58 (Add)                    (None, 1024)         0           dense_144[0][0]                  \n",
            "                                                                 dense_139[0][0]                  \n",
            "__________________________________________________________________________________________________\n",
            "dense_145 (Dense)               (None, 512)          524800      add_58[0][0]                     \n",
            "__________________________________________________________________________________________________\n",
            "add_59 (Add)                    (None, 512)          0           dense_145[0][0]                  \n",
            "                                                                 dense_138[0][0]                  \n",
            "__________________________________________________________________________________________________\n",
            "dense_146 (Dense)               (None, 256)          131328      add_59[0][0]                     \n",
            "__________________________________________________________________________________________________\n",
            "add_60 (Add)                    (None, 256)          0           dense_146[0][0]                  \n",
            "                                                                 dense_137[0][0]                  \n",
            "__________________________________________________________________________________________________\n",
            "dense_147 (Dense)               (None, 1)            257         add_60[0][0]                     \n",
            "==================================================================================================\n",
            "Total params: 42,093,059\n",
            "Trainable params: 42,093,059\n",
            "Non-trainable params: 0\n",
            "__________________________________________________________________________________________________\n"
          ]
        }
      ]
    },
    {
      "cell_type": "code",
      "metadata": {
        "colab": {
          "base_uri": "https://localhost:8080/"
        },
        "id": "RLRTCUNIcac2",
        "outputId": "651155fc-91a9-487d-94ca-ccdff7f7c544"
      },
      "source": [
        "def Unet_MLP_ver2():\n",
        "    corp = Input(shape = (1,))\n",
        "    brand = Input(shape = (1,))\n",
        "    itemcd = Input(shape=(1,))\n",
        "    shpr = Input(shape=(1,))\n",
        "    post = Input(shape=(1,))\n",
        "    itemseq = Input(shape=(1,))\n",
        "    itemamt = Input(shape=(1,))\n",
        "    month = Input(shape=(1,))\n",
        "    day = Input(shape=(1,))\n",
        "\n",
        "    K = 150\n",
        "\n",
        "    C_embedding = Embedding(C,K,embeddings_regularizer=l2())(corp)\n",
        "    BN_embedding = Embedding(BN,K,embeddings_regularizer=l2())(brand)\n",
        "    I_embedding = Embedding(I,K,embeddings_regularizer=l2())(itemcd)\n",
        "    S_embedding = Embedding(S,K,embeddings_regularizer=l2())(shpr)\n",
        "    P_embedding = Embedding(P,K,embeddings_regularizer=l2())(post)\n",
        "    IS_embedding = Embedding(IS,K,embeddings_regularizer=l2())(itemseq)\n",
        "    IA_embedding = Embedding(IA,K,embeddings_regularizer=l2())(itemamt) \n",
        "    M_embedding = Embedding(M,K,embeddings_regularizer=l2())(month)\n",
        "    D_embedding = Embedding(D,K,embeddings_regularizer=l2())(day)\n",
        "\n",
        "\n",
        "\n",
        "    #아래 부분은 경향성 부분인데, 아직 안보이니 pass\n",
        "\n",
        "    IA_bias = Embedding(IA,1,embeddings_regularizer=l2())(itemamt)\n",
        "    IS_bias = Embedding(IS,1,embeddings_regularizer=l2())(itemseq)\n",
        "\n",
        "    #user_bias = Embedding(U.max()+1,1,embeddings_regularizer=l2())(user) #user를 특정 할 수 있는 정보가 있을 때 사용\n",
        "    #sex_bias = Embedding(S,1,embeddings_regularizer=l2())(sex)\n",
        "    #age_bias = Embedding(A,1,embeddings_regularizer=l2())(age)\n",
        "    #hj_bias = Embedding(H,1,embeddings_regularizer=l2())(hj)\n",
        "    #item_bias = Embedding(I,1,embeddings_regularizer=l2())(item_buz)\n",
        "\n",
        "\n",
        "\n",
        "    C_embedding = Flatten()(C_embedding)\n",
        "    BN_embedding = Flatten()(BN_embedding)\n",
        "    I_embedding = Flatten()(I_embedding)\n",
        "    S_embedding = Flatten()(S_embedding)\n",
        "    P_embedding = Flatten()(P_embedding)\n",
        "    IS_embedding = Flatten()(IS_embedding)\n",
        "    IA_embedding = Flatten()(IA_embedding)\n",
        "    M_embedding = Flatten()(M_embedding)\n",
        "    D_embedding = Flatten()(D_embedding)\n",
        "\n",
        "    IA_bias = Flatten()(IA_bias)\n",
        "    IS_bias = Flatten()(IS_bias)\n",
        "    #user_bias = Flatten()(user_bias)\n",
        "    #sex_bias = Flatten()(sex_bias)\n",
        "    #age_bias = Flatten()(age_bias)\n",
        "    #hj_bias = Flatten()(hj_bias)\n",
        "    #item_bias = Flatten()(item_bias)\n",
        "\n",
        "\n",
        "    #user_bias 와 U_embedding을 user를 특정 할 수 있는 정보가 있다면 추가하면 좋다. => 더 높은 정확성과, 적은 오류를 가질 것이다.\n",
        "    R = Concatenate()([C_embedding, BN_embedding, I_embedding, S_embedding, P_embedding, IS_embedding,\n",
        "                      IA_embedding, M_embedding, D_embedding, IA_bias, IS_bias])\n",
        "\n",
        "    n_nodes = 128\n",
        "    drop_rate = 0.05\n",
        "    def up_block(input, n_nodes = 128):\n",
        "      block = Dense(n_nodes, activation=\"relu\")(input)\n",
        "      block = BatchNormalization(axis=1)(block)\n",
        "      return block\n",
        "    def down_block(input, connect_block, n_nodes = 256, drop_rate = drop_rate):\n",
        "      # block = LayerNormalization()(input)\n",
        "      block = Dense(n_nodes, activation=\"relu\")(input)\n",
        "      block = BatchNormalization(axis=1)(block)\n",
        "      block = Add()([block, connect_block])\n",
        "      block = Dropout(drop_rate)(block)\n",
        "      return block\n",
        "\n",
        "\n",
        "    UB1 = up_block(R, n_nodes)\n",
        "    UB2 = up_block(UB1, n_nodes * 2)\n",
        "    UB3 = up_block(UB2, n_nodes * 4)\n",
        "    UB4 = up_block(UB3, n_nodes * 8)\n",
        "    UB5 = up_block(UB4, n_nodes * 16)\n",
        "    UB6 = up_block(UB5, n_nodes * 32)\n",
        "    UB7 = up_block(UB6, n_nodes * 64)\n",
        "\n",
        "    DB6 = down_block(UB7, UB6, n_nodes * 32)\n",
        "    DB5 = down_block(DB6, UB5, n_nodes * 16)\n",
        "    DB4 = down_block(DB5, UB4, n_nodes * 8)\n",
        "    DB3 = down_block(DB4, UB3, n_nodes * 4)\n",
        "    DB2 = down_block(DB3, UB2, n_nodes * 2)\n",
        "    DB1 = down_block(DB2, UB1, n_nodes)\n",
        "\n",
        "    outputs = Dense(1, activation=\"linear\")(DB1)\n",
        "    model = Model(inputs=[corp, brand, itemcd,shpr,post,itemseq,itemamt,month,day],outputs= outputs)\n",
        "    return model\n",
        "\n",
        "model_ver2 = Embedding_Unet_MLP()\n",
        "model_ver2.compile(\n",
        "    loss = RMSE,\n",
        "    optimizer = 'Adam',\n",
        "    metrics = [RMSE]\n",
        ")\n",
        "\n",
        "model_ver2.summary()"
      ],
      "execution_count": 123,
      "outputs": [
        {
          "output_type": "stream",
          "name": "stdout",
          "text": [
            "Model: \"model_13\"\n",
            "__________________________________________________________________________________________________\n",
            "Layer (type)                    Output Shape         Param #     Connected to                     \n",
            "==================================================================================================\n",
            "input_120 (InputLayer)          [(None, 1)]          0                                            \n",
            "__________________________________________________________________________________________________\n",
            "input_121 (InputLayer)          [(None, 1)]          0                                            \n",
            "__________________________________________________________________________________________________\n",
            "input_122 (InputLayer)          [(None, 1)]          0                                            \n",
            "__________________________________________________________________________________________________\n",
            "input_123 (InputLayer)          [(None, 1)]          0                                            \n",
            "__________________________________________________________________________________________________\n",
            "input_124 (InputLayer)          [(None, 1)]          0                                            \n",
            "__________________________________________________________________________________________________\n",
            "input_125 (InputLayer)          [(None, 1)]          0                                            \n",
            "__________________________________________________________________________________________________\n",
            "input_126 (InputLayer)          [(None, 1)]          0                                            \n",
            "__________________________________________________________________________________________________\n",
            "input_127 (InputLayer)          [(None, 1)]          0                                            \n",
            "__________________________________________________________________________________________________\n",
            "input_128 (InputLayer)          [(None, 1)]          0                                            \n",
            "__________________________________________________________________________________________________\n",
            "embedding_143 (Embedding)       (None, 1, 150)       300         input_120[0][0]                  \n",
            "__________________________________________________________________________________________________\n",
            "embedding_144 (Embedding)       (None, 1, 150)       450         input_121[0][0]                  \n",
            "__________________________________________________________________________________________________\n",
            "embedding_145 (Embedding)       (None, 1, 150)       2214000     input_122[0][0]                  \n",
            "__________________________________________________________________________________________________\n",
            "embedding_146 (Embedding)       (None, 1, 150)       3600        input_123[0][0]                  \n",
            "__________________________________________________________________________________________________\n",
            "embedding_147 (Embedding)       (None, 1, 150)       15000       input_124[0][0]                  \n",
            "__________________________________________________________________________________________________\n",
            "embedding_148 (Embedding)       (None, 1, 150)       5850        input_125[0][0]                  \n",
            "__________________________________________________________________________________________________\n",
            "embedding_149 (Embedding)       (None, 1, 150)       423450      input_126[0][0]                  \n",
            "__________________________________________________________________________________________________\n",
            "embedding_150 (Embedding)       (None, 1, 150)       1050        input_127[0][0]                  \n",
            "__________________________________________________________________________________________________\n",
            "embedding_151 (Embedding)       (None, 1, 150)       4800        input_128[0][0]                  \n",
            "__________________________________________________________________________________________________\n",
            "embedding_152 (Embedding)       (None, 1, 1)         2823        input_126[0][0]                  \n",
            "__________________________________________________________________________________________________\n",
            "embedding_153 (Embedding)       (None, 1, 1)         39          input_125[0][0]                  \n",
            "__________________________________________________________________________________________________\n",
            "flatten_143 (Flatten)           (None, 150)          0           embedding_143[0][0]              \n",
            "__________________________________________________________________________________________________\n",
            "flatten_144 (Flatten)           (None, 150)          0           embedding_144[0][0]              \n",
            "__________________________________________________________________________________________________\n",
            "flatten_145 (Flatten)           (None, 150)          0           embedding_145[0][0]              \n",
            "__________________________________________________________________________________________________\n",
            "flatten_146 (Flatten)           (None, 150)          0           embedding_146[0][0]              \n",
            "__________________________________________________________________________________________________\n",
            "flatten_147 (Flatten)           (None, 150)          0           embedding_147[0][0]              \n",
            "__________________________________________________________________________________________________\n",
            "flatten_148 (Flatten)           (None, 150)          0           embedding_148[0][0]              \n",
            "__________________________________________________________________________________________________\n",
            "flatten_149 (Flatten)           (None, 150)          0           embedding_149[0][0]              \n",
            "__________________________________________________________________________________________________\n",
            "flatten_150 (Flatten)           (None, 150)          0           embedding_150[0][0]              \n",
            "__________________________________________________________________________________________________\n",
            "flatten_151 (Flatten)           (None, 150)          0           embedding_151[0][0]              \n",
            "__________________________________________________________________________________________________\n",
            "flatten_152 (Flatten)           (None, 1)            0           embedding_152[0][0]              \n",
            "__________________________________________________________________________________________________\n",
            "flatten_153 (Flatten)           (None, 1)            0           embedding_153[0][0]              \n",
            "__________________________________________________________________________________________________\n",
            "concatenate_13 (Concatenate)    (None, 1352)         0           flatten_143[0][0]                \n",
            "                                                                 flatten_144[0][0]                \n",
            "                                                                 flatten_145[0][0]                \n",
            "                                                                 flatten_146[0][0]                \n",
            "                                                                 flatten_147[0][0]                \n",
            "                                                                 flatten_148[0][0]                \n",
            "                                                                 flatten_149[0][0]                \n",
            "                                                                 flatten_150[0][0]                \n",
            "                                                                 flatten_151[0][0]                \n",
            "                                                                 flatten_152[0][0]                \n",
            "                                                                 flatten_153[0][0]                \n",
            "__________________________________________________________________________________________________\n",
            "dense_176 (Dense)               (None, 128)          173184      concatenate_13[0][0]             \n",
            "__________________________________________________________________________________________________\n",
            "batch_normalization_111 (BatchN (None, 128)          512         dense_176[0][0]                  \n",
            "__________________________________________________________________________________________________\n",
            "dense_177 (Dense)               (None, 256)          33024       batch_normalization_111[0][0]    \n",
            "__________________________________________________________________________________________________\n",
            "batch_normalization_112 (BatchN (None, 256)          1024        dense_177[0][0]                  \n",
            "__________________________________________________________________________________________________\n",
            "dense_178 (Dense)               (None, 512)          131584      batch_normalization_112[0][0]    \n",
            "__________________________________________________________________________________________________\n",
            "batch_normalization_113 (BatchN (None, 512)          2048        dense_178[0][0]                  \n",
            "__________________________________________________________________________________________________\n",
            "dense_179 (Dense)               (None, 1024)         525312      batch_normalization_113[0][0]    \n",
            "__________________________________________________________________________________________________\n",
            "batch_normalization_114 (BatchN (None, 1024)         4096        dense_179[0][0]                  \n",
            "__________________________________________________________________________________________________\n",
            "dense_180 (Dense)               (None, 2048)         2099200     batch_normalization_114[0][0]    \n",
            "__________________________________________________________________________________________________\n",
            "batch_normalization_115 (BatchN (None, 2048)         8192        dense_180[0][0]                  \n",
            "__________________________________________________________________________________________________\n",
            "dense_181 (Dense)               (None, 4096)         8392704     batch_normalization_115[0][0]    \n",
            "__________________________________________________________________________________________________\n",
            "batch_normalization_116 (BatchN (None, 4096)         16384       dense_181[0][0]                  \n",
            "__________________________________________________________________________________________________\n",
            "dense_182 (Dense)               (None, 8192)         33562624    batch_normalization_116[0][0]    \n",
            "__________________________________________________________________________________________________\n",
            "batch_normalization_117 (BatchN (None, 8192)         32768       dense_182[0][0]                  \n",
            "__________________________________________________________________________________________________\n",
            "dense_183 (Dense)               (None, 4096)         33558528    batch_normalization_117[0][0]    \n",
            "__________________________________________________________________________________________________\n",
            "batch_normalization_118 (BatchN (None, 4096)         16384       dense_183[0][0]                  \n",
            "__________________________________________________________________________________________________\n",
            "add_73 (Add)                    (None, 4096)         0           batch_normalization_118[0][0]    \n",
            "                                                                 batch_normalization_116[0][0]    \n",
            "__________________________________________________________________________________________________\n",
            "dense_184 (Dense)               (None, 2048)         8390656     add_73[0][0]                     \n",
            "__________________________________________________________________________________________________\n",
            "batch_normalization_119 (BatchN (None, 2048)         8192        dense_184[0][0]                  \n",
            "__________________________________________________________________________________________________\n",
            "add_74 (Add)                    (None, 2048)         0           batch_normalization_119[0][0]    \n",
            "                                                                 batch_normalization_115[0][0]    \n",
            "__________________________________________________________________________________________________\n",
            "dense_185 (Dense)               (None, 1024)         2098176     add_74[0][0]                     \n",
            "__________________________________________________________________________________________________\n",
            "batch_normalization_120 (BatchN (None, 1024)         4096        dense_185[0][0]                  \n",
            "__________________________________________________________________________________________________\n",
            "add_75 (Add)                    (None, 1024)         0           batch_normalization_120[0][0]    \n",
            "                                                                 batch_normalization_114[0][0]    \n",
            "__________________________________________________________________________________________________\n",
            "dense_186 (Dense)               (None, 512)          524800      add_75[0][0]                     \n",
            "__________________________________________________________________________________________________\n",
            "batch_normalization_121 (BatchN (None, 512)          2048        dense_186[0][0]                  \n",
            "__________________________________________________________________________________________________\n",
            "add_76 (Add)                    (None, 512)          0           batch_normalization_121[0][0]    \n",
            "                                                                 batch_normalization_113[0][0]    \n",
            "__________________________________________________________________________________________________\n",
            "dense_187 (Dense)               (None, 256)          131328      add_76[0][0]                     \n",
            "__________________________________________________________________________________________________\n",
            "batch_normalization_122 (BatchN (None, 256)          1024        dense_187[0][0]                  \n",
            "__________________________________________________________________________________________________\n",
            "add_77 (Add)                    (None, 256)          0           batch_normalization_122[0][0]    \n",
            "                                                                 batch_normalization_112[0][0]    \n",
            "__________________________________________________________________________________________________\n",
            "dense_188 (Dense)               (None, 128)          32896       add_77[0][0]                     \n",
            "__________________________________________________________________________________________________\n",
            "batch_normalization_123 (BatchN (None, 128)          512         dense_188[0][0]                  \n",
            "__________________________________________________________________________________________________\n",
            "add_78 (Add)                    (None, 128)          0           batch_normalization_123[0][0]    \n",
            "                                                                 batch_normalization_111[0][0]    \n",
            "__________________________________________________________________________________________________\n",
            "dense_189 (Dense)               (None, 1)            129         add_78[0][0]                     \n",
            "==================================================================================================\n",
            "Total params: 92,422,787\n",
            "Trainable params: 92,374,147\n",
            "Non-trainable params: 48,640\n",
            "__________________________________________________________________________________________________\n"
          ]
        }
      ]
    },
    {
      "cell_type": "code",
      "metadata": {
        "id": "SdgjhfRMf2T6"
      },
      "source": [
        "# [X_valid.CORP_ID. X_valid.BRAMD_NM, X_valid.ITEM_CD, X_valid.SHPR_CD, X_valid.POST_ZONE, X_valid.ITEM_SEQ, X_valid.ITEM_AMT, X_valid.month, X_valid.day]"
      ],
      "execution_count": null,
      "outputs": []
    },
    {
      "cell_type": "code",
      "metadata": {
        "id": "ShI1HkvxXpsj"
      },
      "source": [
        "callbacks_list = [\n",
        "    tf.keras.callbacks.ModelCheckpoint(\n",
        "        filepath = '/content/gdrive/MyDrive/Dataset/CJ AI/layer_7_n_nodes_128_lossF_rmse_batchrnorm_drop_rate_0.05_9features.h5',\n",
        "        monitor = 'val_loss',\n",
        "        save_best_only=True\n",
        "    )]"
      ],
      "execution_count": 126,
      "outputs": []
    },
    {
      "cell_type": "code",
      "metadata": {
        "colab": {
          "base_uri": "https://localhost:8080/",
          "height": 1000
        },
        "id": "KcH1FxFua15c",
        "outputId": "835b0e9f-da8f-4edd-bc2e-fbcadd1ce4e7"
      },
      "source": [
        "model_ver2.fit(x = (X_train.CORP_ID, X_train.BRAND_NM, X_train.ITEM_CD,X_train.SHPR_CD,X_train.POST_ZONE,X_train.ITEM_SEQ,X_train.ITEM_AMT,X_train.month,X_train.day),\n",
        "          y = Y_train,\n",
        "          validation_split = 0.2,\n",
        "          batch_size = 10000,\n",
        "          shuffle = True,\n",
        "          epochs = 100,\n",
        "          callbacks = callbacks_list)"
      ],
      "execution_count": 127,
      "outputs": [
        {
          "output_type": "stream",
          "name": "stdout",
          "text": [
            "Epoch 1/100\n",
            "85/85 [==============================] - 40s 470ms/step - loss: 4.5861 - RMSE: 1.9555 - val_loss: 2.0077 - val_RMSE: 1.8229\n"
          ]
        },
        {
          "output_type": "stream",
          "name": "stderr",
          "text": [
            "/usr/local/lib/python3.7/dist-packages/keras/utils/generic_utils.py:497: CustomMaskWarning: Custom mask layers require a config and must override get_config. When loading, the custom mask layer must be passed to the custom_objects argument.\n",
            "  category=CustomMaskWarning)\n"
          ]
        },
        {
          "output_type": "stream",
          "name": "stdout",
          "text": [
            "Epoch 2/100\n",
            "85/85 [==============================] - 40s 465ms/step - loss: 1.6965 - RMSE: 1.4866 - val_loss: 2.0937 - val_RMSE: 1.9100\n",
            "Epoch 3/100\n",
            "85/85 [==============================] - 40s 465ms/step - loss: 1.4260 - RMSE: 1.2109 - val_loss: 2.2453 - val_RMSE: 2.0569\n",
            "Epoch 4/100\n",
            "85/85 [==============================] - 40s 466ms/step - loss: 1.3636 - RMSE: 1.1511 - val_loss: 2.0517 - val_RMSE: 1.8691\n",
            "Epoch 5/100\n",
            "85/85 [==============================] - 40s 465ms/step - loss: 1.2537 - RMSE: 1.0409 - val_loss: 2.1823 - val_RMSE: 1.9933\n",
            "Epoch 6/100\n",
            "85/85 [==============================] - 40s 465ms/step - loss: 1.1910 - RMSE: 0.9769 - val_loss: 1.8676 - val_RMSE: 1.6830\n",
            "Epoch 7/100\n",
            "85/85 [==============================] - 39s 465ms/step - loss: 1.1101 - RMSE: 0.8998 - val_loss: 1.7052 - val_RMSE: 1.5069\n",
            "Epoch 8/100\n",
            "85/85 [==============================] - 39s 465ms/step - loss: 1.0229 - RMSE: 0.8095 - val_loss: 1.3593 - val_RMSE: 1.1621\n",
            "Epoch 9/100\n",
            "85/85 [==============================] - 39s 464ms/step - loss: 0.8986 - RMSE: 0.6941 - val_loss: 1.3384 - val_RMSE: 1.1608\n",
            "Epoch 10/100\n",
            "85/85 [==============================] - 39s 464ms/step - loss: 0.8981 - RMSE: 0.6961 - val_loss: 1.3295 - val_RMSE: 1.1474\n",
            "Epoch 11/100\n",
            "85/85 [==============================] - 39s 464ms/step - loss: 0.9759 - RMSE: 0.7767 - val_loss: 4.6589 - val_RMSE: 4.4527\n",
            "Epoch 12/100\n",
            "85/85 [==============================] - 39s 464ms/step - loss: 1.0070 - RMSE: 0.7982 - val_loss: 1.2959 - val_RMSE: 1.0960\n",
            "Epoch 13/100\n",
            "85/85 [==============================] - 39s 464ms/step - loss: 0.8760 - RMSE: 0.6774 - val_loss: 1.3644 - val_RMSE: 1.1743\n",
            "Epoch 14/100\n",
            "85/85 [==============================] - 39s 464ms/step - loss: 0.7881 - RMSE: 0.5930 - val_loss: 1.4287 - val_RMSE: 1.2435\n",
            "Epoch 15/100\n",
            "85/85 [==============================] - 39s 464ms/step - loss: 0.9378 - RMSE: 0.7292 - val_loss: 1.3239 - val_RMSE: 1.1190\n",
            "Epoch 16/100\n",
            "85/85 [==============================] - 39s 464ms/step - loss: 0.7582 - RMSE: 0.5525 - val_loss: 1.3728 - val_RMSE: 1.1775\n",
            "Epoch 17/100\n",
            "85/85 [==============================] - 39s 464ms/step - loss: 0.7206 - RMSE: 0.5231 - val_loss: 1.0587 - val_RMSE: 0.8640\n",
            "Epoch 18/100\n",
            "85/85 [==============================] - 39s 464ms/step - loss: 0.6567 - RMSE: 0.4664 - val_loss: 1.1865 - val_RMSE: 0.9911\n",
            "Epoch 19/100\n",
            "85/85 [==============================] - 39s 463ms/step - loss: 0.7015 - RMSE: 0.5191 - val_loss: 1.1744 - val_RMSE: 0.9967\n",
            "Epoch 20/100\n",
            "85/85 [==============================] - 39s 464ms/step - loss: 0.6732 - RMSE: 0.4920 - val_loss: 1.5038 - val_RMSE: 1.3147\n",
            "Epoch 21/100\n",
            "85/85 [==============================] - 39s 464ms/step - loss: 0.7337 - RMSE: 0.5513 - val_loss: 1.1391 - val_RMSE: 0.9570\n",
            "Epoch 22/100\n",
            "85/85 [==============================] - 39s 463ms/step - loss: 0.6213 - RMSE: 0.4450 - val_loss: 1.0249 - val_RMSE: 0.8578\n",
            "Epoch 23/100\n",
            "85/85 [==============================] - 39s 463ms/step - loss: 0.5666 - RMSE: 0.3983 - val_loss: 1.0644 - val_RMSE: 0.8952\n",
            "Epoch 24/100\n",
            "85/85 [==============================] - 39s 464ms/step - loss: 0.5908 - RMSE: 0.4232 - val_loss: 1.1041 - val_RMSE: 0.9443\n",
            "Epoch 25/100\n",
            "85/85 [==============================] - 39s 464ms/step - loss: 0.5994 - RMSE: 0.4333 - val_loss: 0.9876 - val_RMSE: 0.8444\n",
            "Epoch 26/100\n",
            "85/85 [==============================] - 39s 463ms/step - loss: 0.5581 - RMSE: 0.3968 - val_loss: 0.9533 - val_RMSE: 0.8070\n",
            "Epoch 27/100\n",
            "85/85 [==============================] - 39s 463ms/step - loss: 0.6553 - RMSE: 0.4782 - val_loss: 1.1391 - val_RMSE: 0.9536\n",
            "Epoch 28/100\n",
            "85/85 [==============================] - 39s 463ms/step - loss: 0.7077 - RMSE: 0.5283 - val_loss: 1.4944 - val_RMSE: 1.3275\n",
            "Epoch 29/100\n",
            "85/85 [==============================] - 39s 463ms/step - loss: 0.6535 - RMSE: 0.4863 - val_loss: 1.1681 - val_RMSE: 1.0133\n",
            "Epoch 30/100\n",
            "85/85 [==============================] - 39s 463ms/step - loss: 0.6387 - RMSE: 0.4734 - val_loss: 1.1246 - val_RMSE: 0.9595\n",
            "Epoch 31/100\n",
            "85/85 [==============================] - 39s 464ms/step - loss: 0.6352 - RMSE: 0.4672 - val_loss: 1.1583 - val_RMSE: 1.0001\n",
            "Epoch 32/100\n",
            "85/85 [==============================] - 39s 464ms/step - loss: 0.5338 - RMSE: 0.3690 - val_loss: 0.9243 - val_RMSE: 0.7701\n",
            "Epoch 33/100\n",
            "85/85 [==============================] - 39s 463ms/step - loss: 0.5292 - RMSE: 0.3696 - val_loss: 1.2216 - val_RMSE: 1.0660\n",
            "Epoch 34/100\n",
            "20/85 [======>.......................] - ETA: 27s - loss: 0.5452 - RMSE: 0.3836"
          ]
        },
        {
          "output_type": "error",
          "ename": "KeyboardInterrupt",
          "evalue": "ignored",
          "traceback": [
            "\u001b[0;31m---------------------------------------------------------------------------\u001b[0m",
            "\u001b[0;31mKeyboardInterrupt\u001b[0m                         Traceback (most recent call last)",
            "\u001b[0;32m<ipython-input-127-d41649835c04>\u001b[0m in \u001b[0;36m<module>\u001b[0;34m()\u001b[0m\n\u001b[1;32m      5\u001b[0m           \u001b[0mshuffle\u001b[0m \u001b[0;34m=\u001b[0m \u001b[0;32mTrue\u001b[0m\u001b[0;34m,\u001b[0m\u001b[0;34m\u001b[0m\u001b[0;34m\u001b[0m\u001b[0m\n\u001b[1;32m      6\u001b[0m           \u001b[0mepochs\u001b[0m \u001b[0;34m=\u001b[0m \u001b[0;36m100\u001b[0m\u001b[0;34m,\u001b[0m\u001b[0;34m\u001b[0m\u001b[0;34m\u001b[0m\u001b[0m\n\u001b[0;32m----> 7\u001b[0;31m           callbacks = callbacks_list)\n\u001b[0m",
            "\u001b[0;32m/usr/local/lib/python3.7/dist-packages/keras/engine/training.py\u001b[0m in \u001b[0;36mfit\u001b[0;34m(self, x, y, batch_size, epochs, verbose, callbacks, validation_split, validation_data, shuffle, class_weight, sample_weight, initial_epoch, steps_per_epoch, validation_steps, validation_batch_size, validation_freq, max_queue_size, workers, use_multiprocessing)\u001b[0m\n\u001b[1;32m   1187\u001b[0m               \u001b[0mlogs\u001b[0m \u001b[0;34m=\u001b[0m \u001b[0mtmp_logs\u001b[0m  \u001b[0;31m# No error, now safe to assign to logs.\u001b[0m\u001b[0;34m\u001b[0m\u001b[0;34m\u001b[0m\u001b[0m\n\u001b[1;32m   1188\u001b[0m               \u001b[0mend_step\u001b[0m \u001b[0;34m=\u001b[0m \u001b[0mstep\u001b[0m \u001b[0;34m+\u001b[0m \u001b[0mdata_handler\u001b[0m\u001b[0;34m.\u001b[0m\u001b[0mstep_increment\u001b[0m\u001b[0;34m\u001b[0m\u001b[0;34m\u001b[0m\u001b[0m\n\u001b[0;32m-> 1189\u001b[0;31m               \u001b[0mcallbacks\u001b[0m\u001b[0;34m.\u001b[0m\u001b[0mon_train_batch_end\u001b[0m\u001b[0;34m(\u001b[0m\u001b[0mend_step\u001b[0m\u001b[0;34m,\u001b[0m \u001b[0mlogs\u001b[0m\u001b[0;34m)\u001b[0m\u001b[0;34m\u001b[0m\u001b[0;34m\u001b[0m\u001b[0m\n\u001b[0m\u001b[1;32m   1190\u001b[0m               \u001b[0;32mif\u001b[0m \u001b[0mself\u001b[0m\u001b[0;34m.\u001b[0m\u001b[0mstop_training\u001b[0m\u001b[0;34m:\u001b[0m\u001b[0;34m\u001b[0m\u001b[0;34m\u001b[0m\u001b[0m\n\u001b[1;32m   1191\u001b[0m                 \u001b[0;32mbreak\u001b[0m\u001b[0;34m\u001b[0m\u001b[0;34m\u001b[0m\u001b[0m\n",
            "\u001b[0;32m/usr/local/lib/python3.7/dist-packages/keras/callbacks.py\u001b[0m in \u001b[0;36mon_train_batch_end\u001b[0;34m(self, batch, logs)\u001b[0m\n\u001b[1;32m    433\u001b[0m     \"\"\"\n\u001b[1;32m    434\u001b[0m     \u001b[0;32mif\u001b[0m \u001b[0mself\u001b[0m\u001b[0;34m.\u001b[0m\u001b[0m_should_call_train_batch_hooks\u001b[0m\u001b[0;34m:\u001b[0m\u001b[0;34m\u001b[0m\u001b[0;34m\u001b[0m\u001b[0m\n\u001b[0;32m--> 435\u001b[0;31m       \u001b[0mself\u001b[0m\u001b[0;34m.\u001b[0m\u001b[0m_call_batch_hook\u001b[0m\u001b[0;34m(\u001b[0m\u001b[0mModeKeys\u001b[0m\u001b[0;34m.\u001b[0m\u001b[0mTRAIN\u001b[0m\u001b[0;34m,\u001b[0m \u001b[0;34m'end'\u001b[0m\u001b[0;34m,\u001b[0m \u001b[0mbatch\u001b[0m\u001b[0;34m,\u001b[0m \u001b[0mlogs\u001b[0m\u001b[0;34m=\u001b[0m\u001b[0mlogs\u001b[0m\u001b[0;34m)\u001b[0m\u001b[0;34m\u001b[0m\u001b[0;34m\u001b[0m\u001b[0m\n\u001b[0m\u001b[1;32m    436\u001b[0m \u001b[0;34m\u001b[0m\u001b[0m\n\u001b[1;32m    437\u001b[0m   \u001b[0;32mdef\u001b[0m \u001b[0mon_test_batch_begin\u001b[0m\u001b[0;34m(\u001b[0m\u001b[0mself\u001b[0m\u001b[0;34m,\u001b[0m \u001b[0mbatch\u001b[0m\u001b[0;34m,\u001b[0m \u001b[0mlogs\u001b[0m\u001b[0;34m=\u001b[0m\u001b[0;32mNone\u001b[0m\u001b[0;34m)\u001b[0m\u001b[0;34m:\u001b[0m\u001b[0;34m\u001b[0m\u001b[0;34m\u001b[0m\u001b[0m\n",
            "\u001b[0;32m/usr/local/lib/python3.7/dist-packages/keras/callbacks.py\u001b[0m in \u001b[0;36m_call_batch_hook\u001b[0;34m(self, mode, hook, batch, logs)\u001b[0m\n\u001b[1;32m    293\u001b[0m       \u001b[0mself\u001b[0m\u001b[0;34m.\u001b[0m\u001b[0m_call_batch_begin_hook\u001b[0m\u001b[0;34m(\u001b[0m\u001b[0mmode\u001b[0m\u001b[0;34m,\u001b[0m \u001b[0mbatch\u001b[0m\u001b[0;34m,\u001b[0m \u001b[0mlogs\u001b[0m\u001b[0;34m)\u001b[0m\u001b[0;34m\u001b[0m\u001b[0;34m\u001b[0m\u001b[0m\n\u001b[1;32m    294\u001b[0m     \u001b[0;32melif\u001b[0m \u001b[0mhook\u001b[0m \u001b[0;34m==\u001b[0m \u001b[0;34m'end'\u001b[0m\u001b[0;34m:\u001b[0m\u001b[0;34m\u001b[0m\u001b[0;34m\u001b[0m\u001b[0m\n\u001b[0;32m--> 295\u001b[0;31m       \u001b[0mself\u001b[0m\u001b[0;34m.\u001b[0m\u001b[0m_call_batch_end_hook\u001b[0m\u001b[0;34m(\u001b[0m\u001b[0mmode\u001b[0m\u001b[0;34m,\u001b[0m \u001b[0mbatch\u001b[0m\u001b[0;34m,\u001b[0m \u001b[0mlogs\u001b[0m\u001b[0;34m)\u001b[0m\u001b[0;34m\u001b[0m\u001b[0;34m\u001b[0m\u001b[0m\n\u001b[0m\u001b[1;32m    296\u001b[0m     \u001b[0;32melse\u001b[0m\u001b[0;34m:\u001b[0m\u001b[0;34m\u001b[0m\u001b[0;34m\u001b[0m\u001b[0m\n\u001b[1;32m    297\u001b[0m       \u001b[0;32mraise\u001b[0m \u001b[0mValueError\u001b[0m\u001b[0;34m(\u001b[0m\u001b[0;34m'Unrecognized hook: {}'\u001b[0m\u001b[0;34m.\u001b[0m\u001b[0mformat\u001b[0m\u001b[0;34m(\u001b[0m\u001b[0mhook\u001b[0m\u001b[0;34m)\u001b[0m\u001b[0;34m)\u001b[0m\u001b[0;34m\u001b[0m\u001b[0;34m\u001b[0m\u001b[0m\n",
            "\u001b[0;32m/usr/local/lib/python3.7/dist-packages/keras/callbacks.py\u001b[0m in \u001b[0;36m_call_batch_end_hook\u001b[0;34m(self, mode, batch, logs)\u001b[0m\n\u001b[1;32m    313\u001b[0m       \u001b[0mself\u001b[0m\u001b[0;34m.\u001b[0m\u001b[0m_batch_times\u001b[0m\u001b[0;34m.\u001b[0m\u001b[0mappend\u001b[0m\u001b[0;34m(\u001b[0m\u001b[0mbatch_time\u001b[0m\u001b[0;34m)\u001b[0m\u001b[0;34m\u001b[0m\u001b[0;34m\u001b[0m\u001b[0m\n\u001b[1;32m    314\u001b[0m \u001b[0;34m\u001b[0m\u001b[0m\n\u001b[0;32m--> 315\u001b[0;31m     \u001b[0mself\u001b[0m\u001b[0;34m.\u001b[0m\u001b[0m_call_batch_hook_helper\u001b[0m\u001b[0;34m(\u001b[0m\u001b[0mhook_name\u001b[0m\u001b[0;34m,\u001b[0m \u001b[0mbatch\u001b[0m\u001b[0;34m,\u001b[0m \u001b[0mlogs\u001b[0m\u001b[0;34m)\u001b[0m\u001b[0;34m\u001b[0m\u001b[0;34m\u001b[0m\u001b[0m\n\u001b[0m\u001b[1;32m    316\u001b[0m \u001b[0;34m\u001b[0m\u001b[0m\n\u001b[1;32m    317\u001b[0m     \u001b[0;32mif\u001b[0m \u001b[0mlen\u001b[0m\u001b[0;34m(\u001b[0m\u001b[0mself\u001b[0m\u001b[0;34m.\u001b[0m\u001b[0m_batch_times\u001b[0m\u001b[0;34m)\u001b[0m \u001b[0;34m>=\u001b[0m \u001b[0mself\u001b[0m\u001b[0;34m.\u001b[0m\u001b[0m_num_batches_for_timing_check\u001b[0m\u001b[0;34m:\u001b[0m\u001b[0;34m\u001b[0m\u001b[0;34m\u001b[0m\u001b[0m\n",
            "\u001b[0;32m/usr/local/lib/python3.7/dist-packages/keras/callbacks.py\u001b[0m in \u001b[0;36m_call_batch_hook_helper\u001b[0;34m(self, hook_name, batch, logs)\u001b[0m\n\u001b[1;32m    351\u001b[0m     \u001b[0;32mfor\u001b[0m \u001b[0mcallback\u001b[0m \u001b[0;32min\u001b[0m \u001b[0mself\u001b[0m\u001b[0;34m.\u001b[0m\u001b[0mcallbacks\u001b[0m\u001b[0;34m:\u001b[0m\u001b[0;34m\u001b[0m\u001b[0;34m\u001b[0m\u001b[0m\n\u001b[1;32m    352\u001b[0m       \u001b[0mhook\u001b[0m \u001b[0;34m=\u001b[0m \u001b[0mgetattr\u001b[0m\u001b[0;34m(\u001b[0m\u001b[0mcallback\u001b[0m\u001b[0;34m,\u001b[0m \u001b[0mhook_name\u001b[0m\u001b[0;34m)\u001b[0m\u001b[0;34m\u001b[0m\u001b[0;34m\u001b[0m\u001b[0m\n\u001b[0;32m--> 353\u001b[0;31m       \u001b[0mhook\u001b[0m\u001b[0;34m(\u001b[0m\u001b[0mbatch\u001b[0m\u001b[0;34m,\u001b[0m \u001b[0mlogs\u001b[0m\u001b[0;34m)\u001b[0m\u001b[0;34m\u001b[0m\u001b[0;34m\u001b[0m\u001b[0m\n\u001b[0m\u001b[1;32m    354\u001b[0m \u001b[0;34m\u001b[0m\u001b[0m\n\u001b[1;32m    355\u001b[0m     \u001b[0;32mif\u001b[0m \u001b[0mself\u001b[0m\u001b[0;34m.\u001b[0m\u001b[0m_check_timing\u001b[0m\u001b[0;34m:\u001b[0m\u001b[0;34m\u001b[0m\u001b[0;34m\u001b[0m\u001b[0m\n",
            "\u001b[0;32m/usr/local/lib/python3.7/dist-packages/keras/callbacks.py\u001b[0m in \u001b[0;36mon_train_batch_end\u001b[0;34m(self, batch, logs)\u001b[0m\n\u001b[1;32m   1026\u001b[0m \u001b[0;34m\u001b[0m\u001b[0m\n\u001b[1;32m   1027\u001b[0m   \u001b[0;32mdef\u001b[0m \u001b[0mon_train_batch_end\u001b[0m\u001b[0;34m(\u001b[0m\u001b[0mself\u001b[0m\u001b[0;34m,\u001b[0m \u001b[0mbatch\u001b[0m\u001b[0;34m,\u001b[0m \u001b[0mlogs\u001b[0m\u001b[0;34m=\u001b[0m\u001b[0;32mNone\u001b[0m\u001b[0;34m)\u001b[0m\u001b[0;34m:\u001b[0m\u001b[0;34m\u001b[0m\u001b[0;34m\u001b[0m\u001b[0m\n\u001b[0;32m-> 1028\u001b[0;31m     \u001b[0mself\u001b[0m\u001b[0;34m.\u001b[0m\u001b[0m_batch_update_progbar\u001b[0m\u001b[0;34m(\u001b[0m\u001b[0mbatch\u001b[0m\u001b[0;34m,\u001b[0m \u001b[0mlogs\u001b[0m\u001b[0;34m)\u001b[0m\u001b[0;34m\u001b[0m\u001b[0;34m\u001b[0m\u001b[0m\n\u001b[0m\u001b[1;32m   1029\u001b[0m \u001b[0;34m\u001b[0m\u001b[0m\n\u001b[1;32m   1030\u001b[0m   \u001b[0;32mdef\u001b[0m \u001b[0mon_test_batch_end\u001b[0m\u001b[0;34m(\u001b[0m\u001b[0mself\u001b[0m\u001b[0;34m,\u001b[0m \u001b[0mbatch\u001b[0m\u001b[0;34m,\u001b[0m \u001b[0mlogs\u001b[0m\u001b[0;34m=\u001b[0m\u001b[0;32mNone\u001b[0m\u001b[0;34m)\u001b[0m\u001b[0;34m:\u001b[0m\u001b[0;34m\u001b[0m\u001b[0;34m\u001b[0m\u001b[0m\n",
            "\u001b[0;32m/usr/local/lib/python3.7/dist-packages/keras/callbacks.py\u001b[0m in \u001b[0;36m_batch_update_progbar\u001b[0;34m(self, batch, logs)\u001b[0m\n\u001b[1;32m   1098\u001b[0m     \u001b[0;32mif\u001b[0m \u001b[0mself\u001b[0m\u001b[0;34m.\u001b[0m\u001b[0mverbose\u001b[0m \u001b[0;34m==\u001b[0m \u001b[0;36m1\u001b[0m\u001b[0;34m:\u001b[0m\u001b[0;34m\u001b[0m\u001b[0;34m\u001b[0m\u001b[0m\n\u001b[1;32m   1099\u001b[0m       \u001b[0;31m# Only block async when verbose = 1.\u001b[0m\u001b[0;34m\u001b[0m\u001b[0;34m\u001b[0m\u001b[0;34m\u001b[0m\u001b[0m\n\u001b[0;32m-> 1100\u001b[0;31m       \u001b[0mlogs\u001b[0m \u001b[0;34m=\u001b[0m \u001b[0mtf_utils\u001b[0m\u001b[0;34m.\u001b[0m\u001b[0msync_to_numpy_or_python_type\u001b[0m\u001b[0;34m(\u001b[0m\u001b[0mlogs\u001b[0m\u001b[0;34m)\u001b[0m\u001b[0;34m\u001b[0m\u001b[0;34m\u001b[0m\u001b[0m\n\u001b[0m\u001b[1;32m   1101\u001b[0m       \u001b[0mself\u001b[0m\u001b[0;34m.\u001b[0m\u001b[0mprogbar\u001b[0m\u001b[0;34m.\u001b[0m\u001b[0mupdate\u001b[0m\u001b[0;34m(\u001b[0m\u001b[0mself\u001b[0m\u001b[0;34m.\u001b[0m\u001b[0mseen\u001b[0m\u001b[0;34m,\u001b[0m \u001b[0mlist\u001b[0m\u001b[0;34m(\u001b[0m\u001b[0mlogs\u001b[0m\u001b[0;34m.\u001b[0m\u001b[0mitems\u001b[0m\u001b[0;34m(\u001b[0m\u001b[0;34m)\u001b[0m\u001b[0;34m)\u001b[0m\u001b[0;34m,\u001b[0m \u001b[0mfinalize\u001b[0m\u001b[0;34m=\u001b[0m\u001b[0;32mFalse\u001b[0m\u001b[0;34m)\u001b[0m\u001b[0;34m\u001b[0m\u001b[0;34m\u001b[0m\u001b[0m\n\u001b[1;32m   1102\u001b[0m \u001b[0;34m\u001b[0m\u001b[0m\n",
            "\u001b[0;32m/usr/local/lib/python3.7/dist-packages/keras/utils/tf_utils.py\u001b[0m in \u001b[0;36msync_to_numpy_or_python_type\u001b[0;34m(tensors)\u001b[0m\n\u001b[1;32m    514\u001b[0m     \u001b[0;32mreturn\u001b[0m \u001b[0mt\u001b[0m  \u001b[0;31m# Don't turn ragged or sparse tensors to NumPy.\u001b[0m\u001b[0;34m\u001b[0m\u001b[0;34m\u001b[0m\u001b[0m\n\u001b[1;32m    515\u001b[0m \u001b[0;34m\u001b[0m\u001b[0m\n\u001b[0;32m--> 516\u001b[0;31m   \u001b[0;32mreturn\u001b[0m \u001b[0mtf\u001b[0m\u001b[0;34m.\u001b[0m\u001b[0mnest\u001b[0m\u001b[0;34m.\u001b[0m\u001b[0mmap_structure\u001b[0m\u001b[0;34m(\u001b[0m\u001b[0m_to_single_numpy_or_python_type\u001b[0m\u001b[0;34m,\u001b[0m \u001b[0mtensors\u001b[0m\u001b[0;34m)\u001b[0m\u001b[0;34m\u001b[0m\u001b[0;34m\u001b[0m\u001b[0m\n\u001b[0m\u001b[1;32m    517\u001b[0m \u001b[0;34m\u001b[0m\u001b[0m\n\u001b[1;32m    518\u001b[0m \u001b[0;34m\u001b[0m\u001b[0m\n",
            "\u001b[0;32m/usr/local/lib/python3.7/dist-packages/tensorflow/python/util/nest.py\u001b[0m in \u001b[0;36mmap_structure\u001b[0;34m(func, *structure, **kwargs)\u001b[0m\n\u001b[1;32m    867\u001b[0m \u001b[0;34m\u001b[0m\u001b[0m\n\u001b[1;32m    868\u001b[0m   return pack_sequence_as(\n\u001b[0;32m--> 869\u001b[0;31m       \u001b[0mstructure\u001b[0m\u001b[0;34m[\u001b[0m\u001b[0;36m0\u001b[0m\u001b[0;34m]\u001b[0m\u001b[0;34m,\u001b[0m \u001b[0;34m[\u001b[0m\u001b[0mfunc\u001b[0m\u001b[0;34m(\u001b[0m\u001b[0;34m*\u001b[0m\u001b[0mx\u001b[0m\u001b[0;34m)\u001b[0m \u001b[0;32mfor\u001b[0m \u001b[0mx\u001b[0m \u001b[0;32min\u001b[0m \u001b[0mentries\u001b[0m\u001b[0;34m]\u001b[0m\u001b[0;34m,\u001b[0m\u001b[0;34m\u001b[0m\u001b[0;34m\u001b[0m\u001b[0m\n\u001b[0m\u001b[1;32m    870\u001b[0m       expand_composites=expand_composites)\n\u001b[1;32m    871\u001b[0m \u001b[0;34m\u001b[0m\u001b[0m\n",
            "\u001b[0;32m/usr/local/lib/python3.7/dist-packages/tensorflow/python/util/nest.py\u001b[0m in \u001b[0;36m<listcomp>\u001b[0;34m(.0)\u001b[0m\n\u001b[1;32m    867\u001b[0m \u001b[0;34m\u001b[0m\u001b[0m\n\u001b[1;32m    868\u001b[0m   return pack_sequence_as(\n\u001b[0;32m--> 869\u001b[0;31m       \u001b[0mstructure\u001b[0m\u001b[0;34m[\u001b[0m\u001b[0;36m0\u001b[0m\u001b[0;34m]\u001b[0m\u001b[0;34m,\u001b[0m \u001b[0;34m[\u001b[0m\u001b[0mfunc\u001b[0m\u001b[0;34m(\u001b[0m\u001b[0;34m*\u001b[0m\u001b[0mx\u001b[0m\u001b[0;34m)\u001b[0m \u001b[0;32mfor\u001b[0m \u001b[0mx\u001b[0m \u001b[0;32min\u001b[0m \u001b[0mentries\u001b[0m\u001b[0;34m]\u001b[0m\u001b[0;34m,\u001b[0m\u001b[0;34m\u001b[0m\u001b[0;34m\u001b[0m\u001b[0m\n\u001b[0m\u001b[1;32m    870\u001b[0m       expand_composites=expand_composites)\n\u001b[1;32m    871\u001b[0m \u001b[0;34m\u001b[0m\u001b[0m\n",
            "\u001b[0;32m/usr/local/lib/python3.7/dist-packages/keras/utils/tf_utils.py\u001b[0m in \u001b[0;36m_to_single_numpy_or_python_type\u001b[0;34m(t)\u001b[0m\n\u001b[1;32m    510\u001b[0m   \u001b[0;32mdef\u001b[0m \u001b[0m_to_single_numpy_or_python_type\u001b[0m\u001b[0;34m(\u001b[0m\u001b[0mt\u001b[0m\u001b[0;34m)\u001b[0m\u001b[0;34m:\u001b[0m\u001b[0;34m\u001b[0m\u001b[0;34m\u001b[0m\u001b[0m\n\u001b[1;32m    511\u001b[0m     \u001b[0;32mif\u001b[0m \u001b[0misinstance\u001b[0m\u001b[0;34m(\u001b[0m\u001b[0mt\u001b[0m\u001b[0;34m,\u001b[0m \u001b[0mtf\u001b[0m\u001b[0;34m.\u001b[0m\u001b[0mTensor\u001b[0m\u001b[0;34m)\u001b[0m\u001b[0;34m:\u001b[0m\u001b[0;34m\u001b[0m\u001b[0;34m\u001b[0m\u001b[0m\n\u001b[0;32m--> 512\u001b[0;31m       \u001b[0mx\u001b[0m \u001b[0;34m=\u001b[0m \u001b[0mt\u001b[0m\u001b[0;34m.\u001b[0m\u001b[0mnumpy\u001b[0m\u001b[0;34m(\u001b[0m\u001b[0;34m)\u001b[0m\u001b[0;34m\u001b[0m\u001b[0;34m\u001b[0m\u001b[0m\n\u001b[0m\u001b[1;32m    513\u001b[0m       \u001b[0;32mreturn\u001b[0m \u001b[0mx\u001b[0m\u001b[0;34m.\u001b[0m\u001b[0mitem\u001b[0m\u001b[0;34m(\u001b[0m\u001b[0;34m)\u001b[0m \u001b[0;32mif\u001b[0m \u001b[0mnp\u001b[0m\u001b[0;34m.\u001b[0m\u001b[0mndim\u001b[0m\u001b[0;34m(\u001b[0m\u001b[0mx\u001b[0m\u001b[0;34m)\u001b[0m \u001b[0;34m==\u001b[0m \u001b[0;36m0\u001b[0m \u001b[0;32melse\u001b[0m \u001b[0mx\u001b[0m\u001b[0;34m\u001b[0m\u001b[0;34m\u001b[0m\u001b[0m\n\u001b[1;32m    514\u001b[0m     \u001b[0;32mreturn\u001b[0m \u001b[0mt\u001b[0m  \u001b[0;31m# Don't turn ragged or sparse tensors to NumPy.\u001b[0m\u001b[0;34m\u001b[0m\u001b[0;34m\u001b[0m\u001b[0m\n",
            "\u001b[0;32m/usr/local/lib/python3.7/dist-packages/tensorflow/python/framework/ops.py\u001b[0m in \u001b[0;36mnumpy\u001b[0;34m(self)\u001b[0m\n\u001b[1;32m   1092\u001b[0m     \"\"\"\n\u001b[1;32m   1093\u001b[0m     \u001b[0;31m# TODO(slebedev): Consider avoiding a copy for non-CPU or remote tensors.\u001b[0m\u001b[0;34m\u001b[0m\u001b[0;34m\u001b[0m\u001b[0;34m\u001b[0m\u001b[0m\n\u001b[0;32m-> 1094\u001b[0;31m     \u001b[0mmaybe_arr\u001b[0m \u001b[0;34m=\u001b[0m \u001b[0mself\u001b[0m\u001b[0;34m.\u001b[0m\u001b[0m_numpy\u001b[0m\u001b[0;34m(\u001b[0m\u001b[0;34m)\u001b[0m  \u001b[0;31m# pylint: disable=protected-access\u001b[0m\u001b[0;34m\u001b[0m\u001b[0;34m\u001b[0m\u001b[0m\n\u001b[0m\u001b[1;32m   1095\u001b[0m     \u001b[0;32mreturn\u001b[0m \u001b[0mmaybe_arr\u001b[0m\u001b[0;34m.\u001b[0m\u001b[0mcopy\u001b[0m\u001b[0;34m(\u001b[0m\u001b[0;34m)\u001b[0m \u001b[0;32mif\u001b[0m \u001b[0misinstance\u001b[0m\u001b[0;34m(\u001b[0m\u001b[0mmaybe_arr\u001b[0m\u001b[0;34m,\u001b[0m \u001b[0mnp\u001b[0m\u001b[0;34m.\u001b[0m\u001b[0mndarray\u001b[0m\u001b[0;34m)\u001b[0m \u001b[0;32melse\u001b[0m \u001b[0mmaybe_arr\u001b[0m\u001b[0;34m\u001b[0m\u001b[0;34m\u001b[0m\u001b[0m\n\u001b[1;32m   1096\u001b[0m \u001b[0;34m\u001b[0m\u001b[0m\n",
            "\u001b[0;32m/usr/local/lib/python3.7/dist-packages/tensorflow/python/framework/ops.py\u001b[0m in \u001b[0;36m_numpy\u001b[0;34m(self)\u001b[0m\n\u001b[1;32m   1058\u001b[0m   \u001b[0;32mdef\u001b[0m \u001b[0m_numpy\u001b[0m\u001b[0;34m(\u001b[0m\u001b[0mself\u001b[0m\u001b[0;34m)\u001b[0m\u001b[0;34m:\u001b[0m\u001b[0;34m\u001b[0m\u001b[0;34m\u001b[0m\u001b[0m\n\u001b[1;32m   1059\u001b[0m     \u001b[0;32mtry\u001b[0m\u001b[0;34m:\u001b[0m\u001b[0;34m\u001b[0m\u001b[0;34m\u001b[0m\u001b[0m\n\u001b[0;32m-> 1060\u001b[0;31m       \u001b[0;32mreturn\u001b[0m \u001b[0mself\u001b[0m\u001b[0;34m.\u001b[0m\u001b[0m_numpy_internal\u001b[0m\u001b[0;34m(\u001b[0m\u001b[0;34m)\u001b[0m\u001b[0;34m\u001b[0m\u001b[0;34m\u001b[0m\u001b[0m\n\u001b[0m\u001b[1;32m   1061\u001b[0m     \u001b[0;32mexcept\u001b[0m \u001b[0mcore\u001b[0m\u001b[0;34m.\u001b[0m\u001b[0m_NotOkStatusException\u001b[0m \u001b[0;32mas\u001b[0m \u001b[0me\u001b[0m\u001b[0;34m:\u001b[0m  \u001b[0;31m# pylint: disable=protected-access\u001b[0m\u001b[0;34m\u001b[0m\u001b[0;34m\u001b[0m\u001b[0m\n\u001b[1;32m   1062\u001b[0m       \u001b[0msix\u001b[0m\u001b[0;34m.\u001b[0m\u001b[0mraise_from\u001b[0m\u001b[0;34m(\u001b[0m\u001b[0mcore\u001b[0m\u001b[0;34m.\u001b[0m\u001b[0m_status_to_exception\u001b[0m\u001b[0;34m(\u001b[0m\u001b[0me\u001b[0m\u001b[0;34m.\u001b[0m\u001b[0mcode\u001b[0m\u001b[0;34m,\u001b[0m \u001b[0me\u001b[0m\u001b[0;34m.\u001b[0m\u001b[0mmessage\u001b[0m\u001b[0;34m)\u001b[0m\u001b[0;34m,\u001b[0m \u001b[0;32mNone\u001b[0m\u001b[0;34m)\u001b[0m  \u001b[0;31m# pylint: disable=protected-access\u001b[0m\u001b[0;34m\u001b[0m\u001b[0;34m\u001b[0m\u001b[0m\n",
            "\u001b[0;31mKeyboardInterrupt\u001b[0m: "
          ]
        }
      ]
    },
    {
      "cell_type": "markdown",
      "metadata": {
        "id": "PLBP9785pGxX"
      },
      "source": [
        "loss - mae, metrics = mape\n",
        "\n",
        " val_RMSE: 0.4420"
      ]
    },
    {
      "cell_type": "markdown",
      "metadata": {
        "id": "hhJH3X58_7Qw"
      },
      "source": [
        "# Model Evaluation"
      ]
    },
    {
      "cell_type": "code",
      "metadata": {
        "id": "4Iac_k8_ofUb"
      },
      "source": [
        "model = tf.keras.models.load_model('/content/gdrive/MyDrive/Dataset/CJ AI/rmse_9features.h5', \n",
        "                                   custom_objects = {'RMSE': RMSE})"
      ],
      "execution_count": 137,
      "outputs": []
    },
    {
      "cell_type": "code",
      "metadata": {
        "id": "llYnXZCo_6xo"
      },
      "source": [
        "predict_public = model.predict(x = [X_test_public.CORP_ID, X_test_public.BRAND_NM, X_test_public.ITEM_CD,\n",
        "                                    X_test_public.SHPR_CD, X_test_public.POST_ZONE, X_test_public.ITEM_SEQ,\n",
        "                                    X_test_public.ITEM_AMT, X_test_public.month, X_test_public.day])"
      ],
      "execution_count": 138,
      "outputs": []
    },
    {
      "cell_type": "code",
      "metadata": {
        "id": "HW9CszRwv9ef"
      },
      "source": [
        "predict_private = model.predict(x = [X_test_private.CORP_ID, X_test_private.BRAND_NM, X_test_private.ITEM_CD,\n",
        "                                    X_test_private.SHPR_CD, X_test_private.POST_ZONE, X_test_private.ITEM_SEQ,\n",
        "                                    X_test_private.ITEM_AMT, X_test_private.month, X_test_private.day])"
      ],
      "execution_count": 139,
      "outputs": []
    },
    {
      "cell_type": "code",
      "metadata": {
        "id": "CXHdXYWogEQd"
      },
      "source": [
        "predict_public = pd.DataFrame(predict_public)\n",
        "predict_private = pd.DataFrame(predict_private)"
      ],
      "execution_count": 140,
      "outputs": []
    },
    {
      "cell_type": "code",
      "metadata": {
        "id": "XlwlQizVgWcd"
      },
      "source": [
        "predict_public = round(predict_public)\n",
        "predict_private = round(predict_private)"
      ],
      "execution_count": 141,
      "outputs": []
    },
    {
      "cell_type": "code",
      "metadata": {
        "id": "zvl-ozmXuP7a"
      },
      "source": [
        "Y_test_public = Y_test_public.reset_index(drop=True)\n",
        "Y_test_public = pd.DataFrame(Y_test_public)\n",
        "Y_test_private = Y_test_private.reset_index(drop=True)\n",
        "Y_test_private = pd.DataFrame(Y_test_private)"
      ],
      "execution_count": 142,
      "outputs": []
    },
    {
      "cell_type": "code",
      "metadata": {
        "id": "KROiHDsUdOWx"
      },
      "source": [
        "new_public_test = pd.concat((predict_public, Y_test_public), axis = 1, ignore_index = True, join='inner')\n",
        "new_private_test = pd.concat((predict_private, Y_test_private), axis = 1, ignore_index = True, join='inner')"
      ],
      "execution_count": 134,
      "outputs": []
    },
    {
      "cell_type": "code",
      "metadata": {
        "id": "V7g8YKjRvcFH"
      },
      "source": [
        "new_public = pd.concat((predict_public, Y_test_public), axis = 1, ignore_index = True, join='inner')\n",
        "new_private = pd.concat((predict_private, Y_test_private), axis = 1, ignore_index = True, join='inner')"
      ],
      "execution_count": 143,
      "outputs": []
    },
    {
      "cell_type": "code",
      "metadata": {
        "colab": {
          "base_uri": "https://localhost:8080/"
        },
        "id": "exq0sZXDxUKe",
        "outputId": "b367ef37-b219-49e7-e374-f0c4f8d40ea3"
      },
      "source": [
        "print(len(new_public_test[new_public_test[0] == new_public_test[1]]) / len(new_public_test[0]))\n",
        "print(len(new_private_test[new_private_test[0] == new_private_test[1]]) / len(new_private_test[0]))\n",
        "# test가 새로운 버전"
      ],
      "execution_count": 136,
      "outputs": [
        {
          "output_type": "stream",
          "name": "stdout",
          "text": [
            "0.9722067438743393\n",
            "0.9712052529329378\n"
          ]
        }
      ]
    },
    {
      "cell_type": "code",
      "metadata": {
        "colab": {
          "base_uri": "https://localhost:8080/"
        },
        "id": "I5pHG7jYZbAH",
        "outputId": "6f3e2453-a2d8-4b7a-a804-ba98f2d4c51d"
      },
      "source": [
        "print(len(new_public[new_public[0] == new_public[1]]) / len(new_public[0]))\n",
        "print(len(new_private[new_private[0] == new_private[1]]) / len(new_private[0]))\n",
        "# 기존 버전"
      ],
      "execution_count": 144,
      "outputs": [
        {
          "output_type": "stream",
          "name": "stdout",
          "text": [
            "0.9668980888842036\n",
            "0.9668604388488126\n"
          ]
        }
      ]
    },
    {
      "cell_type": "code",
      "metadata": {
        "id": "LoqvZOMXxk_u"
      },
      "source": [
        "public_mix = (new_public + new_public_test) / 2\n",
        "private_mix = (new_private + new_private_test) / 2"
      ],
      "execution_count": 145,
      "outputs": []
    },
    {
      "cell_type": "code",
      "metadata": {
        "colab": {
          "base_uri": "https://localhost:8080/"
        },
        "id": "C_Xddd7OxurB",
        "outputId": "54c9e8d0-e54c-4210-de0c-9a02f09dc313"
      },
      "source": [
        "print(len(public_mix[public_mix[0] == public_mix[1]]) / len(public_mix[0]))\n",
        "print(len(private_mix[private_mix[0] == private_mix[1]]) / len(private_mix[0]))"
      ],
      "execution_count": 146,
      "outputs": [
        {
          "output_type": "stream",
          "name": "stdout",
          "text": [
            "0.953103115916929\n",
            "0.9531934760018674\n"
          ]
        }
      ]
    },
    {
      "cell_type": "code",
      "metadata": {
        "colab": {
          "base_uri": "https://localhost:8080/"
        },
        "id": "-07of6WNZcJi",
        "outputId": "ee6350e5-8b36-495d-d63c-a61b9b3836e4"
      },
      "source": [
        "print(np.sqrt(np.mean((new_public[0] - new_public[1]) ** 2)))\n",
        "print(np.sqrt(np.mean((new_private[0] - new_private[1]) ** 2)))"
      ],
      "execution_count": 74,
      "outputs": [
        {
          "output_type": "stream",
          "name": "stdout",
          "text": [
            "3.6066277098277877\n",
            "0.8580129381396472\n"
          ]
        }
      ]
    },
    {
      "cell_type": "code",
      "metadata": {
        "colab": {
          "base_uri": "https://localhost:8080/"
        },
        "id": "jT23QLfYx_Fs",
        "outputId": "7f429e96-d4b2-4e0c-c0dd-e30ab97143a5"
      },
      "source": [
        "print(np.sqrt(np.mean((public_mix[0] - public_mix[1]) ** 2)))\n",
        "print(np.sqrt(np.mean((private_mix[0] - private_mix[1]) ** 2)))"
      ],
      "execution_count": 147,
      "outputs": [
        {
          "output_type": "stream",
          "name": "stdout",
          "text": [
            "3.5599101811117184\n",
            "0.795482039284467\n"
          ]
        }
      ]
    },
    {
      "cell_type": "code",
      "metadata": {
        "colab": {
          "base_uri": "https://localhost:8080/"
        },
        "id": "20X8slaZyHMp",
        "outputId": "8f3d7683-33c9-49d2-91f9-fc27746d129f"
      },
      "source": [
        "print(np.sqrt(np.mean((new_public_test[0] - new_public_test[1]) ** 2)))\n",
        "print(np.sqrt(np.mean((new_private_test[0] - new_private_test[1]) ** 2)))"
      ],
      "execution_count": 148,
      "outputs": [
        {
          "output_type": "stream",
          "name": "stdout",
          "text": [
            "3.522693406302442\n",
            "0.7755672088312048\n"
          ]
        }
      ]
    },
    {
      "cell_type": "code",
      "metadata": {
        "colab": {
          "base_uri": "https://localhost:8080/"
        },
        "id": "eMCIvxRGypxT",
        "outputId": "e4ba0ee8-8fe1-442e-e14e-5045bbaffe9b"
      },
      "source": [
        "new_public.iloc[:,1]"
      ],
      "execution_count": 101,
      "outputs": [
        {
          "output_type": "execute_result",
          "data": {
            "text/plain": [
              "0         1.0\n",
              "1         1.0\n",
              "2         1.0\n",
              "3         1.0\n",
              "4         1.0\n",
              "         ... \n",
              "132797    1.0\n",
              "132798    2.0\n",
              "132799    1.0\n",
              "132800    5.0\n",
              "132801    1.0\n",
              "Name: 1, Length: 132802, dtype: float64"
            ]
          },
          "metadata": {},
          "execution_count": 101
        }
      ]
    },
    {
      "cell_type": "code",
      "metadata": {
        "colab": {
          "base_uri": "https://localhost:8080/"
        },
        "id": "aVl70Cu1wpxn",
        "outputId": "0a645d2b-8dec-4be2-ef4b-e564bdacc119"
      },
      "source": [
        "print(len(new_public[new_public[0] == new_public[1]]) / len(new_public[0]))\n",
        "print(len(new_private[new_private[0] == new_private[1]]) / len(new_private[0]))"
      ],
      "execution_count": 150,
      "outputs": [
        {
          "output_type": "stream",
          "name": "stdout",
          "text": [
            "0.9668980888842036\n",
            "0.9668604388488126\n"
          ]
        }
      ]
    },
    {
      "cell_type": "code",
      "metadata": {
        "colab": {
          "base_uri": "https://localhost:8080/"
        },
        "id": "YV0poDAltmFP",
        "outputId": "00e1bdaa-6fea-4ca0-8046-0f6895ff92de"
      },
      "source": [
        "len(predict_public[predict_public[0] == 1])"
      ],
      "execution_count": 52,
      "outputs": [
        {
          "output_type": "execute_result",
          "data": {
            "text/plain": [
              "110744"
            ]
          },
          "metadata": {},
          "execution_count": 52
        }
      ]
    },
    {
      "cell_type": "markdown",
      "metadata": {
        "id": "N9GkKTCQoet1"
      },
      "source": [
        "no batchnorm and RMSE/RMSE"
      ]
    },
    {
      "cell_type": "code",
      "metadata": {
        "colab": {
          "base_uri": "https://localhost:8080/",
          "height": 428
        },
        "id": "D5Ak30W9QInD",
        "outputId": "192994d0-7e9f-45c4-d75d-ca5e671fa8cc"
      },
      "source": [
        "plt.figure(figsize=(14,7))\n",
        "plt.subplot(1, 2, 1)\n",
        "plt.plot(new_public.iloc[:,0], new_public.iloc[:,1],'o',markersize=3)\n",
        "plt.plot([0, 200], [0, 200], color=\"green\")\n",
        "plt.subplot(1, 2, 2)\n",
        "plt.plot(new_private.iloc[:,0], new_private.iloc[:,1],'o',markersize=3)\n",
        "plt.plot([0, 300], [0,300], color=\"green\")\n",
        "\n",
        "plt.show()"
      ],
      "execution_count": 156,
      "outputs": [
        {
          "output_type": "display_data",
          "data": {
            "image/png": "[encoded data removed]",
            "text/plain": [
              "<Figure size 1008x504 with 2 Axes>"
            ]
          },
          "metadata": {
            "needs_background": "light"
          }
        }
      ]
    },
    {
      "cell_type": "code",
      "metadata": {
        "colab": {
          "base_uri": "https://localhost:8080/",
          "height": 428
        },
        "id": "U4Onx0vXzIs5",
        "outputId": "8eb99b7c-b31d-4416-9842-dc8c805367b8"
      },
      "source": [
        "length_public = [i for i in range(len(new_public[0]))]\n",
        "length_private = [i for i in range(len(new_private[0]))]\n",
        "plt.figure(figsize=(14,7))\n",
        "plt.subplot(1, 2, 1)\n",
        "plt.plot(length_public, new_public.iloc[:,1] - new_public.iloc[:,0],'o',markersize=3)\n",
        "plt.subplot(1, 2, 2)\n",
        "plt.plot(length_private, new_private.iloc[:,1] - new_private.iloc[:,0],'o',markersize=3)\n",
        "\n",
        "plt.show()"
      ],
      "execution_count": 159,
      "outputs": [
        {
          "output_type": "display_data",
          "data": {
            "image/png": "[encoded data removed]",
            "text/plain": [
              "<Figure size 1008x504 with 2 Axes>"
            ]
          },
          "metadata": {
            "needs_background": "light"
          }
        }
      ]
    },
    {
      "cell_type": "code",
      "metadata": {
        "colab": {
          "base_uri": "https://localhost:8080/"
        },
        "id": "8HYbJ6ZGvdTc",
        "outputId": "47667c81-e6ea-4918-caa2-1498f0a03017"
      },
      "source": [
        "print(len(new_public[new_public[0] == new_public[1]]) / len(new_public[0]))\n",
        "print(len(new_private[new_private[0] == new_private[1]]) / len(new_private[0]))\n",
        "# 구 모델 정확도"
      ],
      "execution_count": 90,
      "outputs": [
        {
          "output_type": "stream",
          "name": "stdout",
          "text": [
            "0.9668980888842036\n",
            "0.9668604388488126\n"
          ]
        }
      ]
    },
    {
      "cell_type": "code",
      "metadata": {
        "colab": {
          "base_uri": "https://localhost:8080/"
        },
        "id": "fMRS94M12fHF",
        "outputId": "3c2e209b-024d-4c33-8d3f-35d6dbc87ad2"
      },
      "source": [
        "print(len(new_public[(new_public[0] == new_public[1]) & (new_public[1] != 1)]) / len(new_public[1][new_public[1] != 1]))\n",
        "print(len(new_private[(new_private[0] == new_private[1]) & (new_private[1] != 1)]) / len(new_private[1][new_private[1] != 1]))\n",
        "# 관찰값(예측값 아님)이 1이 아닌 데이터에서 신 모델 정확도"
      ],
      "execution_count": 176,
      "outputs": [
        {
          "output_type": "stream",
          "name": "stdout",
          "text": [
            "0.8328231066152003\n",
            "0.8299700210300237\n"
          ]
        }
      ]
    },
    {
      "cell_type": "code",
      "metadata": {
        "colab": {
          "base_uri": "https://localhost:8080/"
        },
        "id": "-MXPxXWez9AN",
        "outputId": "402f08fb-b388-44e2-8e4f-786f0fdc5df3"
      },
      "source": [
        "print(np.sqrt(np.mean((new_public[new_public[1] != 1][0] - new_public[new_public[1] != 1][1]) ** 2)))\n",
        "print(np.sqrt(np.mean((new_private[new_private[1] != 1][0] - new_private[new_private[1] != 1][1]) ** 2)))\n",
        "# 구 모델 예측값중 관찰값(예측값 아님)이 1이 아닌 데이터의 RMSE"
      ],
      "execution_count": 164,
      "outputs": [
        {
          "output_type": "stream",
          "name": "stdout",
          "text": [
            "8.752666241432385\n",
            "2.0825291898910807\n"
          ]
        }
      ]
    },
    {
      "cell_type": "code",
      "metadata": {
        "colab": {
          "base_uri": "https://localhost:8080/"
        },
        "id": "tgti9-ie0_P3",
        "outputId": "d3d5fc85-da87-4340-b6a2-882c3443faa4"
      },
      "source": [
        "print(np.sqrt(np.mean((new_public[0] - new_public[1]) ** 2)))\n",
        "print(np.sqrt(np.mean((new_private[0] - new_private[1]) ** 2)))\n",
        "# 구 모델 전체 데이터 RMSE"
      ],
      "execution_count": 171,
      "outputs": [
        {
          "output_type": "stream",
          "name": "stdout",
          "text": [
            "3.6066277098277877\n",
            "0.8580129381396472\n"
          ]
        }
      ]
    },
    {
      "cell_type": "markdown",
      "metadata": {
        "id": "kmIZByGwzkjT"
      },
      "source": [
        "RMSE / RMSE, 128 node, 7layers, no dropout, batchborm 적용 (layernorm X)"
      ]
    },
    {
      "cell_type": "code",
      "metadata": {
        "colab": {
          "base_uri": "https://localhost:8080/",
          "height": 428
        },
        "id": "j7ooBJVzzZLW",
        "outputId": "0ea0db15-e649-42b2-e85b-0ef06c8b95a8"
      },
      "source": [
        "plt.figure(figsize=(14,7))\n",
        "plt.subplot(1, 2, 1)\n",
        "plt.plot(new_public_test.iloc[:,0], new_public_test.iloc[:,1],'o',markersize=3)\n",
        "plt.plot([0, 300], [0, 300], color=\"green\")\n",
        "plt.subplot(1, 2, 2)\n",
        "plt.plot(new_private_test.iloc[:,0], new_private_test.iloc[:,1],'o',markersize=3)\n",
        "plt.plot([0, 300], [0,300], color=\"green\")\n",
        "\n",
        "plt.show()"
      ],
      "execution_count": 161,
      "outputs": [
        {
          "output_type": "display_data",
          "data": {
            "image/png": "[encoded data removed]",
            "text/plain": [
              "<Figure size 1008x504 with 2 Axes>"
            ]
          },
          "metadata": {
            "needs_background": "light"
          }
        }
      ]
    },
    {
      "cell_type": "code",
      "metadata": {
        "colab": {
          "base_uri": "https://localhost:8080/",
          "height": 428
        },
        "id": "HZzpCNcFEe9S",
        "outputId": "ea5e36cd-aa7b-4d0b-d554-315a151408c6"
      },
      "source": [
        "length_public = [i for i in range(len(new_public[0]))]\n",
        "length_private = [i for i in range(len(new_private[0]))]\n",
        "plt.figure(figsize=(14,7))\n",
        "plt.subplot(1, 2, 1)\n",
        "plt.plot(length_public, new_public_test.iloc[:,1] - new_public_test.iloc[:,0],'o',markersize=3)\n",
        "plt.subplot(1, 2, 2)\n",
        "plt.plot(length_private, new_private_test.iloc[:,1] - new_private_test.iloc[:,0],'o',markersize=3)\n",
        "\n",
        "plt.show()"
      ],
      "execution_count": 163,
      "outputs": [
        {
          "output_type": "display_data",
          "data": {
            "image/png": "[encoded data removed]",
            "text/plain": [
              "<Figure size 1008x504 with 2 Axes>"
            ]
          },
          "metadata": {
            "needs_background": "light"
          }
        }
      ]
    },
    {
      "cell_type": "code",
      "metadata": {
        "colab": {
          "base_uri": "https://localhost:8080/"
        },
        "id": "q1eWVQD-z--Q",
        "outputId": "da1750de-b598-4098-e065-c99d07128ddd"
      },
      "source": [
        "print(np.sqrt(np.mean((new_public_test[new_public_test[1] != 1][0] - new_public_test[new_public_test[1] != 1][1]) ** 2)))\n",
        "print(np.sqrt(np.mean((new_private_test[new_private_test[1] != 1][0] - new_private_test[new_private_test[1] != 1][1]) ** 2)))\n",
        "# 신 모델 예측값중 관찰값(예측값 아님)이 1이 아닌 데이터의 RMSE"
      ],
      "execution_count": 166,
      "outputs": [
        {
          "output_type": "stream",
          "name": "stdout",
          "text": [
            "8.549649080578583\n",
            "1.8831710408959985\n"
          ]
        }
      ]
    },
    {
      "cell_type": "code",
      "metadata": {
        "colab": {
          "base_uri": "https://localhost:8080/"
        },
        "id": "knNiXkfxY1zV",
        "outputId": "e70f0cb9-6e0a-4623-f9bc-9a76171dea4f"
      },
      "source": [
        "print(np.sqrt(np.mean((new_public_test[0] - new_public_test[1]) ** 2)))\n",
        "print(np.sqrt(np.mean((new_private_test[0] - new_private_test[1]) ** 2)))\n",
        "# 전체 데이터 RMSE"
      ],
      "execution_count": 169,
      "outputs": [
        {
          "output_type": "stream",
          "name": "stdout",
          "text": [
            "3.522693406302442\n",
            "0.7755672088312048\n"
          ]
        }
      ]
    },
    {
      "cell_type": "code",
      "metadata": {
        "colab": {
          "base_uri": "https://localhost:8080/"
        },
        "id": "g2yjO2Xp1h5B",
        "outputId": "7b66d614-670e-452f-f065-9cf939cfdb22"
      },
      "source": [
        "print(len(new_public_test[new_public_test[0] == new_public_test[1]]) / len(new_public_test[0]))\n",
        "print(len(new_private_test[new_private_test[0] == new_private_test[1]]) / len(new_private_test[0]))\n",
        "# 신 모델 정확도"
      ],
      "execution_count": 177,
      "outputs": [
        {
          "output_type": "stream",
          "name": "stdout",
          "text": [
            "0.9722067438743393\n",
            "0.9712052529329378\n"
          ]
        }
      ]
    },
    {
      "cell_type": "code",
      "metadata": {
        "colab": {
          "base_uri": "https://localhost:8080/"
        },
        "id": "JKtm125Q0PDt",
        "outputId": "9cf5568b-0976-4369-b35c-7e3eceab127e"
      },
      "source": [
        "print(len(new_public_test[(new_public_test[0] == new_public_test[1]) & (new_public_test[1] != 1)]) / len(new_public_test[1][new_public_test[1] != 1]))\n",
        "print(len(new_private_test[(new_private_test[0] == new_private_test[1]) & (new_private_test[1] != 1)]) / len(new_private_test[1][new_private_test[1] != 1]))\n",
        "# 관찰값(예측값 아님)이 1이 아닌 데이터에서 신 모델 정확도"
      ],
      "execution_count": 175,
      "outputs": [
        {
          "output_type": "stream",
          "name": "stdout",
          "text": [
            "0.8530990727183992\n",
            "0.847107253120945\n"
          ]
        }
      ]
    }
  ]
}