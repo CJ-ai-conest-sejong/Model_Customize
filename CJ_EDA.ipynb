{
  "nbformat": 4,
  "nbformat_minor": 0,
  "metadata": {
    "accelerator": "GPU",
    "colab": {
      "name": "CJ_EDA.ipynb",
      "provenance": [],
      "collapsed_sections": [
        "_Ab66o2Pmr3t"
      ],
      "machine_shape": "hm"
    },
    "kernelspec": {
      "display_name": "Python 3",
      "name": "python3"
    },
    "language_info": {
      "name": "python"
    }
  },
  "cells": [
    {
      "cell_type": "code",
      "metadata": {
        "colab": {
          "base_uri": "https://localhost:8080/"
        },
        "id": "NyfhqzmKij2Q",
        "outputId": "057b46b9-26bc-43dc-e697-eaf5ca2555e4"
      },
      "source": [
        "from google.colab import drive\n",
        "drive.mount('/content/gdrive/')"
      ],
      "execution_count": null,
      "outputs": [
        {
          "output_type": "stream",
          "name": "stdout",
          "text": [
            "Mounted at /content/gdrive/\n"
          ]
        }
      ]
    },
    {
      "cell_type": "code",
      "metadata": {
        "id": "xozMxuuQiXBs"
      },
      "source": [
        "import pandas as pd\n",
        "import matplotlib.pyplot as plt\n",
        "import seaborn as sns\n",
        "import numpy as np\n",
        "from sklearn.model_selection import train_test_split\n",
        "import random\n",
        "\n",
        "from sklearn.preprocessing import LabelEncoder, OneHotEncoder"
      ],
      "execution_count": 1,
      "outputs": []
    },
    {
      "cell_type": "code",
      "metadata": {
        "id": "JA9tZvuDicB6"
      },
      "source": [
        "path = '/content/gdrive/MyDrive/Dataset/CJ AI/'"
      ],
      "execution_count": 2,
      "outputs": []
    },
    {
      "cell_type": "code",
      "metadata": {
        "colab": {
          "base_uri": "https://localhost:8080/"
        },
        "id": "cXtwEEZVib_j",
        "outputId": "14344042-ed33-4f40-ba42-d34836e7a2fa"
      },
      "source": [
        "march = pd.read_csv(path + 'march.csv', encoding = 'utf-8')\n",
        "april = pd.read_csv(path + 'april.csv', encoding = 'utf-8')\n",
        "may = pd.read_csv(path + 'may.csv', encoding = 'utf-8')\n",
        "june = pd.read_csv(path + 'june.csv', encoding = 'utf-8')"
      ],
      "execution_count": 3,
      "outputs": [
        {
          "output_type": "stream",
          "name": "stderr",
          "text": [
            "/usr/local/lib/python3.7/dist-packages/IPython/core/interactiveshell.py:2718: DtypeWarning: Columns (16,17) have mixed types.Specify dtype option on import or set low_memory=False.\n",
            "  interactivity=interactivity, compiler=compiler, result=result)\n",
            "/usr/local/lib/python3.7/dist-packages/IPython/core/interactiveshell.py:2718: DtypeWarning: Columns (17) have mixed types.Specify dtype option on import or set low_memory=False.\n",
            "  interactivity=interactivity, compiler=compiler, result=result)\n"
          ]
        }
      ]
    },
    {
      "cell_type": "code",
      "metadata": {
        "id": "TO0dtziVl25k"
      },
      "source": [
        "df = pd.concat((march, april, may, june), axis = 0)"
      ],
      "execution_count": 4,
      "outputs": []
    },
    {
      "cell_type": "code",
      "metadata": {
        "colab": {
          "base_uri": "https://localhost:8080/",
          "height": 507
        },
        "id": "9O9yO1pD6rpi",
        "outputId": "b7fffd6e-eb4d-4ffd-e55d-35e7af1afe26"
      },
      "source": [
        "df"
      ],
      "execution_count": null,
      "outputs": [
        {
          "output_type": "execute_result",
          "data": {
            "text/html": [
              "<div>\n",
              "<style scoped>\n",
              "    .dataframe tbody tr th:only-of-type {\n",
              "        vertical-align: middle;\n",
              "    }\n",
              "\n",
              "    .dataframe tbody tr th {\n",
              "        vertical-align: top;\n",
              "    }\n",
              "\n",
              "    .dataframe thead th {\n",
              "        text-align: right;\n",
              "    }\n",
              "</style>\n",
              "<table border=\"1\" class=\"dataframe\">\n",
              "  <thead>\n",
              "    <tr style=\"text-align: right;\">\n",
              "      <th></th>\n",
              "      <th>CORP_ID</th>\n",
              "      <th>REF_ORD_NO</th>\n",
              "      <th>BKG_NO</th>\n",
              "      <th>BKG_TYP</th>\n",
              "      <th>BKG_DATE</th>\n",
              "      <th>BKG_TIME</th>\n",
              "      <th>SHPR_CD</th>\n",
              "      <th>INV_AMT</th>\n",
              "      <th>ITEM_SEQ</th>\n",
              "      <th>ITEM_CD</th>\n",
              "      <th>BRAND_NM</th>\n",
              "      <th>ITEM_QTY</th>\n",
              "      <th>ITEM_AMT</th>\n",
              "      <th>IF_YN</th>\n",
              "      <th>ORDER_CRT_DATETIME</th>\n",
              "      <th>DLV_DV</th>\n",
              "      <th>REF_ITEM_SEQ</th>\n",
              "      <th>ORDER_IDX</th>\n",
              "      <th>ORDER_YN</th>\n",
              "      <th>DLVPREARRBRANCD</th>\n",
              "      <th>DLVPREARREMPNICKNM</th>\n",
              "      <th>DLVCLSFCD</th>\n",
              "      <th>DLVSUBCLSFCD</th>\n",
              "      <th>INS_ID</th>\n",
              "      <th>INS_DATE</th>\n",
              "      <th>INS_TIME</th>\n",
              "      <th>POST_ZONE</th>\n",
              "      <th>SPLIT_EXEC_YN</th>\n",
              "      <th>SHPR_ADDR_1</th>\n",
              "      <th>SHPR_ADDR_2</th>\n",
              "      <th>CNEE_ADDR_1</th>\n",
              "      <th>CNEE_ADDR_2</th>\n",
              "    </tr>\n",
              "  </thead>\n",
              "  <tbody>\n",
              "    <tr>\n",
              "      <th>0</th>\n",
              "      <td>KX007</td>\n",
              "      <td>2021030365922551</td>\n",
              "      <td>KX007210303370934</td>\n",
              "      <td>7</td>\n",
              "      <td>20210303</td>\n",
              "      <td>35510</td>\n",
              "      <td>90001302</td>\n",
              "      <td>22400.0</td>\n",
              "      <td>2</td>\n",
              "      <td>134265392</td>\n",
              "      <td>단일상품</td>\n",
              "      <td>1</td>\n",
              "      <td>14900.0</td>\n",
              "      <td>N</td>\n",
              "      <td>2.021030e+13</td>\n",
              "      <td>1.0</td>\n",
              "      <td>2021030323885041</td>\n",
              "      <td>2021030323885041</td>\n",
              "      <td>Y</td>\n",
              "      <td>7484</td>\n",
              "      <td>C06</td>\n",
              "      <td>5Z73</td>\n",
              "      <td>1</td>\n",
              "      <td>iNEXBatch</td>\n",
              "      <td>20210303</td>\n",
              "      <td>131425</td>\n",
              "      <td>3.0</td>\n",
              "      <td>N</td>\n",
              "      <td>세종특별자치시</td>\n",
              "      <td>NaN</td>\n",
              "      <td>서울특별시</td>\n",
              "      <td>서대문구</td>\n",
              "    </tr>\n",
              "    <tr>\n",
              "      <th>1</th>\n",
              "      <td>KX007</td>\n",
              "      <td>2021030365922951</td>\n",
              "      <td>KX007210303371080</td>\n",
              "      <td>7</td>\n",
              "      <td>20210303</td>\n",
              "      <td>35521</td>\n",
              "      <td>90001441</td>\n",
              "      <td>20900.0</td>\n",
              "      <td>1</td>\n",
              "      <td>4610261043_2</td>\n",
              "      <td>조합형옵션상품</td>\n",
              "      <td>1</td>\n",
              "      <td>20900.0</td>\n",
              "      <td>N</td>\n",
              "      <td>2.021030e+13</td>\n",
              "      <td>1.0</td>\n",
              "      <td>2021030323885721</td>\n",
              "      <td>2021030323885721</td>\n",
              "      <td>Y</td>\n",
              "      <td>6427</td>\n",
              "      <td>M09</td>\n",
              "      <td>6R67</td>\n",
              "      <td>4</td>\n",
              "      <td>iNEXBatch</td>\n",
              "      <td>20210303</td>\n",
              "      <td>131425</td>\n",
              "      <td>50.0</td>\n",
              "      <td>N</td>\n",
              "      <td>경기도</td>\n",
              "      <td>광주시</td>\n",
              "      <td>경상남도</td>\n",
              "      <td>김해시</td>\n",
              "    </tr>\n",
              "    <tr>\n",
              "      <th>2</th>\n",
              "      <td>KX007</td>\n",
              "      <td>2021030365924361</td>\n",
              "      <td>KX007210303371081</td>\n",
              "      <td>7</td>\n",
              "      <td>20210303</td>\n",
              "      <td>35513</td>\n",
              "      <td>90001441</td>\n",
              "      <td>37900.0</td>\n",
              "      <td>1</td>\n",
              "      <td>4936599538_1</td>\n",
              "      <td>조합형옵션상품</td>\n",
              "      <td>1</td>\n",
              "      <td>37900.0</td>\n",
              "      <td>N</td>\n",
              "      <td>2.021030e+13</td>\n",
              "      <td>1.0</td>\n",
              "      <td>2021030323887981</td>\n",
              "      <td>2021030323887981</td>\n",
              "      <td>Y</td>\n",
              "      <td>6158</td>\n",
              "      <td>L32</td>\n",
              "      <td>9Y25</td>\n",
              "      <td>0</td>\n",
              "      <td>iNEXBatch</td>\n",
              "      <td>20210303</td>\n",
              "      <td>131425</td>\n",
              "      <td>53.0</td>\n",
              "      <td>N</td>\n",
              "      <td>경기도</td>\n",
              "      <td>광주시</td>\n",
              "      <td>경상남도</td>\n",
              "      <td>거제시</td>\n",
              "    </tr>\n",
              "    <tr>\n",
              "      <th>3</th>\n",
              "      <td>KX007</td>\n",
              "      <td>2021030365928921</td>\n",
              "      <td>KX007210303371205</td>\n",
              "      <td>7</td>\n",
              "      <td>20210303</td>\n",
              "      <td>35608</td>\n",
              "      <td>90001542</td>\n",
              "      <td>69800.0</td>\n",
              "      <td>1</td>\n",
              "      <td>3858391637_1</td>\n",
              "      <td>조합형옵션상품</td>\n",
              "      <td>1</td>\n",
              "      <td>69800.0</td>\n",
              "      <td>N</td>\n",
              "      <td>2.021030e+13</td>\n",
              "      <td>1.0</td>\n",
              "      <td>2021030323895281</td>\n",
              "      <td>2021030323895281</td>\n",
              "      <td>Y</td>\n",
              "      <td>8909</td>\n",
              "      <td>D21</td>\n",
              "      <td>1N65</td>\n",
              "      <td>1</td>\n",
              "      <td>iNEXBatch</td>\n",
              "      <td>20210303</td>\n",
              "      <td>131425</td>\n",
              "      <td>6.0</td>\n",
              "      <td>N</td>\n",
              "      <td>경기도</td>\n",
              "      <td>광주시</td>\n",
              "      <td>서울특별시</td>\n",
              "      <td>서초구</td>\n",
              "    </tr>\n",
              "    <tr>\n",
              "      <th>4</th>\n",
              "      <td>KX007</td>\n",
              "      <td>2021030365930451</td>\n",
              "      <td>KX007210303370967</td>\n",
              "      <td>7</td>\n",
              "      <td>20210303</td>\n",
              "      <td>35551</td>\n",
              "      <td>90001341</td>\n",
              "      <td>73700.0</td>\n",
              "      <td>1</td>\n",
              "      <td>4631307460</td>\n",
              "      <td>단일상품</td>\n",
              "      <td>1</td>\n",
              "      <td>39800.0</td>\n",
              "      <td>N</td>\n",
              "      <td>2.021030e+13</td>\n",
              "      <td>1.0</td>\n",
              "      <td>2021030323897651</td>\n",
              "      <td>2021030323897651</td>\n",
              "      <td>Y</td>\n",
              "      <td>2777</td>\n",
              "      <td>R15</td>\n",
              "      <td>3D84</td>\n",
              "      <td>1</td>\n",
              "      <td>iNEXBatch</td>\n",
              "      <td>20210303</td>\n",
              "      <td>131425</td>\n",
              "      <td>10.0</td>\n",
              "      <td>N</td>\n",
              "      <td>경기도</td>\n",
              "      <td>광주시</td>\n",
              "      <td>경기도</td>\n",
              "      <td>김포시</td>\n",
              "    </tr>\n",
              "    <tr>\n",
              "      <th>...</th>\n",
              "      <td>...</td>\n",
              "      <td>...</td>\n",
              "      <td>...</td>\n",
              "      <td>...</td>\n",
              "      <td>...</td>\n",
              "      <td>...</td>\n",
              "      <td>...</td>\n",
              "      <td>...</td>\n",
              "      <td>...</td>\n",
              "      <td>...</td>\n",
              "      <td>...</td>\n",
              "      <td>...</td>\n",
              "      <td>...</td>\n",
              "      <td>...</td>\n",
              "      <td>...</td>\n",
              "      <td>...</td>\n",
              "      <td>...</td>\n",
              "      <td>...</td>\n",
              "      <td>...</td>\n",
              "      <td>...</td>\n",
              "      <td>...</td>\n",
              "      <td>...</td>\n",
              "      <td>...</td>\n",
              "      <td>...</td>\n",
              "      <td>...</td>\n",
              "      <td>...</td>\n",
              "      <td>...</td>\n",
              "      <td>...</td>\n",
              "      <td>...</td>\n",
              "      <td>...</td>\n",
              "      <td>...</td>\n",
              "      <td>...</td>\n",
              "    </tr>\n",
              "    <tr>\n",
              "      <th>676907</th>\n",
              "      <td>GP001</td>\n",
              "      <td>201806270001</td>\n",
              "      <td>GP001210628546912</td>\n",
              "      <td>7</td>\n",
              "      <td>20210628</td>\n",
              "      <td>91210</td>\n",
              "      <td>90001772</td>\n",
              "      <td>NaN</td>\n",
              "      <td>16</td>\n",
              "      <td>00281</td>\n",
              "      <td>NaN</td>\n",
              "      <td>100</td>\n",
              "      <td>NaN</td>\n",
              "      <td>N</td>\n",
              "      <td>NaN</td>\n",
              "      <td>1.0</td>\n",
              "      <td>00281</td>\n",
              "      <td>00281</td>\n",
              "      <td>Y</td>\n",
              "      <td>8981</td>\n",
              "      <td>NaN</td>\n",
              "      <td>5F20</td>\n",
              "      <td>1</td>\n",
              "      <td>osulloc01</td>\n",
              "      <td>20210628</td>\n",
              "      <td>91210</td>\n",
              "      <td>10.0</td>\n",
              "      <td>N</td>\n",
              "      <td>경기도</td>\n",
              "      <td>군포시</td>\n",
              "      <td>경기도</td>\n",
              "      <td>NaN</td>\n",
              "    </tr>\n",
              "    <tr>\n",
              "      <th>676908</th>\n",
              "      <td>GP001</td>\n",
              "      <td>201806270001</td>\n",
              "      <td>GP001210628546912</td>\n",
              "      <td>7</td>\n",
              "      <td>20210628</td>\n",
              "      <td>91210</td>\n",
              "      <td>90001772</td>\n",
              "      <td>NaN</td>\n",
              "      <td>17</td>\n",
              "      <td>00316</td>\n",
              "      <td>NaN</td>\n",
              "      <td>168</td>\n",
              "      <td>NaN</td>\n",
              "      <td>N</td>\n",
              "      <td>NaN</td>\n",
              "      <td>1.0</td>\n",
              "      <td>00316</td>\n",
              "      <td>00316</td>\n",
              "      <td>Y</td>\n",
              "      <td>8981</td>\n",
              "      <td>NaN</td>\n",
              "      <td>5F20</td>\n",
              "      <td>1</td>\n",
              "      <td>osulloc01</td>\n",
              "      <td>20210628</td>\n",
              "      <td>91210</td>\n",
              "      <td>10.0</td>\n",
              "      <td>N</td>\n",
              "      <td>경기도</td>\n",
              "      <td>군포시</td>\n",
              "      <td>경기도</td>\n",
              "      <td>NaN</td>\n",
              "    </tr>\n",
              "    <tr>\n",
              "      <th>676909</th>\n",
              "      <td>GP001</td>\n",
              "      <td>201806270001</td>\n",
              "      <td>GP001210628546912</td>\n",
              "      <td>7</td>\n",
              "      <td>20210628</td>\n",
              "      <td>91210</td>\n",
              "      <td>90001772</td>\n",
              "      <td>NaN</td>\n",
              "      <td>18</td>\n",
              "      <td>00338</td>\n",
              "      <td>NaN</td>\n",
              "      <td>100</td>\n",
              "      <td>NaN</td>\n",
              "      <td>N</td>\n",
              "      <td>NaN</td>\n",
              "      <td>1.0</td>\n",
              "      <td>00338</td>\n",
              "      <td>00338</td>\n",
              "      <td>Y</td>\n",
              "      <td>8981</td>\n",
              "      <td>NaN</td>\n",
              "      <td>5F20</td>\n",
              "      <td>1</td>\n",
              "      <td>osulloc01</td>\n",
              "      <td>20210628</td>\n",
              "      <td>91210</td>\n",
              "      <td>10.0</td>\n",
              "      <td>N</td>\n",
              "      <td>경기도</td>\n",
              "      <td>군포시</td>\n",
              "      <td>경기도</td>\n",
              "      <td>NaN</td>\n",
              "    </tr>\n",
              "    <tr>\n",
              "      <th>676910</th>\n",
              "      <td>GP001</td>\n",
              "      <td>201806270001</td>\n",
              "      <td>GP001210628546912</td>\n",
              "      <td>7</td>\n",
              "      <td>20210628</td>\n",
              "      <td>91210</td>\n",
              "      <td>90001772</td>\n",
              "      <td>NaN</td>\n",
              "      <td>19</td>\n",
              "      <td>00183</td>\n",
              "      <td>NaN</td>\n",
              "      <td>50</td>\n",
              "      <td>NaN</td>\n",
              "      <td>N</td>\n",
              "      <td>NaN</td>\n",
              "      <td>1.0</td>\n",
              "      <td>00183</td>\n",
              "      <td>00183</td>\n",
              "      <td>Y</td>\n",
              "      <td>8981</td>\n",
              "      <td>NaN</td>\n",
              "      <td>5F20</td>\n",
              "      <td>1</td>\n",
              "      <td>osulloc01</td>\n",
              "      <td>20210628</td>\n",
              "      <td>91210</td>\n",
              "      <td>10.0</td>\n",
              "      <td>N</td>\n",
              "      <td>경기도</td>\n",
              "      <td>군포시</td>\n",
              "      <td>경기도</td>\n",
              "      <td>NaN</td>\n",
              "    </tr>\n",
              "    <tr>\n",
              "      <th>676911</th>\n",
              "      <td>GP001</td>\n",
              "      <td>201806270001</td>\n",
              "      <td>GP001210628546912</td>\n",
              "      <td>7</td>\n",
              "      <td>20210628</td>\n",
              "      <td>91210</td>\n",
              "      <td>90001772</td>\n",
              "      <td>NaN</td>\n",
              "      <td>20</td>\n",
              "      <td>8809641651310</td>\n",
              "      <td>NaN</td>\n",
              "      <td>100</td>\n",
              "      <td>NaN</td>\n",
              "      <td>N</td>\n",
              "      <td>NaN</td>\n",
              "      <td>1.0</td>\n",
              "      <td>8809641651310</td>\n",
              "      <td>8809641651310</td>\n",
              "      <td>Y</td>\n",
              "      <td>8981</td>\n",
              "      <td>NaN</td>\n",
              "      <td>5F20</td>\n",
              "      <td>1</td>\n",
              "      <td>osulloc01</td>\n",
              "      <td>20210628</td>\n",
              "      <td>91210</td>\n",
              "      <td>10.0</td>\n",
              "      <td>N</td>\n",
              "      <td>경기도</td>\n",
              "      <td>군포시</td>\n",
              "      <td>경기도</td>\n",
              "      <td>NaN</td>\n",
              "    </tr>\n",
              "  </tbody>\n",
              "</table>\n",
              "<p>1786374 rows × 32 columns</p>\n",
              "</div>"
            ],
            "text/plain": [
              "       CORP_ID        REF_ORD_NO  ... CNEE_ADDR_1  CNEE_ADDR_2\n",
              "0        KX007  2021030365922551  ...       서울특별시         서대문구\n",
              "1        KX007  2021030365922951  ...        경상남도          김해시\n",
              "2        KX007  2021030365924361  ...        경상남도          거제시\n",
              "3        KX007  2021030365928921  ...       서울특별시          서초구\n",
              "4        KX007  2021030365930451  ...         경기도          김포시\n",
              "...        ...               ...  ...         ...          ...\n",
              "676907   GP001      201806270001  ...         경기도          NaN\n",
              "676908   GP001      201806270001  ...         경기도          NaN\n",
              "676909   GP001      201806270001  ...         경기도          NaN\n",
              "676910   GP001      201806270001  ...         경기도          NaN\n",
              "676911   GP001      201806270001  ...         경기도          NaN\n",
              "\n",
              "[1786374 rows x 32 columns]"
            ]
          },
          "metadata": {},
          "execution_count": 6
        }
      ]
    },
    {
      "cell_type": "markdown",
      "metadata": {
        "id": "D6UWDbxHIboR"
      },
      "source": [
        "세정특별자치시는 SHPR_ADDR_2 에도 세종특별자치시로 고정\n",
        "\n",
        "CNEE2에서 충남공주시는 충청남도 / 공주시 로 교체, 경상남도는 제거"
      ]
    },
    {
      "cell_type": "code",
      "metadata": {
        "colab": {
          "base_uri": "https://localhost:8080/"
        },
        "id": "cWysfVFIMybP",
        "outputId": "3eb2dacd-bb77-4ce5-e232-8e3356e95bca"
      },
      "source": [
        "df[df['SHPR_ADDR_1'] == '세종특별자치시']['SHPR_ADDR_2'] = '세종특별자치시'"
      ],
      "execution_count": null,
      "outputs": [
        {
          "output_type": "stream",
          "name": "stderr",
          "text": [
            "/usr/local/lib/python3.7/dist-packages/ipykernel_launcher.py:1: SettingWithCopyWarning: \n",
            "A value is trying to be set on a copy of a slice from a DataFrame.\n",
            "Try using .loc[row_indexer,col_indexer] = value instead\n",
            "\n",
            "See the caveats in the documentation: https://pandas.pydata.org/pandas-docs/stable/user_guide/indexing.html#returning-a-view-versus-a-copy\n",
            "  \"\"\"Entry point for launching an IPython kernel.\n"
          ]
        }
      ]
    },
    {
      "cell_type": "code",
      "metadata": {
        "colab": {
          "base_uri": "https://localhost:8080/"
        },
        "id": "VYIuG6BQM_ZP",
        "outputId": "7eabb216-1bac-4bb0-a520-318c48081979"
      },
      "source": [
        "df[df['SHPR_ADDR_1'] == '세종특별자치시']['SHPR_ADDR_2'].fillna('세종특별자치시')"
      ],
      "execution_count": null,
      "outputs": [
        {
          "output_type": "execute_result",
          "data": {
            "text/plain": [
              "0         세종특별자치시\n",
              "7         세종특별자치시\n",
              "21        세종특별자치시\n",
              "24        세종특별자치시\n",
              "84        세종특별자치시\n",
              "           ...   \n",
              "676884    세종특별자치시\n",
              "676888    세종특별자치시\n",
              "676889    세종특별자치시\n",
              "676890    세종특별자치시\n",
              "676893    세종특별자치시\n",
              "Name: SHPR_ADDR_2, Length: 43563, dtype: object"
            ]
          },
          "metadata": {},
          "execution_count": 6
        }
      ]
    },
    {
      "cell_type": "code",
      "metadata": {
        "id": "ZQapR0BkPss6"
      },
      "source": [
        "df['SHPR_CD'].value_counts()"
      ],
      "execution_count": null,
      "outputs": []
    },
    {
      "cell_type": "code",
      "metadata": {
        "id": "6gc7yzTx5PfI"
      },
      "source": [
        "columns = ['CORP_ID', 'BKG_DATE', 'SHPR_CD', 'ITEM_SEQ', 'ITEM_CD', 'ITEM_QTY', 'ITEM_AMT', \n",
        "           'BRAND_NM', 'POST_ZONE']\n",
        "           # , 'SHPR_ADDR1', 'SHPR_ADDR1', 'CNEE_ADDR1', 'CNEE_ADDR1'\n",
        "dataset = df[columns]\n",
        "dataset = df.groupby(columns,as_index=False).sum()\n",
        "dataset = dataset[columns]\n",
        "dataset = dataset.dropna(axis = 0, how = 'any')"
      ],
      "execution_count": 5,
      "outputs": []
    },
    {
      "cell_type": "code",
      "metadata": {
        "id": "1oFxBPNgu-_C"
      },
      "source": [
        "category_columns = ['SHPR_CD', 'BRAND_NM', 'CORP_ID', 'ITEM_CD']\n",
        "for i in category_columns:\n",
        "  L_encoder = LabelEncoder()\n",
        "  L_encoder.fit(dataset[i].astype(str))\n",
        "  dataset[i] = L_encoder.transform(dataset[i].astype(str))"
      ],
      "execution_count": 6,
      "outputs": []
    },
    {
      "cell_type": "code",
      "metadata": {
        "id": "SPRnhJIgwg3z"
      },
      "source": [
        "# columns = ['SHPR_CD', 'ITEM_CD', 'POST_ZONE', 'BRAND_NM']\n",
        "# array = []\n",
        "# for i in columns:\n",
        "#   O_encoder = OneHotEncoder()\n",
        "#   O_encoder.fit(np.array(dataset[i]).reshape(1, -1))\n",
        "#   printpd.DataFrame(O_encoder.transform(np.array(dataset[i]).reshape(1, -1))))\n",
        "#   # dataset = pd.concat((dataset, ), axis=1).drop(i, axis=1)"
      ],
      "execution_count": null,
      "outputs": []
    },
    {
      "cell_type": "code",
      "metadata": {
        "id": "sTo5SCVCdn3d"
      },
      "source": [
        "dataset['ITEM_AMT'] = np.sqrt(dataset['ITEM_AMT'])"
      ],
      "execution_count": 7,
      "outputs": []
    },
    {
      "cell_type": "code",
      "metadata": {
        "colab": {
          "base_uri": "https://localhost:8080/",
          "height": 419
        },
        "id": "sZ8hQhdpdte7",
        "outputId": "415b2969-78ae-428d-8fb6-1ed585eddac4"
      },
      "source": [
        "dataset"
      ],
      "execution_count": null,
      "outputs": [
        {
          "output_type": "execute_result",
          "data": {
            "text/html": [
              "<div>\n",
              "<style scoped>\n",
              "    .dataframe tbody tr th:only-of-type {\n",
              "        vertical-align: middle;\n",
              "    }\n",
              "\n",
              "    .dataframe tbody tr th {\n",
              "        vertical-align: top;\n",
              "    }\n",
              "\n",
              "    .dataframe thead th {\n",
              "        text-align: right;\n",
              "    }\n",
              "</style>\n",
              "<table border=\"1\" class=\"dataframe\">\n",
              "  <thead>\n",
              "    <tr style=\"text-align: right;\">\n",
              "      <th></th>\n",
              "      <th>CORP_ID</th>\n",
              "      <th>BKG_DATE</th>\n",
              "      <th>SHPR_CD</th>\n",
              "      <th>ITEM_SEQ</th>\n",
              "      <th>ITEM_CD</th>\n",
              "      <th>ITEM_QTY</th>\n",
              "      <th>ITEM_AMT</th>\n",
              "      <th>BRAND_NM</th>\n",
              "      <th>POST_ZONE</th>\n",
              "    </tr>\n",
              "  </thead>\n",
              "  <tbody>\n",
              "    <tr>\n",
              "      <th>0</th>\n",
              "      <td>0</td>\n",
              "      <td>20210529</td>\n",
              "      <td>15</td>\n",
              "      <td>1</td>\n",
              "      <td>14352</td>\n",
              "      <td>1</td>\n",
              "      <td>212.132034</td>\n",
              "      <td>1</td>\n",
              "      <td>18.0</td>\n",
              "    </tr>\n",
              "    <tr>\n",
              "      <th>1</th>\n",
              "      <td>0</td>\n",
              "      <td>20210530</td>\n",
              "      <td>16</td>\n",
              "      <td>1</td>\n",
              "      <td>14269</td>\n",
              "      <td>1</td>\n",
              "      <td>531.036722</td>\n",
              "      <td>1</td>\n",
              "      <td>7.0</td>\n",
              "    </tr>\n",
              "    <tr>\n",
              "      <th>2</th>\n",
              "      <td>0</td>\n",
              "      <td>20210531</td>\n",
              "      <td>12</td>\n",
              "      <td>1</td>\n",
              "      <td>1736</td>\n",
              "      <td>1</td>\n",
              "      <td>234.520788</td>\n",
              "      <td>0</td>\n",
              "      <td>6.0</td>\n",
              "    </tr>\n",
              "    <tr>\n",
              "      <th>3</th>\n",
              "      <td>0</td>\n",
              "      <td>20210531</td>\n",
              "      <td>12</td>\n",
              "      <td>1</td>\n",
              "      <td>1736</td>\n",
              "      <td>2</td>\n",
              "      <td>331.662479</td>\n",
              "      <td>0</td>\n",
              "      <td>41.0</td>\n",
              "    </tr>\n",
              "    <tr>\n",
              "      <th>4</th>\n",
              "      <td>0</td>\n",
              "      <td>20210531</td>\n",
              "      <td>12</td>\n",
              "      <td>1</td>\n",
              "      <td>1737</td>\n",
              "      <td>1</td>\n",
              "      <td>298.328678</td>\n",
              "      <td>0</td>\n",
              "      <td>6.0</td>\n",
              "    </tr>\n",
              "    <tr>\n",
              "      <th>...</th>\n",
              "      <td>...</td>\n",
              "      <td>...</td>\n",
              "      <td>...</td>\n",
              "      <td>...</td>\n",
              "      <td>...</td>\n",
              "      <td>...</td>\n",
              "      <td>...</td>\n",
              "      <td>...</td>\n",
              "      <td>...</td>\n",
              "    </tr>\n",
              "    <tr>\n",
              "      <th>1328014</th>\n",
              "      <td>1</td>\n",
              "      <td>20210630</td>\n",
              "      <td>14</td>\n",
              "      <td>2</td>\n",
              "      <td>7286</td>\n",
              "      <td>1</td>\n",
              "      <td>141.421356</td>\n",
              "      <td>1</td>\n",
              "      <td>57.0</td>\n",
              "    </tr>\n",
              "    <tr>\n",
              "      <th>1328015</th>\n",
              "      <td>1</td>\n",
              "      <td>20210630</td>\n",
              "      <td>14</td>\n",
              "      <td>2</td>\n",
              "      <td>10483</td>\n",
              "      <td>1</td>\n",
              "      <td>126.491106</td>\n",
              "      <td>1</td>\n",
              "      <td>13.0</td>\n",
              "    </tr>\n",
              "    <tr>\n",
              "      <th>1328016</th>\n",
              "      <td>1</td>\n",
              "      <td>20210630</td>\n",
              "      <td>14</td>\n",
              "      <td>2</td>\n",
              "      <td>10483</td>\n",
              "      <td>1</td>\n",
              "      <td>126.491106</td>\n",
              "      <td>1</td>\n",
              "      <td>18.0</td>\n",
              "    </tr>\n",
              "    <tr>\n",
              "      <th>1328017</th>\n",
              "      <td>1</td>\n",
              "      <td>20210630</td>\n",
              "      <td>14</td>\n",
              "      <td>2</td>\n",
              "      <td>14030</td>\n",
              "      <td>1</td>\n",
              "      <td>126.491106</td>\n",
              "      <td>1</td>\n",
              "      <td>44.0</td>\n",
              "    </tr>\n",
              "    <tr>\n",
              "      <th>1328018</th>\n",
              "      <td>1</td>\n",
              "      <td>20210630</td>\n",
              "      <td>14</td>\n",
              "      <td>2</td>\n",
              "      <td>14049</td>\n",
              "      <td>1</td>\n",
              "      <td>137.840488</td>\n",
              "      <td>1</td>\n",
              "      <td>6.0</td>\n",
              "    </tr>\n",
              "  </tbody>\n",
              "</table>\n",
              "<p>1328019 rows × 9 columns</p>\n",
              "</div>"
            ],
            "text/plain": [
              "         CORP_ID  BKG_DATE  SHPR_CD  ...    ITEM_AMT  BRAND_NM  POST_ZONE\n",
              "0              0  20210529       15  ...  212.132034         1       18.0\n",
              "1              0  20210530       16  ...  531.036722         1        7.0\n",
              "2              0  20210531       12  ...  234.520788         0        6.0\n",
              "3              0  20210531       12  ...  331.662479         0       41.0\n",
              "4              0  20210531       12  ...  298.328678         0        6.0\n",
              "...          ...       ...      ...  ...         ...       ...        ...\n",
              "1328014        1  20210630       14  ...  141.421356         1       57.0\n",
              "1328015        1  20210630       14  ...  126.491106         1       13.0\n",
              "1328016        1  20210630       14  ...  126.491106         1       18.0\n",
              "1328017        1  20210630       14  ...  126.491106         1       44.0\n",
              "1328018        1  20210630       14  ...  137.840488         1        6.0\n",
              "\n",
              "[1328019 rows x 9 columns]"
            ]
          },
          "metadata": {},
          "execution_count": 10
        }
      ]
    },
    {
      "cell_type": "code",
      "metadata": {
        "id": "Q2RkQB6b9EwV"
      },
      "source": [
        "# dataset['year'] = dataset['BKG_DATE'].astype(str).str[0:4].astype(int)\n",
        "dataset['month'] = dataset['BKG_DATE'].astype(str).str[4:6].astype(int)\n",
        "dataset['day'] = dataset['BKG_DATE'].astype(str).str[6:].astype(int)"
      ],
      "execution_count": 8,
      "outputs": []
    },
    {
      "cell_type": "code",
      "metadata": {
        "id": "9Hhdzu_3Baix"
      },
      "source": [
        "dataset = dataset.drop(columns = 'BKG_DATE')\n",
        "Y_total = dataset['ITEM_QTY']\n",
        "Y_total = Y_total.astype('float64')"
      ],
      "execution_count": 9,
      "outputs": []
    },
    {
      "cell_type": "code",
      "metadata": {
        "id": "Iyfm5MMDo55J"
      },
      "source": [
        "Y_over = Y_total[Y_total > 1]\n",
        "X_over = dataset[dataset['ITEM_QTY'] > 1].drop(columns = 'ITEM_QTY')\n",
        "# X_over = "
      ],
      "execution_count": null,
      "outputs": []
    },
    {
      "cell_type": "code",
      "metadata": {
        "id": "OFYOdoG5D_hR"
      },
      "source": [
        "X_total = dataset.drop(columns = 'ITEM_QTY')"
      ],
      "execution_count": 10,
      "outputs": []
    },
    {
      "cell_type": "code",
      "metadata": {
        "id": "vb9yzSB2szeU"
      },
      "source": [
        "X_total = (X_total - np.mean(X_total)) / np.std(X_total)"
      ],
      "execution_count": null,
      "outputs": []
    },
    {
      "cell_type": "code",
      "metadata": {
        "id": "-JhxOpKZL4qn"
      },
      "source": [
        "# 데이터 분리. train - 0.64, valid - 0.16, test_public = 0.1, test_private = 0.1\n",
        "X_train, X_test, Y_train, Y_test = train_test_split(X_total, Y_total, test_size=0.2, random_state=123)\n",
        "# X_train, X_valid, Y_train, Y_valid = train_test_split(X_train, Y_train, test_size=0.2, random_state=123)\n",
        "X_test_public, X_test_private, Y_test_public, Y_test_private = train_test_split(X_test, Y_test, test_size=0.5, random_state=123)"
      ],
      "execution_count": 11,
      "outputs": []
    },
    {
      "cell_type": "code",
      "metadata": {
        "id": "biobdnCCZWww"
      },
      "source": [
        "# user_train, user_valid, user_test_private, user_test_public = X_train['ITEM_CD'], X_valid['ITEM_CD'], X_test_public['ITEM_CD'], X_test_private['ITEM_CD'],"
      ],
      "execution_count": null,
      "outputs": []
    },
    {
      "cell_type": "code",
      "metadata": {
        "id": "lIvhYjzjZp1_"
      },
      "source": [
        "# X_train, X_valid, X_test_public, X_test_private = X_train.drop(columns = 'ITEM_CD'), X_valid.drop(columns = 'ITEM_CD'), X_test_public.drop(columns = 'ITEM_CD'), X_test_private.drop(columns = 'ITEM_CD')"
      ],
      "execution_count": null,
      "outputs": []
    },
    {
      "cell_type": "code",
      "metadata": {
        "colab": {
          "base_uri": "https://localhost:8080/",
          "height": 419
        },
        "id": "fkIP7tY0KCcN",
        "outputId": "17bbe58f-95ca-4d82-d031-09330d01216c"
      },
      "source": [
        "X_train"
      ],
      "execution_count": null,
      "outputs": [
        {
          "output_type": "execute_result",
          "data": {
            "text/html": [
              "<div>\n",
              "<style scoped>\n",
              "    .dataframe tbody tr th:only-of-type {\n",
              "        vertical-align: middle;\n",
              "    }\n",
              "\n",
              "    .dataframe tbody tr th {\n",
              "        vertical-align: top;\n",
              "    }\n",
              "\n",
              "    .dataframe thead th {\n",
              "        text-align: right;\n",
              "    }\n",
              "</style>\n",
              "<table border=\"1\" class=\"dataframe\">\n",
              "  <thead>\n",
              "    <tr style=\"text-align: right;\">\n",
              "      <th></th>\n",
              "      <th>CORP_ID</th>\n",
              "      <th>SHPR_CD</th>\n",
              "      <th>ITEM_SEQ</th>\n",
              "      <th>ITEM_CD</th>\n",
              "      <th>ITEM_AMT</th>\n",
              "      <th>BRAND_NM</th>\n",
              "      <th>POST_ZONE</th>\n",
              "      <th>month</th>\n",
              "      <th>day</th>\n",
              "    </tr>\n",
              "  </thead>\n",
              "  <tbody>\n",
              "    <tr>\n",
              "      <th>1179429</th>\n",
              "      <td>1</td>\n",
              "      <td>6</td>\n",
              "      <td>3</td>\n",
              "      <td>5171</td>\n",
              "      <td>188.679623</td>\n",
              "      <td>1</td>\n",
              "      <td>3.0</td>\n",
              "      <td>6</td>\n",
              "      <td>18</td>\n",
              "    </tr>\n",
              "    <tr>\n",
              "      <th>592384</th>\n",
              "      <td>1</td>\n",
              "      <td>7</td>\n",
              "      <td>1</td>\n",
              "      <td>11221</td>\n",
              "      <td>340.587727</td>\n",
              "      <td>0</td>\n",
              "      <td>14.0</td>\n",
              "      <td>4</td>\n",
              "      <td>29</td>\n",
              "    </tr>\n",
              "    <tr>\n",
              "      <th>1322172</th>\n",
              "      <td>1</td>\n",
              "      <td>7</td>\n",
              "      <td>1</td>\n",
              "      <td>3974</td>\n",
              "      <td>375.499667</td>\n",
              "      <td>1</td>\n",
              "      <td>37.0</td>\n",
              "      <td>6</td>\n",
              "      <td>30</td>\n",
              "    </tr>\n",
              "    <tr>\n",
              "      <th>321277</th>\n",
              "      <td>1</td>\n",
              "      <td>3</td>\n",
              "      <td>1</td>\n",
              "      <td>4380</td>\n",
              "      <td>133.790882</td>\n",
              "      <td>1</td>\n",
              "      <td>99.0</td>\n",
              "      <td>3</td>\n",
              "      <td>28</td>\n",
              "    </tr>\n",
              "    <tr>\n",
              "      <th>540922</th>\n",
              "      <td>1</td>\n",
              "      <td>0</td>\n",
              "      <td>2</td>\n",
              "      <td>4083</td>\n",
              "      <td>99.498744</td>\n",
              "      <td>1</td>\n",
              "      <td>31.0</td>\n",
              "      <td>4</td>\n",
              "      <td>24</td>\n",
              "    </tr>\n",
              "    <tr>\n",
              "      <th>...</th>\n",
              "      <td>...</td>\n",
              "      <td>...</td>\n",
              "      <td>...</td>\n",
              "      <td>...</td>\n",
              "      <td>...</td>\n",
              "      <td>...</td>\n",
              "      <td>...</td>\n",
              "      <td>...</td>\n",
              "      <td>...</td>\n",
              "    </tr>\n",
              "    <tr>\n",
              "      <th>1241052</th>\n",
              "      <td>1</td>\n",
              "      <td>10</td>\n",
              "      <td>1</td>\n",
              "      <td>10035</td>\n",
              "      <td>209.284495</td>\n",
              "      <td>0</td>\n",
              "      <td>63.0</td>\n",
              "      <td>6</td>\n",
              "      <td>23</td>\n",
              "    </tr>\n",
              "    <tr>\n",
              "      <th>1066306</th>\n",
              "      <td>1</td>\n",
              "      <td>0</td>\n",
              "      <td>1</td>\n",
              "      <td>13204</td>\n",
              "      <td>129.614814</td>\n",
              "      <td>1</td>\n",
              "      <td>16.0</td>\n",
              "      <td>6</td>\n",
              "      <td>10</td>\n",
              "    </tr>\n",
              "    <tr>\n",
              "      <th>28030</th>\n",
              "      <td>0</td>\n",
              "      <td>16</td>\n",
              "      <td>1</td>\n",
              "      <td>14262</td>\n",
              "      <td>493.376124</td>\n",
              "      <td>1</td>\n",
              "      <td>58.0</td>\n",
              "      <td>6</td>\n",
              "      <td>8</td>\n",
              "    </tr>\n",
              "    <tr>\n",
              "      <th>277869</th>\n",
              "      <td>1</td>\n",
              "      <td>0</td>\n",
              "      <td>1</td>\n",
              "      <td>6294</td>\n",
              "      <td>215.406592</td>\n",
              "      <td>0</td>\n",
              "      <td>47.0</td>\n",
              "      <td>3</td>\n",
              "      <td>23</td>\n",
              "    </tr>\n",
              "    <tr>\n",
              "      <th>773630</th>\n",
              "      <td>1</td>\n",
              "      <td>0</td>\n",
              "      <td>1</td>\n",
              "      <td>12504</td>\n",
              "      <td>99.498744</td>\n",
              "      <td>1</td>\n",
              "      <td>16.0</td>\n",
              "      <td>5</td>\n",
              "      <td>18</td>\n",
              "    </tr>\n",
              "  </tbody>\n",
              "</table>\n",
              "<p>1062415 rows × 9 columns</p>\n",
              "</div>"
            ],
            "text/plain": [
              "         CORP_ID  SHPR_CD  ITEM_SEQ  ITEM_CD  ...  BRAND_NM  POST_ZONE  month  day\n",
              "1179429        1        6         3     5171  ...         1        3.0      6   18\n",
              "592384         1        7         1    11221  ...         0       14.0      4   29\n",
              "1322172        1        7         1     3974  ...         1       37.0      6   30\n",
              "321277         1        3         1     4380  ...         1       99.0      3   28\n",
              "540922         1        0         2     4083  ...         1       31.0      4   24\n",
              "...          ...      ...       ...      ...  ...       ...        ...    ...  ...\n",
              "1241052        1       10         1    10035  ...         0       63.0      6   23\n",
              "1066306        1        0         1    13204  ...         1       16.0      6   10\n",
              "28030          0       16         1    14262  ...         1       58.0      6    8\n",
              "277869         1        0         1     6294  ...         0       47.0      3   23\n",
              "773630         1        0         1    12504  ...         1       16.0      5   18\n",
              "\n",
              "[1062415 rows x 9 columns]"
            ]
          },
          "metadata": {},
          "execution_count": 32
        }
      ]
    },
    {
      "cell_type": "markdown",
      "metadata": {
        "id": "jI0IfkQPRDJl"
      },
      "source": [
        "# Model part"
      ]
    },
    {
      "cell_type": "code",
      "metadata": {
        "id": "Ni2kqgbHQy5t"
      },
      "source": [
        "import tensorflow as tf\n",
        "from tensorflow.keras import layers\n",
        "from tensorflow.keras.models import Model\n",
        "from tensorflow.keras.layers import Input,Embedding,Dot,Add,Flatten\n",
        "from tensorflow.keras.regularizers import l2\n",
        "from tensorflow.keras.optimizers import SGD,Adamax\n",
        "from tensorflow.keras.layers import Dense,Concatenate,Activation\n",
        "from keras import backend as K"
      ],
      "execution_count": 12,
      "outputs": []
    },
    {
      "cell_type": "code",
      "metadata": {
        "id": "ibssHpwbfDGC"
      },
      "source": [
        "def RMSE(y_true,y_pred):\n",
        "    return tf.sqrt(tf.reduce_mean(tf.square(tf.subtract(y_pred,y_true))))"
      ],
      "execution_count": 13,
      "outputs": []
    },
    {
      "cell_type": "code",
      "metadata": {
        "id": "jy7tp6e-4WTd"
      },
      "source": [
        "def SMAPE(y_true, y_pred):\n",
        "        return 100 * K.mean(abs(y_pred - y_true) / ((abs(y_pred) + abs(y_true)) * 2))"
      ],
      "execution_count": 14,
      "outputs": []
    },
    {
      "cell_type": "code",
      "metadata": {
        "id": "eLPL2PaG4z8i"
      },
      "source": [
        "def MAPE(y_true, y_pred):\n",
        "        return 100 * K.mean(abs((y_pred - y_true) / y_true))"
      ],
      "execution_count": 15,
      "outputs": []
    },
    {
      "cell_type": "code",
      "metadata": {
        "id": "6uFNBdq7k2z-"
      },
      "source": [
        "def MAL(y_true, y_pred):\n",
        "  return np.max(abs(y_true - y_pred))"
      ],
      "execution_count": 16,
      "outputs": []
    },
    {
      "cell_type": "code",
      "metadata": {
        "colab": {
          "base_uri": "https://localhost:8080/"
        },
        "id": "xEfie0w98nzZ",
        "outputId": "6e84ee38-d587-4414-e340-342811da3e9d"
      },
      "source": [
        "def U_net_model(n_nodes = 128):\n",
        "  inputs = Input(shape=(9,))\n",
        "\n",
        "  UB1 = Dense(n_nodes, activation=\"rel\")(inputs)\n",
        "  UB2 = Dense(n_nodes * 2, activation=\"relu\")(UB1)\n",
        "  UB3 = Dense(n_nodes * 4, activation=\"relu\")(UB2)\n",
        "  UB4 = Dense(n_nodes * 8, activation=\"relu\")(UB3)\n",
        "  UB5 = Dense(n_nodes * 16, activation=\"relu\")(UB4)\n",
        "\n",
        "  DB5 = Dense(n_nodes * 16, activation=\"relu\")(UB5)\n",
        "  DB5 = Add()([DB5, UB5])\n",
        "  DB4 = Dense(n_nodes * 8, activation=\"relu\")(DB5)\n",
        "  DB4 = Add()([DB4, UB4])\n",
        "  DB3 = Dense(n_nodes * 4, activation=\"relu\")(DB4)\n",
        "  DB3 = Add()([DB3, UB3])\n",
        "  DB2 = Dense(n_nodes * 2, activation=\"relu\")(DB3)\n",
        "  DB2 = Add()([DB2, UB2])\n",
        "  DB1 = Dense(n_nodes * 1, activation=\"relu\")(DB2)\n",
        "  DB1 = Add()([DB1, UB1])\n",
        "\n",
        "  outputs = Dense(1, activation=\"linear\")(DB1)u\n",
        "  model = Model(inputs, outputs)\n",
        "  model.compile(loss='mae', optimizer='adam', metrics = [MAPE])\n",
        "  return model\n",
        "U_net_model = U_net_model()\n",
        "U_net_model.summary()"
      ],
      "execution_count": 17,
      "outputs": [
        {
          "output_type": "stream",
          "name": "stdout",
          "text": [
            "Model: \"model\"\n",
            "__________________________________________________________________________________________________\n",
            "Layer (type)                    Output Shape         Param #     Connected to                     \n",
            "==================================================================================================\n",
            "input_1 (InputLayer)            [(None, 9)]          0                                            \n",
            "__________________________________________________________________________________________________\n",
            "dense (Dense)                   (None, 128)          1280        input_1[0][0]                    \n",
            "__________________________________________________________________________________________________\n",
            "dense_1 (Dense)                 (None, 256)          33024       dense[0][0]                      \n",
            "__________________________________________________________________________________________________\n",
            "dense_2 (Dense)                 (None, 512)          131584      dense_1[0][0]                    \n",
            "__________________________________________________________________________________________________\n",
            "dense_3 (Dense)                 (None, 1024)         525312      dense_2[0][0]                    \n",
            "__________________________________________________________________________________________________\n",
            "dense_4 (Dense)                 (None, 2048)         2099200     dense_3[0][0]                    \n",
            "__________________________________________________________________________________________________\n",
            "dense_5 (Dense)                 (None, 2048)         4196352     dense_4[0][0]                    \n",
            "__________________________________________________________________________________________________\n",
            "add (Add)                       (None, 2048)         0           dense_5[0][0]                    \n",
            "                                                                 dense_4[0][0]                    \n",
            "__________________________________________________________________________________________________\n",
            "dense_6 (Dense)                 (None, 1024)         2098176     add[0][0]                        \n",
            "__________________________________________________________________________________________________\n",
            "add_1 (Add)                     (None, 1024)         0           dense_6[0][0]                    \n",
            "                                                                 dense_3[0][0]                    \n",
            "__________________________________________________________________________________________________\n",
            "dense_7 (Dense)                 (None, 512)          524800      add_1[0][0]                      \n",
            "__________________________________________________________________________________________________\n",
            "add_2 (Add)                     (None, 512)          0           dense_7[0][0]                    \n",
            "                                                                 dense_2[0][0]                    \n",
            "__________________________________________________________________________________________________\n",
            "dense_8 (Dense)                 (None, 256)          131328      add_2[0][0]                      \n",
            "__________________________________________________________________________________________________\n",
            "add_3 (Add)                     (None, 256)          0           dense_8[0][0]                    \n",
            "                                                                 dense_1[0][0]                    \n",
            "__________________________________________________________________________________________________\n",
            "dense_9 (Dense)                 (None, 128)          32896       add_3[0][0]                      \n",
            "__________________________________________________________________________________________________\n",
            "add_4 (Add)                     (None, 128)          0           dense_9[0][0]                    \n",
            "                                                                 dense[0][0]                      \n",
            "__________________________________________________________________________________________________\n",
            "dense_10 (Dense)                (None, 1)            129         add_4[0][0]                      \n",
            "==================================================================================================\n",
            "Total params: 9,774,081\n",
            "Trainable params: 9,774,081\n",
            "Non-trainable params: 0\n",
            "__________________________________________________________________________________________________\n"
          ]
        }
      ]
    },
    {
      "cell_type": "code",
      "metadata": {
        "colab": {
          "base_uri": "https://localhost:8080/",
          "height": 419
        },
        "id": "HXCwiMq3cKKv",
        "outputId": "605e3ccb-e018-4584-c264-57e008be78cb"
      },
      "source": [
        "dataset"
      ],
      "execution_count": null,
      "outputs": [
        {
          "output_type": "execute_result",
          "data": {
            "text/html": [
              "<div>\n",
              "<style scoped>\n",
              "    .dataframe tbody tr th:only-of-type {\n",
              "        vertical-align: middle;\n",
              "    }\n",
              "\n",
              "    .dataframe tbody tr th {\n",
              "        vertical-align: top;\n",
              "    }\n",
              "\n",
              "    .dataframe thead th {\n",
              "        text-align: right;\n",
              "    }\n",
              "</style>\n",
              "<table border=\"1\" class=\"dataframe\">\n",
              "  <thead>\n",
              "    <tr style=\"text-align: right;\">\n",
              "      <th></th>\n",
              "      <th>CORP_ID</th>\n",
              "      <th>SHPR_CD</th>\n",
              "      <th>ITEM_SEQ</th>\n",
              "      <th>ITEM_CD</th>\n",
              "      <th>ITEM_QTY</th>\n",
              "      <th>ITEM_AMT</th>\n",
              "      <th>BRAND_NM</th>\n",
              "      <th>POST_ZONE</th>\n",
              "      <th>month</th>\n",
              "      <th>day</th>\n",
              "    </tr>\n",
              "  </thead>\n",
              "  <tbody>\n",
              "    <tr>\n",
              "      <th>0</th>\n",
              "      <td>0</td>\n",
              "      <td>90001702</td>\n",
              "      <td>1</td>\n",
              "      <td>14352</td>\n",
              "      <td>1</td>\n",
              "      <td>45000.0</td>\n",
              "      <td>1</td>\n",
              "      <td>18.0</td>\n",
              "      <td>5</td>\n",
              "      <td>29</td>\n",
              "    </tr>\n",
              "    <tr>\n",
              "      <th>1</th>\n",
              "      <td>0</td>\n",
              "      <td>90001703</td>\n",
              "      <td>1</td>\n",
              "      <td>14269</td>\n",
              "      <td>1</td>\n",
              "      <td>282000.0</td>\n",
              "      <td>1</td>\n",
              "      <td>7.0</td>\n",
              "      <td>5</td>\n",
              "      <td>30</td>\n",
              "    </tr>\n",
              "    <tr>\n",
              "      <th>2</th>\n",
              "      <td>0</td>\n",
              "      <td>90001664</td>\n",
              "      <td>1</td>\n",
              "      <td>1736</td>\n",
              "      <td>1</td>\n",
              "      <td>55000.0</td>\n",
              "      <td>0</td>\n",
              "      <td>6.0</td>\n",
              "      <td>5</td>\n",
              "      <td>31</td>\n",
              "    </tr>\n",
              "    <tr>\n",
              "      <th>3</th>\n",
              "      <td>0</td>\n",
              "      <td>90001664</td>\n",
              "      <td>1</td>\n",
              "      <td>1736</td>\n",
              "      <td>2</td>\n",
              "      <td>110000.0</td>\n",
              "      <td>0</td>\n",
              "      <td>41.0</td>\n",
              "      <td>5</td>\n",
              "      <td>31</td>\n",
              "    </tr>\n",
              "    <tr>\n",
              "      <th>4</th>\n",
              "      <td>0</td>\n",
              "      <td>90001664</td>\n",
              "      <td>1</td>\n",
              "      <td>1737</td>\n",
              "      <td>1</td>\n",
              "      <td>89000.0</td>\n",
              "      <td>0</td>\n",
              "      <td>6.0</td>\n",
              "      <td>5</td>\n",
              "      <td>31</td>\n",
              "    </tr>\n",
              "    <tr>\n",
              "      <th>...</th>\n",
              "      <td>...</td>\n",
              "      <td>...</td>\n",
              "      <td>...</td>\n",
              "      <td>...</td>\n",
              "      <td>...</td>\n",
              "      <td>...</td>\n",
              "      <td>...</td>\n",
              "      <td>...</td>\n",
              "      <td>...</td>\n",
              "      <td>...</td>\n",
              "    </tr>\n",
              "    <tr>\n",
              "      <th>1328014</th>\n",
              "      <td>1</td>\n",
              "      <td>90001683</td>\n",
              "      <td>2</td>\n",
              "      <td>7286</td>\n",
              "      <td>1</td>\n",
              "      <td>20000.0</td>\n",
              "      <td>1</td>\n",
              "      <td>57.0</td>\n",
              "      <td>6</td>\n",
              "      <td>30</td>\n",
              "    </tr>\n",
              "    <tr>\n",
              "      <th>1328015</th>\n",
              "      <td>1</td>\n",
              "      <td>90001683</td>\n",
              "      <td>2</td>\n",
              "      <td>10483</td>\n",
              "      <td>1</td>\n",
              "      <td>16000.0</td>\n",
              "      <td>1</td>\n",
              "      <td>13.0</td>\n",
              "      <td>6</td>\n",
              "      <td>30</td>\n",
              "    </tr>\n",
              "    <tr>\n",
              "      <th>1328016</th>\n",
              "      <td>1</td>\n",
              "      <td>90001683</td>\n",
              "      <td>2</td>\n",
              "      <td>10483</td>\n",
              "      <td>1</td>\n",
              "      <td>16000.0</td>\n",
              "      <td>1</td>\n",
              "      <td>18.0</td>\n",
              "      <td>6</td>\n",
              "      <td>30</td>\n",
              "    </tr>\n",
              "    <tr>\n",
              "      <th>1328017</th>\n",
              "      <td>1</td>\n",
              "      <td>90001683</td>\n",
              "      <td>2</td>\n",
              "      <td>14030</td>\n",
              "      <td>1</td>\n",
              "      <td>16000.0</td>\n",
              "      <td>1</td>\n",
              "      <td>44.0</td>\n",
              "      <td>6</td>\n",
              "      <td>30</td>\n",
              "    </tr>\n",
              "    <tr>\n",
              "      <th>1328018</th>\n",
              "      <td>1</td>\n",
              "      <td>90001683</td>\n",
              "      <td>2</td>\n",
              "      <td>14049</td>\n",
              "      <td>1</td>\n",
              "      <td>19000.0</td>\n",
              "      <td>1</td>\n",
              "      <td>6.0</td>\n",
              "      <td>6</td>\n",
              "      <td>30</td>\n",
              "    </tr>\n",
              "  </tbody>\n",
              "</table>\n",
              "<p>1328019 rows × 10 columns</p>\n",
              "</div>"
            ],
            "text/plain": [
              "         CORP_ID   SHPR_CD  ITEM_SEQ  ITEM_CD  ...  BRAND_NM  POST_ZONE  month  day\n",
              "0              0  90001702         1    14352  ...         1       18.0      5   29\n",
              "1              0  90001703         1    14269  ...         1        7.0      5   30\n",
              "2              0  90001664         1     1736  ...         0        6.0      5   31\n",
              "3              0  90001664         1     1736  ...         0       41.0      5   31\n",
              "4              0  90001664         1     1737  ...         0        6.0      5   31\n",
              "...          ...       ...       ...      ...  ...       ...        ...    ...  ...\n",
              "1328014        1  90001683         2     7286  ...         1       57.0      6   30\n",
              "1328015        1  90001683         2    10483  ...         1       13.0      6   30\n",
              "1328016        1  90001683         2    10483  ...         1       18.0      6   30\n",
              "1328017        1  90001683         2    14030  ...         1       44.0      6   30\n",
              "1328018        1  90001683         2    14049  ...         1        6.0      6   30\n",
              "\n",
              "[1328019 rows x 10 columns]"
            ]
          },
          "metadata": {},
          "execution_count": 51
        }
      ]
    },
    {
      "cell_type": "code",
      "metadata": {
        "id": "5TM_oL68bQe-"
      },
      "source": [
        "# Index(['CORP_ID', 'SHPR_CD', 'ITEM_SEQ', 'ITEM_CD', 'ITEM_AMT', 'BRAND_NM',\n",
        "#        'POST_ZONE', 'month', 'day'])\n",
        "\n",
        "C = dataset.CORP_ID.max()+1\n",
        "S = dataset.SHPR_CD.max()+1\n",
        "IS = dataset.ITEM_SEQ.max()+1\n",
        "I = dataset.ITEM_CD.max()+1\n",
        "IA = int(dataset.ITEM_AMT.max())+1\n",
        "BN = int(dataset.BRAND_NM.max()) + 1\n",
        "P = int(dataset.POST_ZONE.max())+1\n",
        "M = dataset.month.max()+1\n",
        "D = dataset.day.max()+1"
      ],
      "execution_count": 18,
      "outputs": []
    },
    {
      "cell_type": "code",
      "metadata": {
        "colab": {
          "base_uri": "https://localhost:8080/"
        },
        "id": "xzqwdZ1ZeHJd",
        "outputId": "ac223cca-db05-4946-eaa5-aca2480f65ea"
      },
      "source": [
        "S"
      ],
      "execution_count": null,
      "outputs": [
        {
          "output_type": "execute_result",
          "data": {
            "text/plain": [
              "24"
            ]
          },
          "metadata": {},
          "execution_count": 24
        }
      ]
    },
    {
      "cell_type": "code",
      "metadata": {
        "colab": {
          "base_uri": "https://localhost:8080/"
        },
        "id": "RLRTCUNIcac2",
        "outputId": "64101713-3167-44ca-d0f7-4bd287b77e3c"
      },
      "source": [
        "corp = Input(shape = (1,))\n",
        "brand = Input(shape = (1,))\n",
        "itemcd = Input(shape=(1,))\n",
        "shpr = Input(shape=(1,))\n",
        "post = Input(shape=(1,))\n",
        "itemseq = Input(shape=(1,))\n",
        "itemamt = Input(shape=(1,))\n",
        "month = Input(shape=(1,))\n",
        "day = Input(shape=(1,))\n",
        "\n",
        "K = 150\n",
        "\n",
        "C_embedding = Embedding(C,K,embeddings_regularizer=l2())(corp)\n",
        "BN_embedding = Embedding(BN,K,embeddings_regularizer=l2())(brand)\n",
        "I_embedding = Embedding(I,K,embeddings_regularizer=l2())(itemcd)\n",
        "S_embedding = Embedding(S,K,embeddings_regularizer=l2())(shpr)\n",
        "P_embedding = Embedding(P,K,embeddings_regularizer=l2())(post)\n",
        "IS_embedding = Embedding(IS,K,embeddings_regularizer=l2())(itemseq)\n",
        "IA_embedding = Embedding(IA,K,embeddings_regularizer=l2())(itemamt) \n",
        "M_embedding = Embedding(M,K,embeddings_regularizer=l2())(month)\n",
        "D_embedding = Embedding(D,K,embeddings_regularizer=l2())(day)\n",
        "\n",
        "\n",
        "\n",
        "#아래 부분은 경향성 부분인데, 아직 안보이니 pass\n",
        "\n",
        "IA_bias = Embedding(IA,1,embeddings_regularizer=l2())(itemamt)\n",
        "IS_bias = Embedding(IS,1,embeddings_regularizer=l2())(itemseq)\n",
        "\n",
        "#user_bias = Embedding(U.max()+1,1,embeddings_regularizer=l2())(user) #user를 특정 할 수 있는 정보가 있을 때 사용\n",
        "#sex_bias = Embedding(S,1,embeddings_regularizer=l2())(sex)\n",
        "#age_bias = Embedding(A,1,embeddings_regularizer=l2())(age)\n",
        "#hj_bias = Embedding(H,1,embeddings_regularizer=l2())(hj)\n",
        "#item_bias = Embedding(I,1,embeddings_regularizer=l2())(item_buz)\n",
        "\n",
        "from tensorflow.keras.layers import Dense,Concatenate,Activation\n",
        "\n",
        "\n",
        "C_embedding = Flatten()(C_embedding)\n",
        "BN_embedding = Flatten()(BN_embedding)\n",
        "I_embedding = Flatten()(I_embedding)\n",
        "S_embedding = Flatten()(S_embedding)\n",
        "P_embedding = Flatten()(P_embedding)\n",
        "IS_embedding = Flatten()(IS_embedding)\n",
        "IA_embedding = Flatten()(IA_embedding)\n",
        "M_embedding = Flatten()(M_embedding)\n",
        "D_embedding = Flatten()(D_embedding)\n",
        "\n",
        "IA_bias = Flatten()(IA_bias)\n",
        "IS_bias = Flatten()(IS_bias)\n",
        "#user_bias = Flatten()(user_bias)\n",
        "#sex_bias = Flatten()(sex_bias)\n",
        "#age_bias = Flatten()(age_bias)\n",
        "#hj_bias = Flatten()(hj_bias)\n",
        "#item_bias = Flatten()(item_bias)\n",
        "\n",
        "\n",
        "#user_bias 와 U_embedding을 user를 특정 할 수 있는 정보가 있다면 추가하면 좋다. => 더 높은 정확성과, 적은 오류를 가질 것이다.\n",
        "R = Concatenate()([C_embedding, BN_embedding, I_embedding, S_embedding, P_embedding, IS_embedding,\n",
        "                   IA_embedding, M_embedding, D_embedding, IA_bias, IS_bias])\n",
        "\n",
        "n_nodes = 256\n",
        "\n",
        "UB1 = Dense(n_nodes, activation=\"relu\")(R)\n",
        "UB2 = Dense(n_nodes * 2, activation=\"relu\")(UB1)\n",
        "UB3 = Dense(n_nodes * 4, activation=\"relu\")(UB2)\n",
        "UB4 = Dense(n_nodes * 8, activation=\"relu\")(UB3)\n",
        "UB5 = Dense(n_nodes * 16, activation=\"relu\")(UB4)\n",
        "\n",
        "DB5 = Dense(n_nodes * 16, activation=\"relu\")(UB5)\n",
        "DB5 = Add()([DB5, UB5])\n",
        "DB4 = Dense(n_nodes * 8, activation=\"relu\")(DB5)\n",
        "DB4 = Add()([DB4, UB4])\n",
        "DB3 = Dense(n_nodes * 4, activation=\"relu\")(DB4)\n",
        "DB3 = Add()([DB3, UB3])\n",
        "DB2 = Dense(n_nodes * 2, activation=\"relu\")(DB3)\n",
        "DB2 = Add()([DB2, UB2])\n",
        "DB1 = Dense(n_nodes * 1, activation=\"relu\")(DB2)\n",
        "DB1 = Add()([DB1, UB1])\n",
        "\n",
        "outputs = Dense(1, activation=\"linear\")(DB1)\n",
        "model = Model(inputs=[corp, brand, itemcd,shpr,post,itemseq,itemamt,month,day],outputs= outputs)\n",
        "model.compile(\n",
        "    loss = RMSE,\n",
        "    optimizer = 'Adam',\n",
        "    metrics = [RMSE]\n",
        ")\n",
        "\n",
        "model.summary()"
      ],
      "execution_count": 19,
      "outputs": [
        {
          "output_type": "stream",
          "name": "stdout",
          "text": [
            "Model: \"model_1\"\n",
            "__________________________________________________________________________________________________\n",
            "Layer (type)                    Output Shape         Param #     Connected to                     \n",
            "==================================================================================================\n",
            "input_2 (InputLayer)            [(None, 1)]          0                                            \n",
            "__________________________________________________________________________________________________\n",
            "input_3 (InputLayer)            [(None, 1)]          0                                            \n",
            "__________________________________________________________________________________________________\n",
            "input_4 (InputLayer)            [(None, 1)]          0                                            \n",
            "__________________________________________________________________________________________________\n",
            "input_5 (InputLayer)            [(None, 1)]          0                                            \n",
            "__________________________________________________________________________________________________\n",
            "input_6 (InputLayer)            [(None, 1)]          0                                            \n",
            "__________________________________________________________________________________________________\n",
            "input_7 (InputLayer)            [(None, 1)]          0                                            \n",
            "__________________________________________________________________________________________________\n",
            "input_8 (InputLayer)            [(None, 1)]          0                                            \n",
            "__________________________________________________________________________________________________\n",
            "input_9 (InputLayer)            [(None, 1)]          0                                            \n",
            "__________________________________________________________________________________________________\n",
            "input_10 (InputLayer)           [(None, 1)]          0                                            \n",
            "__________________________________________________________________________________________________\n",
            "embedding (Embedding)           (None, 1, 150)       300         input_2[0][0]                    \n",
            "__________________________________________________________________________________________________\n",
            "embedding_1 (Embedding)         (None, 1, 150)       450         input_3[0][0]                    \n",
            "__________________________________________________________________________________________________\n",
            "embedding_2 (Embedding)         (None, 1, 150)       2214000     input_4[0][0]                    \n",
            "__________________________________________________________________________________________________\n",
            "embedding_3 (Embedding)         (None, 1, 150)       3600        input_5[0][0]                    \n",
            "__________________________________________________________________________________________________\n",
            "embedding_4 (Embedding)         (None, 1, 150)       15000       input_6[0][0]                    \n",
            "__________________________________________________________________________________________________\n",
            "embedding_5 (Embedding)         (None, 1, 150)       5850        input_7[0][0]                    \n",
            "__________________________________________________________________________________________________\n",
            "embedding_6 (Embedding)         (None, 1, 150)       423450      input_8[0][0]                    \n",
            "__________________________________________________________________________________________________\n",
            "embedding_7 (Embedding)         (None, 1, 150)       1050        input_9[0][0]                    \n",
            "__________________________________________________________________________________________________\n",
            "embedding_8 (Embedding)         (None, 1, 150)       4800        input_10[0][0]                   \n",
            "__________________________________________________________________________________________________\n",
            "embedding_9 (Embedding)         (None, 1, 1)         2823        input_8[0][0]                    \n",
            "__________________________________________________________________________________________________\n",
            "embedding_10 (Embedding)        (None, 1, 1)         39          input_7[0][0]                    \n",
            "__________________________________________________________________________________________________\n",
            "flatten (Flatten)               (None, 150)          0           embedding[0][0]                  \n",
            "__________________________________________________________________________________________________\n",
            "flatten_1 (Flatten)             (None, 150)          0           embedding_1[0][0]                \n",
            "__________________________________________________________________________________________________\n",
            "flatten_2 (Flatten)             (None, 150)          0           embedding_2[0][0]                \n",
            "__________________________________________________________________________________________________\n",
            "flatten_3 (Flatten)             (None, 150)          0           embedding_3[0][0]                \n",
            "__________________________________________________________________________________________________\n",
            "flatten_4 (Flatten)             (None, 150)          0           embedding_4[0][0]                \n",
            "__________________________________________________________________________________________________\n",
            "flatten_5 (Flatten)             (None, 150)          0           embedding_5[0][0]                \n",
            "__________________________________________________________________________________________________\n",
            "flatten_6 (Flatten)             (None, 150)          0           embedding_6[0][0]                \n",
            "__________________________________________________________________________________________________\n",
            "flatten_7 (Flatten)             (None, 150)          0           embedding_7[0][0]                \n",
            "__________________________________________________________________________________________________\n",
            "flatten_8 (Flatten)             (None, 150)          0           embedding_8[0][0]                \n",
            "__________________________________________________________________________________________________\n",
            "flatten_9 (Flatten)             (None, 1)            0           embedding_9[0][0]                \n",
            "__________________________________________________________________________________________________\n",
            "flatten_10 (Flatten)            (None, 1)            0           embedding_10[0][0]               \n",
            "__________________________________________________________________________________________________\n",
            "concatenate (Concatenate)       (None, 1352)         0           flatten[0][0]                    \n",
            "                                                                 flatten_1[0][0]                  \n",
            "                                                                 flatten_2[0][0]                  \n",
            "                                                                 flatten_3[0][0]                  \n",
            "                                                                 flatten_4[0][0]                  \n",
            "                                                                 flatten_5[0][0]                  \n",
            "                                                                 flatten_6[0][0]                  \n",
            "                                                                 flatten_7[0][0]                  \n",
            "                                                                 flatten_8[0][0]                  \n",
            "                                                                 flatten_9[0][0]                  \n",
            "                                                                 flatten_10[0][0]                 \n",
            "__________________________________________________________________________________________________\n",
            "dense_11 (Dense)                (None, 256)          346368      concatenate[0][0]                \n",
            "__________________________________________________________________________________________________\n",
            "dense_12 (Dense)                (None, 512)          131584      dense_11[0][0]                   \n",
            "__________________________________________________________________________________________________\n",
            "dense_13 (Dense)                (None, 1024)         525312      dense_12[0][0]                   \n",
            "__________________________________________________________________________________________________\n",
            "dense_14 (Dense)                (None, 2048)         2099200     dense_13[0][0]                   \n",
            "__________________________________________________________________________________________________\n",
            "dense_15 (Dense)                (None, 4096)         8392704     dense_14[0][0]                   \n",
            "__________________________________________________________________________________________________\n",
            "dense_16 (Dense)                (None, 4096)         16781312    dense_15[0][0]                   \n",
            "__________________________________________________________________________________________________\n",
            "add_5 (Add)                     (None, 4096)         0           dense_16[0][0]                   \n",
            "                                                                 dense_15[0][0]                   \n",
            "__________________________________________________________________________________________________\n",
            "dense_17 (Dense)                (None, 2048)         8390656     add_5[0][0]                      \n",
            "__________________________________________________________________________________________________\n",
            "add_6 (Add)                     (None, 2048)         0           dense_17[0][0]                   \n",
            "                                                                 dense_14[0][0]                   \n",
            "__________________________________________________________________________________________________\n",
            "dense_18 (Dense)                (None, 1024)         2098176     add_6[0][0]                      \n",
            "__________________________________________________________________________________________________\n",
            "add_7 (Add)                     (None, 1024)         0           dense_18[0][0]                   \n",
            "                                                                 dense_13[0][0]                   \n",
            "__________________________________________________________________________________________________\n",
            "dense_19 (Dense)                (None, 512)          524800      add_7[0][0]                      \n",
            "__________________________________________________________________________________________________\n",
            "add_8 (Add)                     (None, 512)          0           dense_19[0][0]                   \n",
            "                                                                 dense_12[0][0]                   \n",
            "__________________________________________________________________________________________________\n",
            "dense_20 (Dense)                (None, 256)          131328      add_8[0][0]                      \n",
            "__________________________________________________________________________________________________\n",
            "add_9 (Add)                     (None, 256)          0           dense_20[0][0]                   \n",
            "                                                                 dense_11[0][0]                   \n",
            "__________________________________________________________________________________________________\n",
            "dense_21 (Dense)                (None, 1)            257         add_9[0][0]                      \n",
            "==================================================================================================\n",
            "Total params: 42,093,059\n",
            "Trainable params: 42,093,059\n",
            "Non-trainable params: 0\n",
            "__________________________________________________________________________________________________\n"
          ]
        }
      ]
    },
    {
      "cell_type": "code",
      "metadata": {
        "id": "JhLs46pF2DIt"
      },
      "source": [
        "def Embedding_MLP(n_nodes = 128):\n",
        "  inputs = Input(shape=(9,))\n",
        "\n",
        "  UB1 = Dense(n_nodes, activation=\"relu\")(inputs)\n",
        "  UB2 = Dense(n_nodes * 2, activation=\"relu\")(UB1)\n",
        "  UB3 = Dense(n_nodes * 4, activation=\"relu\")(UB2)\n",
        "  UB4 = Dense(n_nodes * 8, activation=\"relu\")(UB3)\n",
        "  UB5 = Dense(n_nodes * 16, activation=\"relu\")(UB4)\n",
        "\n",
        "  DB5 = Dense(n_nodes * 16, activation=\"relu\")(UB5)\n",
        "  DB5 = Add()([DB5, UB5])\n",
        "  DB4 = Dense(n_nodes * 8, activation=\"relu\")(DB5)\n",
        "  DB4 = Add()([DB4, UB4])\n",
        "  DB3 = Dense(n_nodes * 4, activation=\"relu\")(DB4)\n",
        "  DB3 = Add()([DB3, UB3])\n",
        "  DB2 = Dense(n_nodes * 2, activation=\"relu\")(DB3)\n",
        "  DB2 = Add()([DB2, UB2])\n",
        "  DB1 = Dense(n_nodes * 1, activation=\"relu\")(DB2)\n",
        "  DB1 = Add()([DB1, UB1])\n",
        "\n",
        "  outputs = Dense(1, activation=\"linear\")(DB1)\n",
        "  model = Model(inputs, outputs)\n",
        "  model.compile(loss='mae', optimizer='adam', metrics = [MAPE])\n",
        "  return model\n",
        "# U_net_model = U_net_model()\n",
        "# U_net_model.summary()"
      ],
      "execution_count": null,
      "outputs": []
    },
    {
      "cell_type": "code",
      "metadata": {
        "colab": {
          "base_uri": "https://localhost:8080/"
        },
        "id": "kDeaUQgqWFwe",
        "outputId": "dceca222-701d-4882-9b3f-6671d29bae92"
      },
      "source": [
        "def model(n_nodes = 256):\n",
        "  inputs = Input(shape=(9,))\n",
        "  layer_1 = Dense(n_nodes, activation=\"relu\")(inputs)\n",
        "\n",
        "  layer_2 = Dense(n_nodes, activation=\"relu\")(layer_1)\n",
        "  layer_2 = Add()([layer_2, layer_1])\n",
        "\n",
        "  layer_3 = Dense(n_nodes, activation=\"relu\")(layer_2)\n",
        "  layer_3 = Add()([layer_3, layer_2, layer_1])\n",
        "\n",
        "  layer_4 = Dense(n_nodes, activation=\"relu\")(layer_3)\n",
        "  layer_4 = Add()([layer_4, layer_3, layer_2, layer_1])\n",
        "\n",
        "  outputs = Dense(1, activation=\"linear\")(layer_4)\n",
        "  model = Model(inputs, outputs)\n",
        "  model.compile(loss='mae', optimizer='adam', metrics = [RMSE])\n",
        "  return model\n",
        "model = model()\n",
        "model.summary()"
      ],
      "execution_count": null,
      "outputs": [
        {
          "output_type": "stream",
          "name": "stdout",
          "text": [
            "Model: \"model_1\"\n",
            "__________________________________________________________________________________________________\n",
            "Layer (type)                    Output Shape         Param #     Connected to                     \n",
            "==================================================================================================\n",
            "input_2 (InputLayer)            [(None, 9)]          0                                            \n",
            "__________________________________________________________________________________________________\n",
            "dense_11 (Dense)                (None, 256)          2560        input_2[0][0]                    \n",
            "__________________________________________________________________________________________________\n",
            "dense_12 (Dense)                (None, 256)          65792       dense_11[0][0]                   \n",
            "__________________________________________________________________________________________________\n",
            "add_5 (Add)                     (None, 256)          0           dense_12[0][0]                   \n",
            "                                                                 dense_11[0][0]                   \n",
            "__________________________________________________________________________________________________\n",
            "dense_13 (Dense)                (None, 256)          65792       add_5[0][0]                      \n",
            "__________________________________________________________________________________________________\n",
            "add_6 (Add)                     (None, 256)          0           dense_13[0][0]                   \n",
            "                                                                 add_5[0][0]                      \n",
            "                                                                 dense_11[0][0]                   \n",
            "__________________________________________________________________________________________________\n",
            "dense_14 (Dense)                (None, 256)          65792       add_6[0][0]                      \n",
            "__________________________________________________________________________________________________\n",
            "add_7 (Add)                     (None, 256)          0           dense_14[0][0]                   \n",
            "                                                                 add_6[0][0]                      \n",
            "                                                                 add_5[0][0]                      \n",
            "                                                                 dense_11[0][0]                   \n",
            "__________________________________________________________________________________________________\n",
            "dense_15 (Dense)                (None, 1)            257         add_7[0][0]                      \n",
            "==================================================================================================\n",
            "Total params: 200,193\n",
            "Trainable params: 200,193\n",
            "Non-trainable params: 0\n",
            "__________________________________________________________________________________________________\n"
          ]
        }
      ]
    },
    {
      "cell_type": "code",
      "metadata": {
        "colab": {
          "base_uri": "https://localhost:8080/",
          "height": 419
        },
        "id": "oV9zFeE0fdWO",
        "outputId": "a0e5ad19-7a21-4879-e0fb-449207e2a4db"
      },
      "source": [
        "X_valid"
      ],
      "execution_count": null,
      "outputs": [
        {
          "output_type": "execute_result",
          "data": {
            "text/html": [
              "<div>\n",
              "<style scoped>\n",
              "    .dataframe tbody tr th:only-of-type {\n",
              "        vertical-align: middle;\n",
              "    }\n",
              "\n",
              "    .dataframe tbody tr th {\n",
              "        vertical-align: top;\n",
              "    }\n",
              "\n",
              "    .dataframe thead th {\n",
              "        text-align: right;\n",
              "    }\n",
              "</style>\n",
              "<table border=\"1\" class=\"dataframe\">\n",
              "  <thead>\n",
              "    <tr style=\"text-align: right;\">\n",
              "      <th></th>\n",
              "      <th>CORP_ID</th>\n",
              "      <th>SHPR_CD</th>\n",
              "      <th>ITEM_SEQ</th>\n",
              "      <th>ITEM_CD</th>\n",
              "      <th>ITEM_AMT</th>\n",
              "      <th>BRAND_NM</th>\n",
              "      <th>POST_ZONE</th>\n",
              "      <th>month</th>\n",
              "      <th>day</th>\n",
              "    </tr>\n",
              "  </thead>\n",
              "  <tbody>\n",
              "    <tr>\n",
              "      <th>1171078</th>\n",
              "      <td>1</td>\n",
              "      <td>90001622</td>\n",
              "      <td>2</td>\n",
              "      <td>12883</td>\n",
              "      <td>29900.0</td>\n",
              "      <td>0</td>\n",
              "      <td>11.0</td>\n",
              "      <td>6</td>\n",
              "      <td>17</td>\n",
              "    </tr>\n",
              "    <tr>\n",
              "      <th>1306357</th>\n",
              "      <td>1</td>\n",
              "      <td>90001441</td>\n",
              "      <td>1</td>\n",
              "      <td>3718</td>\n",
              "      <td>18900.0</td>\n",
              "      <td>1</td>\n",
              "      <td>21.0</td>\n",
              "      <td>6</td>\n",
              "      <td>29</td>\n",
              "    </tr>\n",
              "    <tr>\n",
              "      <th>1297811</th>\n",
              "      <td>1</td>\n",
              "      <td>90001582</td>\n",
              "      <td>1</td>\n",
              "      <td>4861</td>\n",
              "      <td>38100.0</td>\n",
              "      <td>1</td>\n",
              "      <td>58.0</td>\n",
              "      <td>6</td>\n",
              "      <td>28</td>\n",
              "    </tr>\n",
              "    <tr>\n",
              "      <th>885959</th>\n",
              "      <td>1</td>\n",
              "      <td>90001341</td>\n",
              "      <td>1</td>\n",
              "      <td>9859</td>\n",
              "      <td>12900.0</td>\n",
              "      <td>0</td>\n",
              "      <td>42.0</td>\n",
              "      <td>5</td>\n",
              "      <td>28</td>\n",
              "    </tr>\n",
              "    <tr>\n",
              "      <th>956087</th>\n",
              "      <td>1</td>\n",
              "      <td>90001341</td>\n",
              "      <td>3</td>\n",
              "      <td>5799</td>\n",
              "      <td>19900.0</td>\n",
              "      <td>0</td>\n",
              "      <td>13.0</td>\n",
              "      <td>6</td>\n",
              "      <td>2</td>\n",
              "    </tr>\n",
              "    <tr>\n",
              "      <th>...</th>\n",
              "      <td>...</td>\n",
              "      <td>...</td>\n",
              "      <td>...</td>\n",
              "      <td>...</td>\n",
              "      <td>...</td>\n",
              "      <td>...</td>\n",
              "      <td>...</td>\n",
              "      <td>...</td>\n",
              "      <td>...</td>\n",
              "    </tr>\n",
              "    <tr>\n",
              "      <th>32024</th>\n",
              "      <td>0</td>\n",
              "      <td>90001703</td>\n",
              "      <td>1</td>\n",
              "      <td>14253</td>\n",
              "      <td>226000.0</td>\n",
              "      <td>1</td>\n",
              "      <td>17.0</td>\n",
              "      <td>6</td>\n",
              "      <td>9</td>\n",
              "    </tr>\n",
              "    <tr>\n",
              "      <th>401354</th>\n",
              "      <td>1</td>\n",
              "      <td>90001443</td>\n",
              "      <td>1</td>\n",
              "      <td>6810</td>\n",
              "      <td>14700.0</td>\n",
              "      <td>1</td>\n",
              "      <td>1.0</td>\n",
              "      <td>4</td>\n",
              "      <td>7</td>\n",
              "    </tr>\n",
              "    <tr>\n",
              "      <th>381482</th>\n",
              "      <td>1</td>\n",
              "      <td>90001441</td>\n",
              "      <td>2</td>\n",
              "      <td>4394</td>\n",
              "      <td>19700.0</td>\n",
              "      <td>1</td>\n",
              "      <td>4.0</td>\n",
              "      <td>4</td>\n",
              "      <td>5</td>\n",
              "    </tr>\n",
              "    <tr>\n",
              "      <th>380308</th>\n",
              "      <td>1</td>\n",
              "      <td>90001441</td>\n",
              "      <td>1</td>\n",
              "      <td>4393</td>\n",
              "      <td>78800.0</td>\n",
              "      <td>1</td>\n",
              "      <td>16.0</td>\n",
              "      <td>4</td>\n",
              "      <td>5</td>\n",
              "    </tr>\n",
              "    <tr>\n",
              "      <th>116956</th>\n",
              "      <td>0</td>\n",
              "      <td>90001776</td>\n",
              "      <td>1</td>\n",
              "      <td>2467</td>\n",
              "      <td>30000.0</td>\n",
              "      <td>0</td>\n",
              "      <td>52.0</td>\n",
              "      <td>6</td>\n",
              "      <td>30</td>\n",
              "    </tr>\n",
              "  </tbody>\n",
              "</table>\n",
              "<p>212483 rows × 9 columns</p>\n",
              "</div>"
            ],
            "text/plain": [
              "         CORP_ID   SHPR_CD  ITEM_SEQ  ITEM_CD  ...  BRAND_NM  POST_ZONE  month  day\n",
              "1171078        1  90001622         2    12883  ...         0       11.0      6   17\n",
              "1306357        1  90001441         1     3718  ...         1       21.0      6   29\n",
              "1297811        1  90001582         1     4861  ...         1       58.0      6   28\n",
              "885959         1  90001341         1     9859  ...         0       42.0      5   28\n",
              "956087         1  90001341         3     5799  ...         0       13.0      6    2\n",
              "...          ...       ...       ...      ...  ...       ...        ...    ...  ...\n",
              "32024          0  90001703         1    14253  ...         1       17.0      6    9\n",
              "401354         1  90001443         1     6810  ...         1        1.0      4    7\n",
              "381482         1  90001441         2     4394  ...         1        4.0      4    5\n",
              "380308         1  90001441         1     4393  ...         1       16.0      4    5\n",
              "116956         0  90001776         1     2467  ...         0       52.0      6   30\n",
              "\n",
              "[212483 rows x 9 columns]"
            ]
          },
          "metadata": {},
          "execution_count": 80
        }
      ]
    },
    {
      "cell_type": "code",
      "metadata": {
        "id": "SdgjhfRMf2T6"
      },
      "source": [
        "# [X_valid.CORP_ID. X_valid.BRAMD_NM, X_valid.ITEM_CD, X_valid.SHPR_CD, X_valid.POST_ZONE, X_valid.ITEM_SEQ, X_valid.ITEM_AMT, X_valid.month, X_valid.day]"
      ],
      "execution_count": null,
      "outputs": []
    },
    {
      "cell_type": "code",
      "metadata": {
        "id": "ShI1HkvxXpsj"
      },
      "source": [
        "callbacks_list = [\n",
        "    tf.keras.callbacks.ModelCheckpoint(\n",
        "        filepath = '/content/gdrive/MyDrive/Dataset/CJ AI/rmse_9features.h5',\n",
        "        monitor = 'val_loss',\n",
        "        save_best_only=True\n",
        "    )]"
      ],
      "execution_count": 20,
      "outputs": []
    },
    {
      "cell_type": "code",
      "metadata": {
        "colab": {
          "base_uri": "https://localhost:8080/"
        },
        "id": "KcH1FxFua15c",
        "outputId": "22d3561b-a5a5-4dfa-f7d6-1705d9ca7ca1"
      },
      "source": [
        "model.fit(x = (X_train.CORP_ID, X_train.BRAND_NM, X_train.ITEM_CD,X_train.SHPR_CD,X_train.POST_ZONE,X_train.ITEM_SEQ,X_train.ITEM_AMT,X_train.month,X_train.day),\n",
        "          y = Y_train,\n",
        "          validation_split = 0.2,\n",
        "          batch_size = 2048,\n",
        "          shuffle = True,\n",
        "          epochs = 100,\n",
        "          callbacks = callbacks_list)"
      ],
      "execution_count": 21,
      "outputs": [
        {
          "output_type": "stream",
          "name": "stdout",
          "text": [
            "Epoch 1/100\n",
            "416/416 [==============================] - 23s 47ms/step - loss: 2.4007 - RMSE: 1.4950 - val_loss: 1.3177 - val_RMSE: 1.1164\n"
          ]
        },
        {
          "output_type": "stream",
          "name": "stderr",
          "text": [
            "/usr/local/lib/python3.7/dist-packages/keras/utils/generic_utils.py:497: CustomMaskWarning: Custom mask layers require a config and must override get_config. When loading, the custom mask layer must be passed to the custom_objects argument.\n",
            "  category=CustomMaskWarning)\n"
          ]
        },
        {
          "output_type": "stream",
          "name": "stdout",
          "text": [
            "Epoch 2/100\n",
            "416/416 [==============================] - 19s 46ms/step - loss: 1.6102 - RMSE: 1.3932 - val_loss: 1.2847 - val_RMSE: 1.0545\n",
            "Epoch 3/100\n",
            "416/416 [==============================] - 19s 46ms/step - loss: 1.3310 - RMSE: 1.0916 - val_loss: 1.2264 - val_RMSE: 0.9693\n",
            "Epoch 4/100\n",
            "416/416 [==============================] - 19s 46ms/step - loss: 1.2529 - RMSE: 0.9892 - val_loss: 1.1232 - val_RMSE: 0.8485\n",
            "Epoch 5/100\n",
            "416/416 [==============================] - 19s 46ms/step - loss: 1.2457 - RMSE: 0.9651 - val_loss: 1.1682 - val_RMSE: 0.8883\n",
            "Epoch 6/100\n",
            "416/416 [==============================] - 19s 46ms/step - loss: 1.5631 - RMSE: 1.2846 - val_loss: 1.5841 - val_RMSE: 1.3134\n",
            "Epoch 7/100\n",
            "416/416 [==============================] - 19s 46ms/step - loss: 1.1281 - RMSE: 0.8629 - val_loss: 1.1483 - val_RMSE: 0.8989\n",
            "Epoch 8/100\n",
            "416/416 [==============================] - 19s 46ms/step - loss: 1.0043 - RMSE: 0.7555 - val_loss: 1.0539 - val_RMSE: 0.8176\n",
            "Epoch 9/100\n",
            "416/416 [==============================] - 19s 46ms/step - loss: 0.9231 - RMSE: 0.6861 - val_loss: 1.0132 - val_RMSE: 0.7795\n",
            "Epoch 10/100\n",
            "416/416 [==============================] - 19s 46ms/step - loss: 1.5080 - RMSE: 1.2643 - val_loss: 0.9927 - val_RMSE: 0.7560\n",
            "Epoch 11/100\n",
            "416/416 [==============================] - 19s 46ms/step - loss: 0.9408 - RMSE: 0.7040 - val_loss: 0.9778 - val_RMSE: 0.7386\n",
            "Epoch 12/100\n",
            "416/416 [==============================] - 19s 46ms/step - loss: 0.8899 - RMSE: 0.6608 - val_loss: 0.9096 - val_RMSE: 0.6879\n",
            "Epoch 13/100\n",
            "416/416 [==============================] - 19s 46ms/step - loss: 0.9001 - RMSE: 0.6743 - val_loss: 0.9502 - val_RMSE: 0.7313\n",
            "Epoch 14/100\n",
            "416/416 [==============================] - 19s 46ms/step - loss: 0.8154 - RMSE: 0.5964 - val_loss: 0.9297 - val_RMSE: 0.7142\n",
            "Epoch 15/100\n",
            "416/416 [==============================] - 19s 46ms/step - loss: 0.8092 - RMSE: 0.5865 - val_loss: 0.9546 - val_RMSE: 0.7375\n",
            "Epoch 16/100\n",
            "416/416 [==============================] - 19s 46ms/step - loss: 0.7854 - RMSE: 0.5628 - val_loss: 0.9257 - val_RMSE: 0.6981\n",
            "Epoch 17/100\n",
            "416/416 [==============================] - 19s 46ms/step - loss: 0.7420 - RMSE: 0.5215 - val_loss: 0.8992 - val_RMSE: 0.6746\n",
            "Epoch 18/100\n",
            "416/416 [==============================] - 19s 46ms/step - loss: 0.7287 - RMSE: 0.5073 - val_loss: 0.8833 - val_RMSE: 0.6676\n",
            "Epoch 19/100\n",
            "416/416 [==============================] - 19s 46ms/step - loss: 0.7050 - RMSE: 0.4950 - val_loss: 0.9191 - val_RMSE: 0.6983\n",
            "Epoch 20/100\n",
            "416/416 [==============================] - 19s 46ms/step - loss: 0.7296 - RMSE: 0.5089 - val_loss: 0.9089 - val_RMSE: 0.6805\n",
            "Epoch 21/100\n",
            "416/416 [==============================] - 19s 46ms/step - loss: 0.7216 - RMSE: 0.5054 - val_loss: 0.8246 - val_RMSE: 0.6200\n",
            "Epoch 22/100\n",
            "416/416 [==============================] - 19s 46ms/step - loss: 0.6765 - RMSE: 0.4710 - val_loss: 0.8801 - val_RMSE: 0.6685\n",
            "Epoch 23/100\n",
            "416/416 [==============================] - 19s 46ms/step - loss: 0.6698 - RMSE: 0.4598 - val_loss: 0.8460 - val_RMSE: 0.6463\n",
            "Epoch 24/100\n",
            "416/416 [==============================] - 19s 46ms/step - loss: 0.6759 - RMSE: 0.4725 - val_loss: 0.8254 - val_RMSE: 0.6276\n",
            "Epoch 25/100\n",
            "416/416 [==============================] - 19s 46ms/step - loss: 0.6393 - RMSE: 0.4363 - val_loss: 0.8786 - val_RMSE: 0.6693\n",
            "Epoch 26/100\n",
            "416/416 [==============================] - 19s 46ms/step - loss: 0.6646 - RMSE: 0.4533 - val_loss: 0.8101 - val_RMSE: 0.6045\n",
            "Epoch 27/100\n",
            "416/416 [==============================] - 19s 46ms/step - loss: 0.6819 - RMSE: 0.4755 - val_loss: 0.9933 - val_RMSE: 0.7718\n",
            "Epoch 28/100\n",
            "416/416 [==============================] - 19s 46ms/step - loss: 0.6637 - RMSE: 0.4532 - val_loss: 0.8280 - val_RMSE: 0.6244\n",
            "Epoch 29/100\n",
            "416/416 [==============================] - 19s 46ms/step - loss: 0.6251 - RMSE: 0.4237 - val_loss: 0.8569 - val_RMSE: 0.6670\n",
            "Epoch 30/100\n",
            "416/416 [==============================] - 19s 46ms/step - loss: 0.7199 - RMSE: 0.5183 - val_loss: 0.9165 - val_RMSE: 0.6916\n",
            "Epoch 31/100\n",
            "416/416 [==============================] - 19s 46ms/step - loss: 0.7156 - RMSE: 0.4929 - val_loss: 0.8105 - val_RMSE: 0.6068\n",
            "Epoch 32/100\n",
            "416/416 [==============================] - 19s 46ms/step - loss: 0.6593 - RMSE: 0.4542 - val_loss: 0.8308 - val_RMSE: 0.6320\n",
            "Epoch 33/100\n",
            "416/416 [==============================] - 19s 46ms/step - loss: 0.6390 - RMSE: 0.4408 - val_loss: 0.8307 - val_RMSE: 0.6340\n",
            "Epoch 34/100\n",
            "416/416 [==============================] - 19s 46ms/step - loss: 0.6445 - RMSE: 0.4428 - val_loss: 0.8209 - val_RMSE: 0.6105\n",
            "Epoch 35/100\n",
            "416/416 [==============================] - 19s 46ms/step - loss: 0.6602 - RMSE: 0.4523 - val_loss: 0.8153 - val_RMSE: 0.6123\n",
            "Epoch 36/100\n",
            "416/416 [==============================] - 19s 46ms/step - loss: 0.6469 - RMSE: 0.4409 - val_loss: 0.8293 - val_RMSE: 0.6155\n",
            "Epoch 37/100\n",
            "416/416 [==============================] - 19s 46ms/step - loss: 0.6279 - RMSE: 0.4224 - val_loss: 0.7887 - val_RMSE: 0.5890\n",
            "Epoch 38/100\n",
            "416/416 [==============================] - 19s 46ms/step - loss: 0.6365 - RMSE: 0.4367 - val_loss: 0.8069 - val_RMSE: 0.6105\n",
            "Epoch 39/100\n",
            "416/416 [==============================] - 19s 46ms/step - loss: 0.5983 - RMSE: 0.4019 - val_loss: 0.8137 - val_RMSE: 0.6145\n",
            "Epoch 40/100\n",
            "416/416 [==============================] - 19s 46ms/step - loss: 0.5968 - RMSE: 0.3996 - val_loss: 0.8104 - val_RMSE: 0.6049\n",
            "Epoch 41/100\n",
            "416/416 [==============================] - 19s 46ms/step - loss: 0.6503 - RMSE: 0.4455 - val_loss: 0.7917 - val_RMSE: 0.5961\n",
            "Epoch 42/100\n",
            "416/416 [==============================] - 19s 46ms/step - loss: 0.5729 - RMSE: 0.3800 - val_loss: 0.8083 - val_RMSE: 0.6160\n",
            "Epoch 43/100\n",
            "416/416 [==============================] - 19s 46ms/step - loss: 0.5801 - RMSE: 0.3843 - val_loss: 0.7732 - val_RMSE: 0.5802\n",
            "Epoch 44/100\n",
            "416/416 [==============================] - 19s 46ms/step - loss: 0.5953 - RMSE: 0.4037 - val_loss: 0.7751 - val_RMSE: 0.5852\n",
            "Epoch 45/100\n",
            "416/416 [==============================] - 19s 46ms/step - loss: 0.5824 - RMSE: 0.3906 - val_loss: 0.8291 - val_RMSE: 0.6241\n",
            "Epoch 46/100\n",
            "416/416 [==============================] - 19s 46ms/step - loss: 0.6472 - RMSE: 0.4421 - val_loss: 0.7744 - val_RMSE: 0.5792\n",
            "Epoch 47/100\n",
            "416/416 [==============================] - 19s 46ms/step - loss: 0.6013 - RMSE: 0.4033 - val_loss: 0.7868 - val_RMSE: 0.5904\n",
            "Epoch 48/100\n",
            "416/416 [==============================] - 19s 46ms/step - loss: 0.5701 - RMSE: 0.3760 - val_loss: 0.7593 - val_RMSE: 0.5717\n",
            "Epoch 49/100\n",
            "416/416 [==============================] - 19s 46ms/step - loss: 0.5705 - RMSE: 0.3804 - val_loss: 0.7697 - val_RMSE: 0.5832\n",
            "Epoch 50/100\n",
            "416/416 [==============================] - 19s 46ms/step - loss: 0.5455 - RMSE: 0.3594 - val_loss: 0.7770 - val_RMSE: 0.5890\n",
            "Epoch 51/100\n",
            "416/416 [==============================] - 19s 46ms/step - loss: 0.5567 - RMSE: 0.3672 - val_loss: 0.7538 - val_RMSE: 0.5705\n",
            "Epoch 52/100\n",
            "416/416 [==============================] - 19s 46ms/step - loss: 0.5693 - RMSE: 0.3773 - val_loss: 0.7455 - val_RMSE: 0.5499\n",
            "Epoch 53/100\n",
            "416/416 [==============================] - 19s 46ms/step - loss: 0.5410 - RMSE: 0.3505 - val_loss: 0.7568 - val_RMSE: 0.5659\n",
            "Epoch 54/100\n",
            "416/416 [==============================] - 19s 46ms/step - loss: 0.5486 - RMSE: 0.3560 - val_loss: 0.7655 - val_RMSE: 0.5769\n",
            "Epoch 55/100\n",
            "416/416 [==============================] - 19s 46ms/step - loss: 0.5638 - RMSE: 0.3686 - val_loss: 0.7559 - val_RMSE: 0.5593\n",
            "Epoch 56/100\n",
            "416/416 [==============================] - 19s 46ms/step - loss: 0.5479 - RMSE: 0.3596 - val_loss: 0.7950 - val_RMSE: 0.6138\n",
            "Epoch 57/100\n",
            "416/416 [==============================] - 19s 46ms/step - loss: 0.5651 - RMSE: 0.3765 - val_loss: 0.7933 - val_RMSE: 0.6046\n",
            "Epoch 58/100\n",
            "416/416 [==============================] - 19s 46ms/step - loss: 0.5315 - RMSE: 0.3469 - val_loss: 0.7524 - val_RMSE: 0.5649\n",
            "Epoch 59/100\n",
            "416/416 [==============================] - 19s 46ms/step - loss: 0.5381 - RMSE: 0.3515 - val_loss: 0.7118 - val_RMSE: 0.5322\n",
            "Epoch 60/100\n",
            "416/416 [==============================] - 19s 46ms/step - loss: 0.5301 - RMSE: 0.3442 - val_loss: 0.7162 - val_RMSE: 0.5378\n",
            "Epoch 61/100\n",
            "416/416 [==============================] - 19s 46ms/step - loss: 0.5247 - RMSE: 0.3432 - val_loss: 0.7400 - val_RMSE: 0.5610\n",
            "Epoch 62/100\n",
            "416/416 [==============================] - 19s 46ms/step - loss: 0.5250 - RMSE: 0.3437 - val_loss: 0.7959 - val_RMSE: 0.6067\n",
            "Epoch 63/100\n",
            "416/416 [==============================] - 19s 46ms/step - loss: 0.5536 - RMSE: 0.3646 - val_loss: 0.7848 - val_RMSE: 0.5931\n",
            "Epoch 64/100\n",
            "416/416 [==============================] - 19s 46ms/step - loss: 0.5358 - RMSE: 0.3450 - val_loss: 0.7549 - val_RMSE: 0.5752\n",
            "Epoch 65/100\n",
            "416/416 [==============================] - 19s 46ms/step - loss: 0.5274 - RMSE: 0.3432 - val_loss: 0.7215 - val_RMSE: 0.5351\n",
            "Epoch 66/100\n",
            "416/416 [==============================] - 19s 46ms/step - loss: 0.5333 - RMSE: 0.3517 - val_loss: 0.7210 - val_RMSE: 0.5411\n",
            "Epoch 67/100\n",
            "416/416 [==============================] - 19s 46ms/step - loss: 0.5542 - RMSE: 0.3698 - val_loss: 0.7562 - val_RMSE: 0.5765\n",
            "Epoch 68/100\n",
            "416/416 [==============================] - 19s 46ms/step - loss: 0.5341 - RMSE: 0.3485 - val_loss: 0.7474 - val_RMSE: 0.5478\n",
            "Epoch 69/100\n",
            "416/416 [==============================] - 19s 46ms/step - loss: 0.5258 - RMSE: 0.3406 - val_loss: 0.7402 - val_RMSE: 0.5514\n",
            "Epoch 70/100\n",
            "416/416 [==============================] - 19s 46ms/step - loss: 0.5141 - RMSE: 0.3297 - val_loss: 0.7689 - val_RMSE: 0.5830\n",
            "Epoch 71/100\n",
            "416/416 [==============================] - 19s 46ms/step - loss: 0.5216 - RMSE: 0.3401 - val_loss: 0.7127 - val_RMSE: 0.5395\n",
            "Epoch 72/100\n",
            "416/416 [==============================] - 19s 46ms/step - loss: 0.4992 - RMSE: 0.3199 - val_loss: 0.6966 - val_RMSE: 0.5209\n",
            "Epoch 73/100\n",
            "416/416 [==============================] - 19s 46ms/step - loss: 0.5180 - RMSE: 0.3391 - val_loss: 0.8016 - val_RMSE: 0.6145\n",
            "Epoch 74/100\n",
            "416/416 [==============================] - 19s 46ms/step - loss: 0.5430 - RMSE: 0.3544 - val_loss: 0.7517 - val_RMSE: 0.5662\n",
            "Epoch 75/100\n",
            "416/416 [==============================] - 19s 46ms/step - loss: 0.5167 - RMSE: 0.3374 - val_loss: 0.7720 - val_RMSE: 0.6002\n",
            "Epoch 76/100\n",
            "416/416 [==============================] - 19s 46ms/step - loss: 0.5165 - RMSE: 0.3348 - val_loss: 0.7095 - val_RMSE: 0.5287\n",
            "Epoch 77/100\n",
            "416/416 [==============================] - 19s 46ms/step - loss: 0.4984 - RMSE: 0.3199 - val_loss: 0.7183 - val_RMSE: 0.5385\n",
            "Epoch 78/100\n",
            "416/416 [==============================] - 19s 46ms/step - loss: 0.5147 - RMSE: 0.3328 - val_loss: 0.7437 - val_RMSE: 0.5653\n",
            "Epoch 79/100\n",
            "416/416 [==============================] - 19s 46ms/step - loss: 0.5211 - RMSE: 0.3433 - val_loss: 0.8118 - val_RMSE: 0.6099\n",
            "Epoch 80/100\n",
            "416/416 [==============================] - 19s 46ms/step - loss: 0.5197 - RMSE: 0.3330 - val_loss: 0.7055 - val_RMSE: 0.5307\n",
            "Epoch 81/100\n",
            "416/416 [==============================] - 19s 46ms/step - loss: 0.5166 - RMSE: 0.3390 - val_loss: 0.6966 - val_RMSE: 0.5209\n",
            "Epoch 82/100\n",
            "416/416 [==============================] - 19s 46ms/step - loss: 0.4798 - RMSE: 0.3044 - val_loss: 0.7017 - val_RMSE: 0.5266\n",
            "Epoch 83/100\n",
            "416/416 [==============================] - 19s 46ms/step - loss: 0.5116 - RMSE: 0.3354 - val_loss: 0.7423 - val_RMSE: 0.5606\n",
            "Epoch 84/100\n",
            "416/416 [==============================] - 19s 46ms/step - loss: 0.4963 - RMSE: 0.3181 - val_loss: 0.7130 - val_RMSE: 0.5429\n",
            "Epoch 85/100\n",
            "416/416 [==============================] - 19s 46ms/step - loss: 0.5232 - RMSE: 0.3426 - val_loss: 0.7251 - val_RMSE: 0.5432\n",
            "Epoch 86/100\n",
            "416/416 [==============================] - 19s 46ms/step - loss: 0.4987 - RMSE: 0.3175 - val_loss: 0.7267 - val_RMSE: 0.5537\n",
            "Epoch 87/100\n",
            "416/416 [==============================] - 19s 46ms/step - loss: 0.5267 - RMSE: 0.3417 - val_loss: 0.7111 - val_RMSE: 0.5248\n",
            "Epoch 88/100\n",
            "416/416 [==============================] - 19s 46ms/step - loss: 0.5143 - RMSE: 0.3283 - val_loss: 0.7094 - val_RMSE: 0.5350\n",
            "Epoch 89/100\n",
            "416/416 [==============================] - 19s 46ms/step - loss: 0.4874 - RMSE: 0.3094 - val_loss: 0.7055 - val_RMSE: 0.5313\n",
            "Epoch 90/100\n",
            "416/416 [==============================] - 19s 46ms/step - loss: 0.4969 - RMSE: 0.3209 - val_loss: 0.7078 - val_RMSE: 0.5341\n",
            "Epoch 91/100\n",
            "416/416 [==============================] - 19s 46ms/step - loss: 0.4770 - RMSE: 0.2992 - val_loss: 0.7289 - val_RMSE: 0.5439\n",
            "Epoch 92/100\n",
            "416/416 [==============================] - 19s 46ms/step - loss: 0.5207 - RMSE: 0.3394 - val_loss: 0.7303 - val_RMSE: 0.5456\n",
            "Epoch 93/100\n",
            "416/416 [==============================] - 19s 46ms/step - loss: 0.4998 - RMSE: 0.3199 - val_loss: 0.7382 - val_RMSE: 0.5506\n",
            "Epoch 94/100\n",
            "416/416 [==============================] - 19s 46ms/step - loss: 0.5216 - RMSE: 0.3374 - val_loss: 0.7345 - val_RMSE: 0.5539\n",
            "Epoch 95/100\n",
            "416/416 [==============================] - 19s 46ms/step - loss: 0.4968 - RMSE: 0.3218 - val_loss: 0.7329 - val_RMSE: 0.5546\n",
            "Epoch 96/100\n",
            "416/416 [==============================] - 19s 46ms/step - loss: 0.5154 - RMSE: 0.3346 - val_loss: 0.6989 - val_RMSE: 0.5234\n",
            "Epoch 97/100\n",
            "416/416 [==============================] - 19s 46ms/step - loss: 0.4868 - RMSE: 0.3103 - val_loss: 0.7145 - val_RMSE: 0.5373\n",
            "Epoch 98/100\n",
            "416/416 [==============================] - 19s 46ms/step - loss: 0.4988 - RMSE: 0.3193 - val_loss: 0.7271 - val_RMSE: 0.5420\n",
            "Epoch 99/100\n",
            "416/416 [==============================] - 19s 46ms/step - loss: 0.5026 - RMSE: 0.3211 - val_loss: 0.7118 - val_RMSE: 0.5337\n",
            "Epoch 100/100\n",
            "416/416 [==============================] - 19s 46ms/step - loss: 0.4829 - RMSE: 0.3075 - val_loss: 0.7262 - val_RMSE: 0.5517\n"
          ]
        },
        {
          "output_type": "execute_result",
          "data": {
            "text/plain": [
              "<keras.callbacks.History at 0x7f79f5753e90>"
            ]
          },
          "metadata": {},
          "execution_count": 21
        }
      ]
    },
    {
      "cell_type": "markdown",
      "metadata": {
        "id": "PLBP9785pGxX"
      },
      "source": [
        "loss - mae, metrics = mape\n",
        "\n",
        "112/112 [==============================] - 6s 52ms/step - loss: 0.1429 - MAPE:  8464 - val_loss: 0.1500 - val_MAPE: 4.9451"
      ]
    },
    {
      "cell_type": "markdown",
      "metadata": {
        "id": "hhJH3X58_7Qw"
      },
      "source": [
        "# Model Evaluation"
      ]
    },
    {
      "cell_type": "code",
      "metadata": {
        "id": "4Iac_k8_ofUb"
      },
      "source": [
        "model = tf.keras.models.load_model('/content/gdrive/MyDrive/Dataset/CJ AI/rmse_9features.h5', \n",
        "                                   custom_objects = {'RMSE': RMSE})"
      ],
      "execution_count": 22,
      "outputs": []
    },
    {
      "cell_type": "code",
      "metadata": {
        "id": "llYnXZCo_6xo"
      },
      "source": [
        "predict_public = model.predict(x = [X_test_public.CORP_ID, X_test_public.BRAND_NM, X_test_public.ITEM_CD,\n",
        "                                    X_test_public.SHPR_CD, X_test_public.POST_ZONE, X_test_public.ITEM_SEQ,\n",
        "                                    X_test_public.ITEM_AMT, X_test_public.month, X_test_public.day])"
      ],
      "execution_count": 23,
      "outputs": []
    },
    {
      "cell_type": "code",
      "metadata": {
        "id": "HW9CszRwv9ef"
      },
      "source": [
        "predict_private = model.predict(x = [X_test_private.CORP_ID, X_test_private.BRAND_NM, X_test_private.ITEM_CD,\n",
        "                                    X_test_private.SHPR_CD, X_test_private.POST_ZONE, X_test_private.ITEM_SEQ,\n",
        "                                    X_test_private.ITEM_AMT, X_test_private.month, X_test_private.day])"
      ],
      "execution_count": 81,
      "outputs": []
    },
    {
      "cell_type": "code",
      "metadata": {
        "id": "CXHdXYWogEQd"
      },
      "source": [
        "predict_public = pd.DataFrame(predict_public)\n",
        "predict_private = pd.DataFrame(predict_private)"
      ],
      "execution_count": 83,
      "outputs": []
    },
    {
      "cell_type": "code",
      "metadata": {
        "id": "XlwlQizVgWcd"
      },
      "source": [
        "predict_public = round(predict_public)\n",
        "predict_private = round(predict_private)"
      ],
      "execution_count": 84,
      "outputs": []
    },
    {
      "cell_type": "code",
      "metadata": {
        "id": "zvl-ozmXuP7a"
      },
      "source": [
        "Y_test_public = Y_test_public.reset_index(drop=True)\n",
        "Y_test_public = pd.DataFrame(Y_test_public)\n",
        "Y_test_private = Y_test_private.reset_index(drop=True)\n",
        "Y_test_private = pd.DataFrame(Y_test_private)"
      ],
      "execution_count": 85,
      "outputs": []
    },
    {
      "cell_type": "code",
      "metadata": {
        "id": "0tPZR0alvPVn"
      },
      "source": [
        "Y_test_public = pd.DataFrame(Y_test_public)\n",
        "Y_test_private = pd.DataFrame(Y_test_private)"
      ],
      "execution_count": 71,
      "outputs": []
    },
    {
      "cell_type": "code",
      "metadata": {
        "id": "V7g8YKjRvcFH"
      },
      "source": [
        "new_public = pd.concat((predict_public, Y_test_public), axis = 1, ignore_index = True, join='inner')\n",
        "new_private = pd.concat((predict_private, Y_test_private), axis = 1, ignore_index = True, join='inner')"
      ],
      "execution_count": 86,
      "outputs": []
    },
    {
      "cell_type": "code",
      "metadata": {
        "colab": {
          "base_uri": "https://localhost:8080/"
        },
        "id": "8HYbJ6ZGvdTc",
        "outputId": "47667c81-e6ea-4918-caa2-1498f0a03017"
      },
      "source": [
        "print(len(new_public[new_public[0] == new_public[1]]) / len(new_public[0]))\n",
        "print(len(new_private[new_private[0] == new_private[1]]) / len(new_private[0]))"
      ],
      "execution_count": 90,
      "outputs": [
        {
          "output_type": "stream",
          "name": "stdout",
          "text": [
            "0.9668980888842036\n",
            "0.9668604388488126\n"
          ]
        }
      ]
    },
    {
      "cell_type": "code",
      "metadata": {
        "id": "eMCIvxRGypxT"
      },
      "source": [
        ""
      ],
      "execution_count": null,
      "outputs": []
    },
    {
      "cell_type": "code",
      "metadata": {
        "id": "aVl70Cu1wpxn"
      },
      "source": [
        "print(len(new_public[new_public[0] == new_public[1] & ]) / len(new_public[0]))\n",
        "print(len(new_private[new_private[0] == new_private[1]]) / len(new_private[0]))"
      ],
      "execution_count": null,
      "outputs": []
    },
    {
      "cell_type": "code",
      "metadata": {
        "colab": {
          "base_uri": "https://localhost:8080/"
        },
        "id": "YV0poDAltmFP",
        "outputId": "00e1bdaa-6fea-4ca0-8046-0f6895ff92de"
      },
      "source": [
        "len(predict_public[predict_public[0] == 1])"
      ],
      "execution_count": 52,
      "outputs": [
        {
          "output_type": "execute_result",
          "data": {
            "text/plain": [
              "110744"
            ]
          },
          "metadata": {},
          "execution_count": 52
        }
      ]
    },
    {
      "cell_type": "code",
      "metadata": {
        "colab": {
          "base_uri": "https://localhost:8080/",
          "height": 370
        },
        "id": "BnYr1f4UrEoX",
        "outputId": "1f751074-e97c-412b-c3fa-ba2795f68110"
      },
      "source": [
        "sum_1_predict = 0\n",
        "sum_1_test = 0\n",
        "sum_predict = 0\n",
        "sum_test = 0\n",
        "one_notone = 0\n",
        "not1_1 = 0\n",
        "one_one = 0\n",
        "n1_n1 = 0\n",
        "\n",
        "for i in range(len(predict_public)):\n",
        "  if predict_public[i] == 1:\n",
        "    sum_1_predict += 1\n",
        "  else:\n",
        "    sum_predict += 1\n",
        "  if Y_test_public[i] == 1:\n",
        "    sum_1_test += 1\n",
        "  else:\n",
        "    sum_test += 1\n",
        "  if predict_public[i] == Y_test_public[i] and Y_test_public[i] == 1:\n",
        "    one_one += 1\n",
        "  elif predict_public[i] == Y_test_public[i] and Y_test_public[i] != 1:\n",
        "    n1_n1 += 1\n",
        "  elif predict_public[i] != Y_test_public[i] and Y_test_public[i] == 1:\n",
        "    not1_1 ++ 1\n",
        "  else:\n",
        "    one_notone += 1"
      ],
      "execution_count": 43,
      "outputs": [
        {
          "output_type": "error",
          "ename": "ValueError",
          "evalue": "ignored",
          "traceback": [
            "\u001b[0;31m---------------------------------------------------------------------------\u001b[0m",
            "\u001b[0;31mValueError\u001b[0m                                Traceback (most recent call last)",
            "\u001b[0;32m<ipython-input-43-8cf550164758>\u001b[0m in \u001b[0;36m<module>\u001b[0;34m()\u001b[0m\n\u001b[1;32m      9\u001b[0m \u001b[0;34m\u001b[0m\u001b[0m\n\u001b[1;32m     10\u001b[0m \u001b[0;32mfor\u001b[0m \u001b[0mi\u001b[0m \u001b[0;32min\u001b[0m \u001b[0mrange\u001b[0m\u001b[0;34m(\u001b[0m\u001b[0mlen\u001b[0m\u001b[0;34m(\u001b[0m\u001b[0mpredict_public\u001b[0m\u001b[0;34m)\u001b[0m\u001b[0;34m)\u001b[0m\u001b[0;34m:\u001b[0m\u001b[0;34m\u001b[0m\u001b[0;34m\u001b[0m\u001b[0m\n\u001b[0;32m---> 11\u001b[0;31m   \u001b[0;32mif\u001b[0m \u001b[0mpredict_public\u001b[0m\u001b[0;34m[\u001b[0m\u001b[0mi\u001b[0m\u001b[0;34m]\u001b[0m \u001b[0;34m==\u001b[0m \u001b[0;36m1\u001b[0m\u001b[0;34m:\u001b[0m\u001b[0;34m\u001b[0m\u001b[0;34m\u001b[0m\u001b[0m\n\u001b[0m\u001b[1;32m     12\u001b[0m     \u001b[0msum_1_predict\u001b[0m \u001b[0;34m+=\u001b[0m \u001b[0;36m1\u001b[0m\u001b[0;34m\u001b[0m\u001b[0;34m\u001b[0m\u001b[0m\n\u001b[1;32m     13\u001b[0m   \u001b[0;32melse\u001b[0m\u001b[0;34m:\u001b[0m\u001b[0;34m\u001b[0m\u001b[0;34m\u001b[0m\u001b[0m\n",
            "\u001b[0;32m/usr/local/lib/python3.7/dist-packages/pandas/core/generic.py\u001b[0m in \u001b[0;36m__nonzero__\u001b[0;34m(self)\u001b[0m\n\u001b[1;32m   1328\u001b[0m     \u001b[0;32mdef\u001b[0m \u001b[0m__nonzero__\u001b[0m\u001b[0;34m(\u001b[0m\u001b[0mself\u001b[0m\u001b[0;34m)\u001b[0m\u001b[0;34m:\u001b[0m\u001b[0;34m\u001b[0m\u001b[0;34m\u001b[0m\u001b[0m\n\u001b[1;32m   1329\u001b[0m         raise ValueError(\n\u001b[0;32m-> 1330\u001b[0;31m             \u001b[0;34mf\"The truth value of a {type(self).__name__} is ambiguous. \"\u001b[0m\u001b[0;34m\u001b[0m\u001b[0;34m\u001b[0m\u001b[0m\n\u001b[0m\u001b[1;32m   1331\u001b[0m             \u001b[0;34m\"Use a.empty, a.bool(), a.item(), a.any() or a.all().\"\u001b[0m\u001b[0;34m\u001b[0m\u001b[0;34m\u001b[0m\u001b[0m\n\u001b[1;32m   1332\u001b[0m         )\n",
            "\u001b[0;31mValueError\u001b[0m: The truth value of a Series is ambiguous. Use a.empty, a.bool(), a.item(), a.any() or a.all()."
          ]
        }
      ]
    },
    {
      "cell_type": "code",
      "metadata": {
        "id": "3POneDxpo0UH"
      },
      "source": [
        "predict_public.to_csv('/content/gdrive/MyDrive/Dataset/CJ AI/predict.csv', index = False)\n",
        "Y_test_public.to_csv('/content/gdrive/MyDrive/Dataset/CJ AI/realdata.csv', index = False)"
      ],
      "execution_count": 27,
      "outputs": []
    },
    {
      "cell_type": "code",
      "metadata": {
        "id": "7dSANQ9MgbMo"
      },
      "source": [
        "diff = predict_public - Y_test_public"
      ],
      "execution_count": null,
      "outputs": []
    },
    {
      "cell_type": "code",
      "metadata": {
        "id": "U2J4CLVWDjmB"
      },
      "source": [
        "predict_unet_private = pd.DataFrame(predict_unet_private )"
      ],
      "execution_count": null,
      "outputs": []
    },
    {
      "cell_type": "code",
      "metadata": {
        "colab": {
          "base_uri": "https://localhost:8080/",
          "height": 1000
        },
        "id": "o3xPUMFvDzKE",
        "outputId": "c1925e4e-bcce-471c-89fa-fc46d1a17ba6"
      },
      "source": [
        "predict_unet_private.tail(50)"
      ],
      "execution_count": null,
      "outputs": [
        {
          "output_type": "execute_result",
          "data": {
            "text/html": [
              "<div>\n",
              "<style scoped>\n",
              "    .dataframe tbody tr th:only-of-type {\n",
              "        vertical-align: middle;\n",
              "    }\n",
              "\n",
              "    .dataframe tbody tr th {\n",
              "        vertical-align: top;\n",
              "    }\n",
              "\n",
              "    .dataframe thead th {\n",
              "        text-align: right;\n",
              "    }\n",
              "</style>\n",
              "<table border=\"1\" class=\"dataframe\">\n",
              "  <thead>\n",
              "    <tr style=\"text-align: right;\">\n",
              "      <th></th>\n",
              "      <th>0</th>\n",
              "    </tr>\n",
              "  </thead>\n",
              "  <tbody>\n",
              "    <tr>\n",
              "      <th>174392</th>\n",
              "      <td>0.995397</td>\n",
              "    </tr>\n",
              "    <tr>\n",
              "      <th>174393</th>\n",
              "      <td>1.004233</td>\n",
              "    </tr>\n",
              "    <tr>\n",
              "      <th>174394</th>\n",
              "      <td>0.998409</td>\n",
              "    </tr>\n",
              "    <tr>\n",
              "      <th>174395</th>\n",
              "      <td>0.993776</td>\n",
              "    </tr>\n",
              "    <tr>\n",
              "      <th>174396</th>\n",
              "      <td>0.998249</td>\n",
              "    </tr>\n",
              "    <tr>\n",
              "      <th>174397</th>\n",
              "      <td>0.996182</td>\n",
              "    </tr>\n",
              "    <tr>\n",
              "      <th>174398</th>\n",
              "      <td>0.989635</td>\n",
              "    </tr>\n",
              "    <tr>\n",
              "      <th>174399</th>\n",
              "      <td>0.996154</td>\n",
              "    </tr>\n",
              "    <tr>\n",
              "      <th>174400</th>\n",
              "      <td>1.002500</td>\n",
              "    </tr>\n",
              "    <tr>\n",
              "      <th>174401</th>\n",
              "      <td>0.996073</td>\n",
              "    </tr>\n",
              "    <tr>\n",
              "      <th>174402</th>\n",
              "      <td>0.999111</td>\n",
              "    </tr>\n",
              "    <tr>\n",
              "      <th>174403</th>\n",
              "      <td>0.993473</td>\n",
              "    </tr>\n",
              "    <tr>\n",
              "      <th>174404</th>\n",
              "      <td>0.998012</td>\n",
              "    </tr>\n",
              "    <tr>\n",
              "      <th>174405</th>\n",
              "      <td>0.991408</td>\n",
              "    </tr>\n",
              "    <tr>\n",
              "      <th>174406</th>\n",
              "      <td>0.995562</td>\n",
              "    </tr>\n",
              "    <tr>\n",
              "      <th>174407</th>\n",
              "      <td>0.996171</td>\n",
              "    </tr>\n",
              "    <tr>\n",
              "      <th>174408</th>\n",
              "      <td>1.001079</td>\n",
              "    </tr>\n",
              "    <tr>\n",
              "      <th>174409</th>\n",
              "      <td>0.994058</td>\n",
              "    </tr>\n",
              "    <tr>\n",
              "      <th>174410</th>\n",
              "      <td>1.000199</td>\n",
              "    </tr>\n",
              "    <tr>\n",
              "      <th>174411</th>\n",
              "      <td>0.999766</td>\n",
              "    </tr>\n",
              "    <tr>\n",
              "      <th>174412</th>\n",
              "      <td>0.995814</td>\n",
              "    </tr>\n",
              "    <tr>\n",
              "      <th>174413</th>\n",
              "      <td>0.996384</td>\n",
              "    </tr>\n",
              "    <tr>\n",
              "      <th>174414</th>\n",
              "      <td>0.999761</td>\n",
              "    </tr>\n",
              "    <tr>\n",
              "      <th>174415</th>\n",
              "      <td>0.994706</td>\n",
              "    </tr>\n",
              "    <tr>\n",
              "      <th>174416</th>\n",
              "      <td>1.000690</td>\n",
              "    </tr>\n",
              "    <tr>\n",
              "      <th>174417</th>\n",
              "      <td>2.013689</td>\n",
              "    </tr>\n",
              "    <tr>\n",
              "      <th>174418</th>\n",
              "      <td>0.992789</td>\n",
              "    </tr>\n",
              "    <tr>\n",
              "      <th>174419</th>\n",
              "      <td>0.994255</td>\n",
              "    </tr>\n",
              "    <tr>\n",
              "      <th>174420</th>\n",
              "      <td>0.994169</td>\n",
              "    </tr>\n",
              "    <tr>\n",
              "      <th>174421</th>\n",
              "      <td>14.581859</td>\n",
              "    </tr>\n",
              "    <tr>\n",
              "      <th>174422</th>\n",
              "      <td>0.994978</td>\n",
              "    </tr>\n",
              "    <tr>\n",
              "      <th>174423</th>\n",
              "      <td>0.999465</td>\n",
              "    </tr>\n",
              "    <tr>\n",
              "      <th>174424</th>\n",
              "      <td>0.992216</td>\n",
              "    </tr>\n",
              "    <tr>\n",
              "      <th>174425</th>\n",
              "      <td>0.992390</td>\n",
              "    </tr>\n",
              "    <tr>\n",
              "      <th>174426</th>\n",
              "      <td>0.999008</td>\n",
              "    </tr>\n",
              "    <tr>\n",
              "      <th>174427</th>\n",
              "      <td>0.993421</td>\n",
              "    </tr>\n",
              "    <tr>\n",
              "      <th>174428</th>\n",
              "      <td>1.004978</td>\n",
              "    </tr>\n",
              "    <tr>\n",
              "      <th>174429</th>\n",
              "      <td>1.002437</td>\n",
              "    </tr>\n",
              "    <tr>\n",
              "      <th>174430</th>\n",
              "      <td>2.063132</td>\n",
              "    </tr>\n",
              "    <tr>\n",
              "      <th>174431</th>\n",
              "      <td>1.000124</td>\n",
              "    </tr>\n",
              "    <tr>\n",
              "      <th>174432</th>\n",
              "      <td>0.996256</td>\n",
              "    </tr>\n",
              "    <tr>\n",
              "      <th>174433</th>\n",
              "      <td>0.992792</td>\n",
              "    </tr>\n",
              "    <tr>\n",
              "      <th>174434</th>\n",
              "      <td>1.003370</td>\n",
              "    </tr>\n",
              "    <tr>\n",
              "      <th>174435</th>\n",
              "      <td>1.002153</td>\n",
              "    </tr>\n",
              "    <tr>\n",
              "      <th>174436</th>\n",
              "      <td>0.990376</td>\n",
              "    </tr>\n",
              "    <tr>\n",
              "      <th>174437</th>\n",
              "      <td>0.998887</td>\n",
              "    </tr>\n",
              "    <tr>\n",
              "      <th>174438</th>\n",
              "      <td>0.996996</td>\n",
              "    </tr>\n",
              "    <tr>\n",
              "      <th>174439</th>\n",
              "      <td>0.998376</td>\n",
              "    </tr>\n",
              "    <tr>\n",
              "      <th>174440</th>\n",
              "      <td>0.993212</td>\n",
              "    </tr>\n",
              "    <tr>\n",
              "      <th>174441</th>\n",
              "      <td>0.995880</td>\n",
              "    </tr>\n",
              "  </tbody>\n",
              "</table>\n",
              "</div>"
            ],
            "text/plain": [
              "                0\n",
              "174392   0.995397\n",
              "174393   1.004233\n",
              "174394   0.998409\n",
              "174395   0.993776\n",
              "174396   0.998249\n",
              "174397   0.996182\n",
              "174398   0.989635\n",
              "174399   0.996154\n",
              "174400   1.002500\n",
              "174401   0.996073\n",
              "174402   0.999111\n",
              "174403   0.993473\n",
              "174404   0.998012\n",
              "174405   0.991408\n",
              "174406   0.995562\n",
              "174407   0.996171\n",
              "174408   1.001079\n",
              "174409   0.994058\n",
              "174410   1.000199\n",
              "174411   0.999766\n",
              "174412   0.995814\n",
              "174413   0.996384\n",
              "174414   0.999761\n",
              "174415   0.994706\n",
              "174416   1.000690\n",
              "174417   2.013689\n",
              "174418   0.992789\n",
              "174419   0.994255\n",
              "174420   0.994169\n",
              "174421  14.581859\n",
              "174422   0.994978\n",
              "174423   0.999465\n",
              "174424   0.992216\n",
              "174425   0.992390\n",
              "174426   0.999008\n",
              "174427   0.993421\n",
              "174428   1.004978\n",
              "174429   1.002437\n",
              "174430   2.063132\n",
              "174431   1.000124\n",
              "174432   0.996256\n",
              "174433   0.992792\n",
              "174434   1.003370\n",
              "174435   1.002153\n",
              "174436   0.990376\n",
              "174437   0.998887\n",
              "174438   0.996996\n",
              "174439   0.998376\n",
              "174440   0.993212\n",
              "174441   0.995880"
            ]
          },
          "metadata": {},
          "execution_count": 36
        }
      ]
    },
    {
      "cell_type": "code",
      "metadata": {
        "colab": {
          "base_uri": "https://localhost:8080/",
          "height": 979
        },
        "id": "_kHqUmdfDlfc",
        "outputId": "1449bb3a-35aa-4d63-ae15-8b5013d02dcf"
      },
      "source": [
        "pd.DataFrame(Y_test_private).tail(30)"
      ],
      "execution_count": null,
      "outputs": [
        {
          "output_type": "execute_result",
          "data": {
            "text/html": [
              "<div>\n",
              "<style scoped>\n",
              "    .dataframe tbody tr th:only-of-type {\n",
              "        vertical-align: middle;\n",
              "    }\n",
              "\n",
              "    .dataframe tbody tr th {\n",
              "        vertical-align: top;\n",
              "    }\n",
              "\n",
              "    .dataframe thead th {\n",
              "        text-align: right;\n",
              "    }\n",
              "</style>\n",
              "<table border=\"1\" class=\"dataframe\">\n",
              "  <thead>\n",
              "    <tr style=\"text-align: right;\">\n",
              "      <th></th>\n",
              "      <th>ITEM_QTY</th>\n",
              "    </tr>\n",
              "  </thead>\n",
              "  <tbody>\n",
              "    <tr>\n",
              "      <th>268968</th>\n",
              "      <td>1.0</td>\n",
              "    </tr>\n",
              "    <tr>\n",
              "      <th>457782</th>\n",
              "      <td>1.0</td>\n",
              "    </tr>\n",
              "    <tr>\n",
              "      <th>6866</th>\n",
              "      <td>1.0</td>\n",
              "    </tr>\n",
              "    <tr>\n",
              "      <th>255932</th>\n",
              "      <td>1.0</td>\n",
              "    </tr>\n",
              "    <tr>\n",
              "      <th>494040</th>\n",
              "      <td>1.0</td>\n",
              "    </tr>\n",
              "    <tr>\n",
              "      <th>191020</th>\n",
              "      <td>2.0</td>\n",
              "    </tr>\n",
              "    <tr>\n",
              "      <th>256727</th>\n",
              "      <td>1.0</td>\n",
              "    </tr>\n",
              "    <tr>\n",
              "      <th>241242</th>\n",
              "      <td>1.0</td>\n",
              "    </tr>\n",
              "    <tr>\n",
              "      <th>275190</th>\n",
              "      <td>1.0</td>\n",
              "    </tr>\n",
              "    <tr>\n",
              "      <th>303288</th>\n",
              "      <td>20.0</td>\n",
              "    </tr>\n",
              "    <tr>\n",
              "      <th>151986</th>\n",
              "      <td>1.0</td>\n",
              "    </tr>\n",
              "    <tr>\n",
              "      <th>201393</th>\n",
              "      <td>1.0</td>\n",
              "    </tr>\n",
              "    <tr>\n",
              "      <th>147476</th>\n",
              "      <td>1.0</td>\n",
              "    </tr>\n",
              "    <tr>\n",
              "      <th>246923</th>\n",
              "      <td>1.0</td>\n",
              "    </tr>\n",
              "    <tr>\n",
              "      <th>323234</th>\n",
              "      <td>1.0</td>\n",
              "    </tr>\n",
              "    <tr>\n",
              "      <th>182359</th>\n",
              "      <td>1.0</td>\n",
              "    </tr>\n",
              "    <tr>\n",
              "      <th>660953</th>\n",
              "      <td>1.0</td>\n",
              "    </tr>\n",
              "    <tr>\n",
              "      <th>307695</th>\n",
              "      <td>1.0</td>\n",
              "    </tr>\n",
              "    <tr>\n",
              "      <th>353924</th>\n",
              "      <td>2.0</td>\n",
              "    </tr>\n",
              "    <tr>\n",
              "      <th>126469</th>\n",
              "      <td>1.0</td>\n",
              "    </tr>\n",
              "    <tr>\n",
              "      <th>520117</th>\n",
              "      <td>1.0</td>\n",
              "    </tr>\n",
              "    <tr>\n",
              "      <th>105635</th>\n",
              "      <td>1.0</td>\n",
              "    </tr>\n",
              "    <tr>\n",
              "      <th>232290</th>\n",
              "      <td>1.0</td>\n",
              "    </tr>\n",
              "    <tr>\n",
              "      <th>217886</th>\n",
              "      <td>1.0</td>\n",
              "    </tr>\n",
              "    <tr>\n",
              "      <th>105353</th>\n",
              "      <td>1.0</td>\n",
              "    </tr>\n",
              "    <tr>\n",
              "      <th>463209</th>\n",
              "      <td>1.0</td>\n",
              "    </tr>\n",
              "    <tr>\n",
              "      <th>160935</th>\n",
              "      <td>1.0</td>\n",
              "    </tr>\n",
              "    <tr>\n",
              "      <th>122546</th>\n",
              "      <td>1.0</td>\n",
              "    </tr>\n",
              "    <tr>\n",
              "      <th>44179</th>\n",
              "      <td>1.0</td>\n",
              "    </tr>\n",
              "    <tr>\n",
              "      <th>257194</th>\n",
              "      <td>5.0</td>\n",
              "    </tr>\n",
              "  </tbody>\n",
              "</table>\n",
              "</div>"
            ],
            "text/plain": [
              "        ITEM_QTY\n",
              "268968       1.0\n",
              "457782       1.0\n",
              "6866         1.0\n",
              "255932       1.0\n",
              "494040       1.0\n",
              "191020       2.0\n",
              "256727       1.0\n",
              "241242       1.0\n",
              "275190       1.0\n",
              "303288      20.0\n",
              "151986       1.0\n",
              "201393       1.0\n",
              "147476       1.0\n",
              "246923       1.0\n",
              "323234       1.0\n",
              "182359       1.0\n",
              "660953       1.0\n",
              "307695       1.0\n",
              "353924       2.0\n",
              "126469       1.0\n",
              "520117       1.0\n",
              "105635       1.0\n",
              "232290       1.0\n",
              "217886       1.0\n",
              "105353       1.0\n",
              "463209       1.0\n",
              "160935       1.0\n",
              "122546       1.0\n",
              "44179        1.0\n",
              "257194       5.0"
            ]
          },
          "metadata": {},
          "execution_count": 39
        }
      ]
    },
    {
      "cell_type": "code",
      "metadata": {
        "id": "3O90OnVSAUyj"
      },
      "source": [
        "abs(predict_unet_private - Y_test_private)"
      ],
      "execution_count": null,
      "outputs": []
    },
    {
      "cell_type": "markdown",
      "metadata": {
        "id": "bIN1-gUhBQFR"
      },
      "source": [
        "# 3월 EDA"
      ]
    },
    {
      "cell_type": "code",
      "metadata": {
        "colab": {
          "base_uri": "https://localhost:8080/",
          "height": 387
        },
        "id": "mOfPBFmHBQFW",
        "outputId": "d53477dc-a3c5-4078-8e3c-3fdc29dbf7d9"
      },
      "source": [
        "sns.displot(df['ITEM_QTY'])"
      ],
      "execution_count": null,
      "outputs": [
        {
          "data": {
            "text/plain": [
              "<seaborn.axisgrid.FacetGrid at 0x7f207a147d50>"
            ]
          },
          "execution_count": 28,
          "metadata": {},
          "output_type": "execute_result"
        },
        {
          "data": {
            "image/png": "[encoded data removed]",
            "text/plain": [
              "<Figure size 360x360 with 1 Axes>"
            ]
          },
          "metadata": {},
          "output_type": "display_data"
        }
      ]
    },
    {
      "cell_type": "code",
      "metadata": {
        "colab": {
          "base_uri": "https://localhost:8080/",
          "height": 337
        },
        "id": "9Jc7onmaBQFX",
        "outputId": "c25b53d3-1b06-4d2c-99ab-52ab6ef9ffed"
      },
      "source": [
        "plt.plot(df['BRAND_NM'], df['ITEM_QTY'], 'o')\n",
        "plt.show()\n",
        "print(df['BRAND_NM'].value_counts()) # 적어도 3월엔 3개의 종류의 상품만 존재함."
      ],
      "execution_count": null,
      "outputs": [
        {
          "data": {
            "image/png": "[encoded data removed]",
            "text/plain": [
              "<Figure size 432x288 with 1 Axes>"
            ]
          },
          "metadata": {},
          "output_type": "display_data"
        },
        {
          "name": "stdout",
          "output_type": "stream",
          "text": [
            "1    1245690\n",
            "0     333256\n",
            "2       6578\n",
            "Name: BRAND_NM, dtype: int64\n"
          ]
        }
      ]
    },
    {
      "cell_type": "code",
      "metadata": {
        "colab": {
          "base_uri": "https://localhost:8080/",
          "height": 265
        },
        "id": "EO_OM6AwBQFX",
        "outputId": "9d7e8a83-5988-4965-b52d-885d78ccff4c"
      },
      "source": [
        "plt.plot(df['ITEM_SEQ'], df['ITEM_QTY'], 'o')\n",
        "plt.show()\n",
        "# 시퀀스 값에 따라서 현저히 감소하는 추세를 확인할 수 있음!"
      ],
      "execution_count": null,
      "outputs": [
        {
          "data": {
            "image/png": "[encoded data removed]",
            "text/plain": [
              "<Figure size 432x288 with 1 Axes>"
            ]
          },
          "metadata": {},
          "output_type": "display_data"
        }
      ]
    },
    {
      "cell_type": "code",
      "metadata": {
        "colab": {
          "base_uri": "https://localhost:8080/",
          "height": 265
        },
        "id": "AbIm7tZkBQFX",
        "outputId": "e9eb54e2-9cd0-45ce-a754-cddc9cee1faf"
      },
      "source": [
        "plt.plot(np.log(df['ITEM_AMT']), df['ITEM_QTY'], 'o')\n",
        "plt.show()\n",
        "# 가격 스케일이 커서 로그를 씌우고 실행시킴.\n",
        "# 전반적으로 가격이 커질수록 배송할 제품의 양이 커지는 효과를 볼 수 있음.\n",
        " "
      ],
      "execution_count": null,
      "outputs": [
        {
          "data": {
            "image/png": "[encoded data removed]",
            "text/plain": [
              "<Figure size 432x288 with 1 Axes>"
            ]
          },
          "metadata": {},
          "output_type": "display_data"
        }
      ]
    },
    {
      "cell_type": "code",
      "metadata": {
        "colab": {
          "base_uri": "https://localhost:8080/"
        },
        "id": "usfwCbcSBQFY",
        "outputId": "8f66f595-4452-4027-ba2c-137d7601c7e3"
      },
      "source": [
        "df['SHPR_CD'].value_counts()"
      ],
      "execution_count": null,
      "outputs": [
        {
          "data": {
            "text/plain": [
              "90001302    96484\n",
              "90001542    47141\n",
              "90001341    39549\n",
              "90001541    32932\n",
              "90001441    30209\n",
              "90001443    21819\n",
              "90001521     8802\n",
              "90001381     2739\n",
              "90001582      176\n",
              "Name: SHPR_CD, dtype: int64"
            ]
          },
          "execution_count": 97,
          "metadata": {},
          "output_type": "execute_result"
        }
      ]
    },
    {
      "cell_type": "code",
      "metadata": {
        "colab": {
          "base_uri": "https://localhost:8080/",
          "height": 1000
        },
        "id": "wtmk3JRUBQFY",
        "outputId": "607f1419-2295-4e7b-f05d-ce961162c6d2"
      },
      "source": [
        "k = df['SHPR_CD'] - df['SHPR_CD'].min()\n",
        "plt.figure(figsize = (30,30))\n",
        "plt.plot(k, df['ITEM_QTY'], 'o')\n",
        "# 고객사 코드를 통한 eda, 확실히 고객사 별로 데이터 수도 다르고 분포 또한 다름을 알 수 있음. \n",
        "# 특히 특정 고객사의 주문량이 폭주하는 모습을 볼 수 있다. "
      ],
      "execution_count": null,
      "outputs": [
        {
          "data": {
            "text/plain": [
              "[<matplotlib.lines.Line2D at 0x7f2079d9bb10>]"
            ]
          },
          "execution_count": 36,
          "metadata": {},
          "output_type": "execute_result"
        },
        {
          "data": {
            "image/png": "[encoded data removed]",
            "text/plain": [
              "<Figure size 2160x2160 with 1 Axes>"
            ]
          },
          "metadata": {},
          "output_type": "display_data"
        }
      ]
    },
    {
      "cell_type": "code",
      "metadata": {
        "colab": {
          "base_uri": "https://localhost:8080/"
        },
        "id": "5xq3FD4BBQFY",
        "outputId": "696c5d94-02a6-455d-b734-e7c0531c18a2"
      },
      "source": [
        "march['ITEM_CD'].value_counts() # 주문 코드가 동일한 주문이 많다? 한번에 배송을 하는 것을 의미하는 걸까?"
      ],
      "execution_count": null,
      "outputs": [
        {
          "data": {
            "text/plain": [
              "1486    9688\n",
              "1223    3479\n",
              "1224    3281\n",
              "4692    2833\n",
              "4826    2833\n",
              "        ... \n",
              "2864       1\n",
              "817        1\n",
              "4046       1\n",
              "3534       1\n",
              "0          1\n",
              "Name: ITEM_CD, Length: 5320, dtype: int64"
            ]
          },
          "execution_count": 95,
          "metadata": {},
          "output_type": "execute_result"
        }
      ]
    },
    {
      "cell_type": "code",
      "metadata": {
        "colab": {
          "base_uri": "https://localhost:8080/"
        },
        "id": "YyKjKlXbBQFY",
        "outputId": "da705074-9490-46bd-adf8-4bccced60e3b"
      },
      "source": [
        "L_encoder = LabelEncoder()\n",
        "L_encoder.fit(df['ITEM_CD'])\n",
        "df['ITEM_CD'] = L_encoder.transform(df['ITEM_CD'])"
      ],
      "execution_count": null,
      "outputs": [
        {
          "name": "stderr",
          "output_type": "stream",
          "text": [
            "/usr/local/lib/python3.7/dist-packages/ipykernel_launcher.py:3: SettingWithCopyWarning: \n",
            "A value is trying to be set on a copy of a slice from a DataFrame.\n",
            "Try using .loc[row_indexer,col_indexer] = value instead\n",
            "\n",
            "See the caveats in the documentation: https://pandas.pydata.org/pandas-docs/stable/user_guide/indexing.html#returning-a-view-versus-a-copy\n",
            "  This is separate from the ipykernel package so we can avoid doing imports until\n"
          ]
        }
      ]
    },
    {
      "cell_type": "code",
      "metadata": {
        "colab": {
          "base_uri": "https://localhost:8080/"
        },
        "id": "MX90Qv8-BQFY",
        "outputId": "084fb1e9-69c5-4718-b555-347248ff7752"
      },
      "source": [
        "march['ITEM_CD'].value_counts()"
      ],
      "execution_count": null,
      "outputs": [
        {
          "data": {
            "text/plain": [
              "1486    9688\n",
              "1223    3479\n",
              "1224    3281\n",
              "4692    2833\n",
              "4826    2833\n",
              "        ... \n",
              "2864       1\n",
              "817        1\n",
              "4046       1\n",
              "3534       1\n",
              "0          1\n",
              "Name: ITEM_CD, Length: 5320, dtype: int64"
            ]
          },
          "execution_count": 86,
          "metadata": {},
          "output_type": "execute_result"
        }
      ]
    },
    {
      "cell_type": "code",
      "metadata": {
        "colab": {
          "base_uri": "https://localhost:8080/",
          "height": 283
        },
        "id": "tN7y6anWBQFY",
        "outputId": "ffffdd91-a58a-4c6f-819e-1dadba231ba6"
      },
      "source": [
        "plt.plot(df['ITEM_CD'], df['ITEM_QTY'], 'o')\n",
        "# 주문코드 별로 분포가 상이하게 다른? 모습을 볼 수 있다. 좀 더 자세히 볼 필요가 있을것 같다."
      ],
      "execution_count": null,
      "outputs": [
        {
          "data": {
            "text/plain": [
              "[<matplotlib.lines.Line2D at 0x7f2079ccf590>]"
            ]
          },
          "execution_count": 38,
          "metadata": {},
          "output_type": "execute_result"
        },
        {
          "data": {
            "image/png": "[encoded data removed]",
            "text/plain": [
              "<Figure size 432x288 with 1 Axes>"
            ]
          },
          "metadata": {},
          "output_type": "display_data"
        }
      ]
    },
    {
      "cell_type": "code",
      "metadata": {
        "colab": {
          "base_uri": "https://localhost:8080/",
          "height": 610
        },
        "id": "Ls7rOFXXBQFZ",
        "outputId": "21ced3e3-aef1-422c-b71b-194c9f75a76a"
      },
      "source": [
        "plt.figure(figsize = (30,10))\n",
        "plt.plot(df['ITEM_CD'], df['ITEM_QTY'], 'o')\n",
        "# 주문 코드별 수량을 봤는데, 특정 주문 코드에서 주문이 폭발적으로 증가.\n",
        "# 아마도 고객사와 연계하면 더 좋게 될지도? \n",
        "# 하지만 주문코드는 주문할 때마다 달라지지 않을까? 그러면 의미가 퇴색될 가능성이 높아질 것이다."
      ],
      "execution_count": null,
      "outputs": [
        {
          "data": {
            "text/plain": [
              "[<matplotlib.lines.Line2D at 0x7f2079a06990>]"
            ]
          },
          "execution_count": 41,
          "metadata": {},
          "output_type": "execute_result"
        },
        {
          "data": {
            "image/png": "[encoded data removed]",
            "text/plain": [
              "<Figure size 2160x720 with 1 Axes>"
            ]
          },
          "metadata": {},
          "output_type": "display_data"
        }
      ]
    },
    {
      "cell_type": "markdown",
      "metadata": {
        "id": "CSCdelpsBQFZ"
      },
      "source": [
        "groupby 를 써서 휴일 / 평일 나눠서 eda를 해봅시다!"
      ]
    },
    {
      "cell_type": "code",
      "metadata": {
        "colab": {
          "base_uri": "https://localhost:8080/"
        },
        "id": "vd19rEH_BQFZ",
        "outputId": "ba6353da-b5c3-4844-d0df-8ed0f2250ccf"
      },
      "source": [
        "df['BKG_DATE'].value_counts().head(10) # 적어도 3월엔 3개의 종류의 상품만 존재함."
      ],
      "execution_count": null,
      "outputs": [
        {
          "data": {
            "text/plain": [
              "20210517    34566\n",
              "20210608    33511\n",
              "20210613    33060\n",
              "20210420    29564\n",
              "20210323    29299\n",
              "20210607    29253\n",
              "20210628    24813\n",
              "20210531    24032\n",
              "20210516    22767\n",
              "20210617    22129\n",
              "Name: BKG_DATE, dtype: int64"
            ]
          },
          "execution_count": 43,
          "metadata": {},
          "output_type": "execute_result"
        }
      ]
    },
    {
      "cell_type": "code",
      "metadata": {
        "colab": {
          "base_uri": "https://localhost:8080/"
        },
        "id": "QDtiZp4XBQFZ",
        "outputId": "06579a3e-937f-429c-b3b2-b7a910048482"
      },
      "source": [
        "df['BKG_DATE'].astype(str).str[6:].astype(int)"
      ],
      "execution_count": null,
      "outputs": [
        {
          "data": {
            "text/plain": [
              "1          3\n",
              "2          3\n",
              "3          3\n",
              "4          3\n",
              "5          3\n",
              "          ..\n",
              "676881    30\n",
              "676885    29\n",
              "676886    30\n",
              "676887    30\n",
              "676892    29\n",
              "Name: BKG_DATE, Length: 1585524, dtype: int64"
            ]
          },
          "execution_count": 44,
          "metadata": {},
          "output_type": "execute_result"
        }
      ]
    },
    {
      "cell_type": "code",
      "metadata": {
        "id": "Vw2t4EV0BQFZ"
      },
      "source": [
        "df['year'] = df['BKG_DATE'].astype(str).str[0:4].astype(int)\n",
        "df['month'] = df['BKG_DATE'].astype(str).str[4:6].astype(int)\n",
        "df['day'] = df['BKG_DATE'].astype(str).str[6:].astype(int)"
      ],
      "execution_count": null,
      "outputs": []
    },
    {
      "cell_type": "code",
      "metadata": {
        "id": "DgU6kOoCBQFZ"
      },
      "source": [
        "df['weekend'] = df['day'].apply(lambda x : 1 if x % 7 == 6 else (1 if x % 7 == 0 else 0))"
      ],
      "execution_count": null,
      "outputs": []
    },
    {
      "cell_type": "code",
      "metadata": {
        "id": "Y64hKuvwBQFZ"
      },
      "source": [
        "df['holiday'] = df['day'].apply(lambda x : 1 if x == 1 else 0)"
      ],
      "execution_count": null,
      "outputs": []
    },
    {
      "cell_type": "code",
      "metadata": {
        "colab": {
          "base_uri": "https://localhost:8080/",
          "height": 507
        },
        "id": "tad4SgYaGkzn",
        "outputId": "9565ff2a-e793-42fb-ff9a-83fc83325652"
      },
      "source": [
        "df"
      ],
      "execution_count": null,
      "outputs": [
        {
          "data": {
            "text/html": [
              "<div>\n",
              "<style scoped>\n",
              "    .dataframe tbody tr th:only-of-type {\n",
              "        vertical-align: middle;\n",
              "    }\n",
              "\n",
              "    .dataframe tbody tr th {\n",
              "        vertical-align: top;\n",
              "    }\n",
              "\n",
              "    .dataframe thead th {\n",
              "        text-align: right;\n",
              "    }\n",
              "</style>\n",
              "<table border=\"1\" class=\"dataframe\">\n",
              "  <thead>\n",
              "    <tr style=\"text-align: right;\">\n",
              "      <th></th>\n",
              "      <th>CORP_ID</th>\n",
              "      <th>REF_ORD_NO</th>\n",
              "      <th>BKG_NO</th>\n",
              "      <th>BKG_TYP</th>\n",
              "      <th>BKG_DATE</th>\n",
              "      <th>BKG_TIME</th>\n",
              "      <th>SHPR_CD</th>\n",
              "      <th>INV_AMT</th>\n",
              "      <th>ITEM_SEQ</th>\n",
              "      <th>ITEM_CD</th>\n",
              "      <th>BRAND_NM</th>\n",
              "      <th>ITEM_QTY</th>\n",
              "      <th>ITEM_AMT</th>\n",
              "      <th>IF_YN</th>\n",
              "      <th>ORDER_CRT_DATETIME</th>\n",
              "      <th>DLV_DV</th>\n",
              "      <th>REF_ITEM_SEQ</th>\n",
              "      <th>ORDER_IDX</th>\n",
              "      <th>ORDER_YN</th>\n",
              "      <th>DLVPREARRBRANCD</th>\n",
              "      <th>DLVPREARREMPNICKNM</th>\n",
              "      <th>DLVCLSFCD</th>\n",
              "      <th>DLVSUBCLSFCD</th>\n",
              "      <th>INS_ID</th>\n",
              "      <th>INS_DATE</th>\n",
              "      <th>INS_TIME</th>\n",
              "      <th>POST_ZONE</th>\n",
              "      <th>SPLIT_EXEC_YN</th>\n",
              "      <th>SHPR_ADDR_1</th>\n",
              "      <th>SHPR_ADDR_2</th>\n",
              "      <th>CNEE_ADDR_1</th>\n",
              "      <th>CNEE_ADDR_2</th>\n",
              "      <th>year</th>\n",
              "      <th>month</th>\n",
              "      <th>day</th>\n",
              "      <th>weekend</th>\n",
              "      <th>holiday</th>\n",
              "    </tr>\n",
              "  </thead>\n",
              "  <tbody>\n",
              "    <tr>\n",
              "      <th>0</th>\n",
              "      <td>KX007</td>\n",
              "      <td>2021030365922551</td>\n",
              "      <td>KX007210303370934</td>\n",
              "      <td>7</td>\n",
              "      <td>20210303</td>\n",
              "      <td>35510</td>\n",
              "      <td>90001302</td>\n",
              "      <td>22400.0</td>\n",
              "      <td>2</td>\n",
              "      <td>134265392</td>\n",
              "      <td>단일상품</td>\n",
              "      <td>1</td>\n",
              "      <td>14900.0</td>\n",
              "      <td>N</td>\n",
              "      <td>2.021030e+13</td>\n",
              "      <td>1.0</td>\n",
              "      <td>2021030323885041</td>\n",
              "      <td>2021030323885041</td>\n",
              "      <td>Y</td>\n",
              "      <td>7484</td>\n",
              "      <td>C06</td>\n",
              "      <td>5Z73</td>\n",
              "      <td>1</td>\n",
              "      <td>iNEXBatch</td>\n",
              "      <td>20210303</td>\n",
              "      <td>131425</td>\n",
              "      <td>3.0</td>\n",
              "      <td>N</td>\n",
              "      <td>세종특별자치시</td>\n",
              "      <td>NaN</td>\n",
              "      <td>서울특별시</td>\n",
              "      <td>서대문구</td>\n",
              "      <td>2021</td>\n",
              "      <td>3</td>\n",
              "      <td>3</td>\n",
              "      <td>0</td>\n",
              "      <td>0</td>\n",
              "    </tr>\n",
              "    <tr>\n",
              "      <th>1</th>\n",
              "      <td>KX007</td>\n",
              "      <td>2021030365922951</td>\n",
              "      <td>KX007210303371080</td>\n",
              "      <td>7</td>\n",
              "      <td>20210303</td>\n",
              "      <td>35521</td>\n",
              "      <td>90001441</td>\n",
              "      <td>20900.0</td>\n",
              "      <td>1</td>\n",
              "      <td>4610261043_2</td>\n",
              "      <td>조합형옵션상품</td>\n",
              "      <td>1</td>\n",
              "      <td>20900.0</td>\n",
              "      <td>N</td>\n",
              "      <td>2.021030e+13</td>\n",
              "      <td>1.0</td>\n",
              "      <td>2021030323885721</td>\n",
              "      <td>2021030323885721</td>\n",
              "      <td>Y</td>\n",
              "      <td>6427</td>\n",
              "      <td>M09</td>\n",
              "      <td>6R67</td>\n",
              "      <td>4</td>\n",
              "      <td>iNEXBatch</td>\n",
              "      <td>20210303</td>\n",
              "      <td>131425</td>\n",
              "      <td>50.0</td>\n",
              "      <td>N</td>\n",
              "      <td>경기도</td>\n",
              "      <td>광주시</td>\n",
              "      <td>경상남도</td>\n",
              "      <td>김해시</td>\n",
              "      <td>2021</td>\n",
              "      <td>3</td>\n",
              "      <td>3</td>\n",
              "      <td>0</td>\n",
              "      <td>0</td>\n",
              "    </tr>\n",
              "    <tr>\n",
              "      <th>2</th>\n",
              "      <td>KX007</td>\n",
              "      <td>2021030365924361</td>\n",
              "      <td>KX007210303371081</td>\n",
              "      <td>7</td>\n",
              "      <td>20210303</td>\n",
              "      <td>35513</td>\n",
              "      <td>90001441</td>\n",
              "      <td>37900.0</td>\n",
              "      <td>1</td>\n",
              "      <td>4936599538_1</td>\n",
              "      <td>조합형옵션상품</td>\n",
              "      <td>1</td>\n",
              "      <td>37900.0</td>\n",
              "      <td>N</td>\n",
              "      <td>2.021030e+13</td>\n",
              "      <td>1.0</td>\n",
              "      <td>2021030323887981</td>\n",
              "      <td>2021030323887981</td>\n",
              "      <td>Y</td>\n",
              "      <td>6158</td>\n",
              "      <td>L32</td>\n",
              "      <td>9Y25</td>\n",
              "      <td>0</td>\n",
              "      <td>iNEXBatch</td>\n",
              "      <td>20210303</td>\n",
              "      <td>131425</td>\n",
              "      <td>53.0</td>\n",
              "      <td>N</td>\n",
              "      <td>경기도</td>\n",
              "      <td>광주시</td>\n",
              "      <td>경상남도</td>\n",
              "      <td>거제시</td>\n",
              "      <td>2021</td>\n",
              "      <td>3</td>\n",
              "      <td>3</td>\n",
              "      <td>0</td>\n",
              "      <td>0</td>\n",
              "    </tr>\n",
              "    <tr>\n",
              "      <th>3</th>\n",
              "      <td>KX007</td>\n",
              "      <td>2021030365928921</td>\n",
              "      <td>KX007210303371205</td>\n",
              "      <td>7</td>\n",
              "      <td>20210303</td>\n",
              "      <td>35608</td>\n",
              "      <td>90001542</td>\n",
              "      <td>69800.0</td>\n",
              "      <td>1</td>\n",
              "      <td>3858391637_1</td>\n",
              "      <td>조합형옵션상품</td>\n",
              "      <td>1</td>\n",
              "      <td>69800.0</td>\n",
              "      <td>N</td>\n",
              "      <td>2.021030e+13</td>\n",
              "      <td>1.0</td>\n",
              "      <td>2021030323895281</td>\n",
              "      <td>2021030323895281</td>\n",
              "      <td>Y</td>\n",
              "      <td>8909</td>\n",
              "      <td>D21</td>\n",
              "      <td>1N65</td>\n",
              "      <td>1</td>\n",
              "      <td>iNEXBatch</td>\n",
              "      <td>20210303</td>\n",
              "      <td>131425</td>\n",
              "      <td>6.0</td>\n",
              "      <td>N</td>\n",
              "      <td>경기도</td>\n",
              "      <td>광주시</td>\n",
              "      <td>서울특별시</td>\n",
              "      <td>서초구</td>\n",
              "      <td>2021</td>\n",
              "      <td>3</td>\n",
              "      <td>3</td>\n",
              "      <td>0</td>\n",
              "      <td>0</td>\n",
              "    </tr>\n",
              "    <tr>\n",
              "      <th>4</th>\n",
              "      <td>KX007</td>\n",
              "      <td>2021030365930451</td>\n",
              "      <td>KX007210303370967</td>\n",
              "      <td>7</td>\n",
              "      <td>20210303</td>\n",
              "      <td>35551</td>\n",
              "      <td>90001341</td>\n",
              "      <td>73700.0</td>\n",
              "      <td>1</td>\n",
              "      <td>4631307460</td>\n",
              "      <td>단일상품</td>\n",
              "      <td>1</td>\n",
              "      <td>39800.0</td>\n",
              "      <td>N</td>\n",
              "      <td>2.021030e+13</td>\n",
              "      <td>1.0</td>\n",
              "      <td>2021030323897651</td>\n",
              "      <td>2021030323897651</td>\n",
              "      <td>Y</td>\n",
              "      <td>2777</td>\n",
              "      <td>R15</td>\n",
              "      <td>3D84</td>\n",
              "      <td>1</td>\n",
              "      <td>iNEXBatch</td>\n",
              "      <td>20210303</td>\n",
              "      <td>131425</td>\n",
              "      <td>10.0</td>\n",
              "      <td>N</td>\n",
              "      <td>경기도</td>\n",
              "      <td>광주시</td>\n",
              "      <td>경기도</td>\n",
              "      <td>김포시</td>\n",
              "      <td>2021</td>\n",
              "      <td>3</td>\n",
              "      <td>3</td>\n",
              "      <td>0</td>\n",
              "      <td>0</td>\n",
              "    </tr>\n",
              "    <tr>\n",
              "      <th>...</th>\n",
              "      <td>...</td>\n",
              "      <td>...</td>\n",
              "      <td>...</td>\n",
              "      <td>...</td>\n",
              "      <td>...</td>\n",
              "      <td>...</td>\n",
              "      <td>...</td>\n",
              "      <td>...</td>\n",
              "      <td>...</td>\n",
              "      <td>...</td>\n",
              "      <td>...</td>\n",
              "      <td>...</td>\n",
              "      <td>...</td>\n",
              "      <td>...</td>\n",
              "      <td>...</td>\n",
              "      <td>...</td>\n",
              "      <td>...</td>\n",
              "      <td>...</td>\n",
              "      <td>...</td>\n",
              "      <td>...</td>\n",
              "      <td>...</td>\n",
              "      <td>...</td>\n",
              "      <td>...</td>\n",
              "      <td>...</td>\n",
              "      <td>...</td>\n",
              "      <td>...</td>\n",
              "      <td>...</td>\n",
              "      <td>...</td>\n",
              "      <td>...</td>\n",
              "      <td>...</td>\n",
              "      <td>...</td>\n",
              "      <td>...</td>\n",
              "      <td>...</td>\n",
              "      <td>...</td>\n",
              "      <td>...</td>\n",
              "      <td>...</td>\n",
              "      <td>...</td>\n",
              "    </tr>\n",
              "    <tr>\n",
              "      <th>676907</th>\n",
              "      <td>GP001</td>\n",
              "      <td>201806270001</td>\n",
              "      <td>GP001210628546912</td>\n",
              "      <td>7</td>\n",
              "      <td>20210628</td>\n",
              "      <td>91210</td>\n",
              "      <td>90001772</td>\n",
              "      <td>NaN</td>\n",
              "      <td>16</td>\n",
              "      <td>00281</td>\n",
              "      <td>NaN</td>\n",
              "      <td>100</td>\n",
              "      <td>NaN</td>\n",
              "      <td>N</td>\n",
              "      <td>NaN</td>\n",
              "      <td>1.0</td>\n",
              "      <td>00281</td>\n",
              "      <td>00281</td>\n",
              "      <td>Y</td>\n",
              "      <td>8981</td>\n",
              "      <td>NaN</td>\n",
              "      <td>5F20</td>\n",
              "      <td>1</td>\n",
              "      <td>osulloc01</td>\n",
              "      <td>20210628</td>\n",
              "      <td>91210</td>\n",
              "      <td>10.0</td>\n",
              "      <td>N</td>\n",
              "      <td>경기도</td>\n",
              "      <td>군포시</td>\n",
              "      <td>경기도</td>\n",
              "      <td>NaN</td>\n",
              "      <td>2021</td>\n",
              "      <td>6</td>\n",
              "      <td>28</td>\n",
              "      <td>1</td>\n",
              "      <td>0</td>\n",
              "    </tr>\n",
              "    <tr>\n",
              "      <th>676908</th>\n",
              "      <td>GP001</td>\n",
              "      <td>201806270001</td>\n",
              "      <td>GP001210628546912</td>\n",
              "      <td>7</td>\n",
              "      <td>20210628</td>\n",
              "      <td>91210</td>\n",
              "      <td>90001772</td>\n",
              "      <td>NaN</td>\n",
              "      <td>17</td>\n",
              "      <td>00316</td>\n",
              "      <td>NaN</td>\n",
              "      <td>168</td>\n",
              "      <td>NaN</td>\n",
              "      <td>N</td>\n",
              "      <td>NaN</td>\n",
              "      <td>1.0</td>\n",
              "      <td>00316</td>\n",
              "      <td>00316</td>\n",
              "      <td>Y</td>\n",
              "      <td>8981</td>\n",
              "      <td>NaN</td>\n",
              "      <td>5F20</td>\n",
              "      <td>1</td>\n",
              "      <td>osulloc01</td>\n",
              "      <td>20210628</td>\n",
              "      <td>91210</td>\n",
              "      <td>10.0</td>\n",
              "      <td>N</td>\n",
              "      <td>경기도</td>\n",
              "      <td>군포시</td>\n",
              "      <td>경기도</td>\n",
              "      <td>NaN</td>\n",
              "      <td>2021</td>\n",
              "      <td>6</td>\n",
              "      <td>28</td>\n",
              "      <td>1</td>\n",
              "      <td>0</td>\n",
              "    </tr>\n",
              "    <tr>\n",
              "      <th>676909</th>\n",
              "      <td>GP001</td>\n",
              "      <td>201806270001</td>\n",
              "      <td>GP001210628546912</td>\n",
              "      <td>7</td>\n",
              "      <td>20210628</td>\n",
              "      <td>91210</td>\n",
              "      <td>90001772</td>\n",
              "      <td>NaN</td>\n",
              "      <td>18</td>\n",
              "      <td>00338</td>\n",
              "      <td>NaN</td>\n",
              "      <td>100</td>\n",
              "      <td>NaN</td>\n",
              "      <td>N</td>\n",
              "      <td>NaN</td>\n",
              "      <td>1.0</td>\n",
              "      <td>00338</td>\n",
              "      <td>00338</td>\n",
              "      <td>Y</td>\n",
              "      <td>8981</td>\n",
              "      <td>NaN</td>\n",
              "      <td>5F20</td>\n",
              "      <td>1</td>\n",
              "      <td>osulloc01</td>\n",
              "      <td>20210628</td>\n",
              "      <td>91210</td>\n",
              "      <td>10.0</td>\n",
              "      <td>N</td>\n",
              "      <td>경기도</td>\n",
              "      <td>군포시</td>\n",
              "      <td>경기도</td>\n",
              "      <td>NaN</td>\n",
              "      <td>2021</td>\n",
              "      <td>6</td>\n",
              "      <td>28</td>\n",
              "      <td>1</td>\n",
              "      <td>0</td>\n",
              "    </tr>\n",
              "    <tr>\n",
              "      <th>676910</th>\n",
              "      <td>GP001</td>\n",
              "      <td>201806270001</td>\n",
              "      <td>GP001210628546912</td>\n",
              "      <td>7</td>\n",
              "      <td>20210628</td>\n",
              "      <td>91210</td>\n",
              "      <td>90001772</td>\n",
              "      <td>NaN</td>\n",
              "      <td>19</td>\n",
              "      <td>00183</td>\n",
              "      <td>NaN</td>\n",
              "      <td>50</td>\n",
              "      <td>NaN</td>\n",
              "      <td>N</td>\n",
              "      <td>NaN</td>\n",
              "      <td>1.0</td>\n",
              "      <td>00183</td>\n",
              "      <td>00183</td>\n",
              "      <td>Y</td>\n",
              "      <td>8981</td>\n",
              "      <td>NaN</td>\n",
              "      <td>5F20</td>\n",
              "      <td>1</td>\n",
              "      <td>osulloc01</td>\n",
              "      <td>20210628</td>\n",
              "      <td>91210</td>\n",
              "      <td>10.0</td>\n",
              "      <td>N</td>\n",
              "      <td>경기도</td>\n",
              "      <td>군포시</td>\n",
              "      <td>경기도</td>\n",
              "      <td>NaN</td>\n",
              "      <td>2021</td>\n",
              "      <td>6</td>\n",
              "      <td>28</td>\n",
              "      <td>1</td>\n",
              "      <td>0</td>\n",
              "    </tr>\n",
              "    <tr>\n",
              "      <th>676911</th>\n",
              "      <td>GP001</td>\n",
              "      <td>201806270001</td>\n",
              "      <td>GP001210628546912</td>\n",
              "      <td>7</td>\n",
              "      <td>20210628</td>\n",
              "      <td>91210</td>\n",
              "      <td>90001772</td>\n",
              "      <td>NaN</td>\n",
              "      <td>20</td>\n",
              "      <td>8809641651310</td>\n",
              "      <td>NaN</td>\n",
              "      <td>100</td>\n",
              "      <td>NaN</td>\n",
              "      <td>N</td>\n",
              "      <td>NaN</td>\n",
              "      <td>1.0</td>\n",
              "      <td>8809641651310</td>\n",
              "      <td>8809641651310</td>\n",
              "      <td>Y</td>\n",
              "      <td>8981</td>\n",
              "      <td>NaN</td>\n",
              "      <td>5F20</td>\n",
              "      <td>1</td>\n",
              "      <td>osulloc01</td>\n",
              "      <td>20210628</td>\n",
              "      <td>91210</td>\n",
              "      <td>10.0</td>\n",
              "      <td>N</td>\n",
              "      <td>경기도</td>\n",
              "      <td>군포시</td>\n",
              "      <td>경기도</td>\n",
              "      <td>NaN</td>\n",
              "      <td>2021</td>\n",
              "      <td>6</td>\n",
              "      <td>28</td>\n",
              "      <td>1</td>\n",
              "      <td>0</td>\n",
              "    </tr>\n",
              "  </tbody>\n",
              "</table>\n",
              "<p>1786374 rows × 37 columns</p>\n",
              "</div>"
            ],
            "text/plain": [
              "       CORP_ID        REF_ORD_NO             BKG_NO  ...  day  weekend  holiday\n",
              "0        KX007  2021030365922551  KX007210303370934  ...    3        0        0\n",
              "1        KX007  2021030365922951  KX007210303371080  ...    3        0        0\n",
              "2        KX007  2021030365924361  KX007210303371081  ...    3        0        0\n",
              "3        KX007  2021030365928921  KX007210303371205  ...    3        0        0\n",
              "4        KX007  2021030365930451  KX007210303370967  ...    3        0        0\n",
              "...        ...               ...                ...  ...  ...      ...      ...\n",
              "676907   GP001      201806270001  GP001210628546912  ...   28        1        0\n",
              "676908   GP001      201806270001  GP001210628546912  ...   28        1        0\n",
              "676909   GP001      201806270001  GP001210628546912  ...   28        1        0\n",
              "676910   GP001      201806270001  GP001210628546912  ...   28        1        0\n",
              "676911   GP001      201806270001  GP001210628546912  ...   28        1        0\n",
              "\n",
              "[1786374 rows x 37 columns]"
            ]
          },
          "execution_count": 67,
          "metadata": {},
          "output_type": "execute_result"
        }
      ]
    },
    {
      "cell_type": "code",
      "metadata": {
        "colab": {
          "base_uri": "https://localhost:8080/"
        },
        "id": "xEpKZ7rHBQFZ",
        "outputId": "b88fecb2-0598-4488-bdd1-7814b33c4e8f"
      },
      "source": [
        "print(df['weekend'].value_counts())\n",
        "print(df['holiday'].value_counts())"
      ],
      "execution_count": null,
      "outputs": [
        {
          "name": "stdout",
          "output_type": "stream",
          "text": [
            "0    1311876\n",
            "1     474498\n",
            "Name: weekend, dtype: int64\n",
            "0    1738744\n",
            "1      47630\n",
            "Name: holiday, dtype: int64\n"
          ]
        }
      ]
    },
    {
      "cell_type": "code",
      "metadata": {
        "colab": {
          "base_uri": "https://localhost:8080/",
          "height": 1000
        },
        "id": "TrH9LpqcBQFZ",
        "outputId": "ab1b32c4-4fa3-491a-884b-e3e2ef3d23b9"
      },
      "source": [
        "plt.figure(figsize = (48,8))\n",
        "plt.subplot(1,5,1)\n",
        "plt.title('day plot')\n",
        "plt.plot(df['day'], df['ITEM_QTY'], 'o')\n",
        "plt.subplot(1,5,2)\n",
        "plt.title('day plot')\n",
        "plt.plot(df['weekend'], df['ITEM_QTY'], 'o')\n",
        "plt.subplot(1,5,3)\n",
        "plt.title('holiday plot')\n",
        "plt.plot(df['holiday'], df['ITEM_QTY'], 'o')"
      ],
      "execution_count": null,
      "outputs": [
        {
          "ename": "KeyError",
          "evalue": "ignored",
          "output_type": "error",
          "traceback": [
            "\u001b[0;31m---------------------------------------------------------------------------\u001b[0m",
            "\u001b[0;31mKeyError\u001b[0m                                  Traceback (most recent call last)",
            "\u001b[0;32m/usr/local/lib/python3.7/dist-packages/pandas/core/indexes/base.py\u001b[0m in \u001b[0;36mget_loc\u001b[0;34m(self, key, method, tolerance)\u001b[0m\n\u001b[1;32m   2897\u001b[0m             \u001b[0;32mtry\u001b[0m\u001b[0;34m:\u001b[0m\u001b[0;34m\u001b[0m\u001b[0;34m\u001b[0m\u001b[0m\n\u001b[0;32m-> 2898\u001b[0;31m                 \u001b[0;32mreturn\u001b[0m \u001b[0mself\u001b[0m\u001b[0;34m.\u001b[0m\u001b[0m_engine\u001b[0m\u001b[0;34m.\u001b[0m\u001b[0mget_loc\u001b[0m\u001b[0;34m(\u001b[0m\u001b[0mcasted_key\u001b[0m\u001b[0;34m)\u001b[0m\u001b[0;34m\u001b[0m\u001b[0;34m\u001b[0m\u001b[0m\n\u001b[0m\u001b[1;32m   2899\u001b[0m             \u001b[0;32mexcept\u001b[0m \u001b[0mKeyError\u001b[0m \u001b[0;32mas\u001b[0m \u001b[0merr\u001b[0m\u001b[0;34m:\u001b[0m\u001b[0;34m\u001b[0m\u001b[0;34m\u001b[0m\u001b[0m\n",
            "\u001b[0;32mpandas/_libs/index.pyx\u001b[0m in \u001b[0;36mpandas._libs.index.IndexEngine.get_loc\u001b[0;34m()\u001b[0m\n",
            "\u001b[0;32mpandas/_libs/index.pyx\u001b[0m in \u001b[0;36mpandas._libs.index.IndexEngine.get_loc\u001b[0;34m()\u001b[0m\n",
            "\u001b[0;32mpandas/_libs/hashtable_class_helper.pxi\u001b[0m in \u001b[0;36mpandas._libs.hashtable.PyObjectHashTable.get_item\u001b[0;34m()\u001b[0m\n",
            "\u001b[0;32mpandas/_libs/hashtable_class_helper.pxi\u001b[0m in \u001b[0;36mpandas._libs.hashtable.PyObjectHashTable.get_item\u001b[0;34m()\u001b[0m\n",
            "\u001b[0;31mKeyError\u001b[0m: 'weekend'",
            "\nThe above exception was the direct cause of the following exception:\n",
            "\u001b[0;31mKeyError\u001b[0m                                  Traceback (most recent call last)",
            "\u001b[0;32m<ipython-input-59-7c8df920a459>\u001b[0m in \u001b[0;36m<module>\u001b[0;34m()\u001b[0m\n\u001b[1;32m      5\u001b[0m \u001b[0mplt\u001b[0m\u001b[0;34m.\u001b[0m\u001b[0msubplot\u001b[0m\u001b[0;34m(\u001b[0m\u001b[0;36m1\u001b[0m\u001b[0;34m,\u001b[0m\u001b[0;36m5\u001b[0m\u001b[0;34m,\u001b[0m\u001b[0;36m2\u001b[0m\u001b[0;34m)\u001b[0m\u001b[0;34m\u001b[0m\u001b[0;34m\u001b[0m\u001b[0m\n\u001b[1;32m      6\u001b[0m \u001b[0mplt\u001b[0m\u001b[0;34m.\u001b[0m\u001b[0mtitle\u001b[0m\u001b[0;34m(\u001b[0m\u001b[0;34m'day plot'\u001b[0m\u001b[0;34m)\u001b[0m\u001b[0;34m\u001b[0m\u001b[0;34m\u001b[0m\u001b[0m\n\u001b[0;32m----> 7\u001b[0;31m \u001b[0mplt\u001b[0m\u001b[0;34m.\u001b[0m\u001b[0mplot\u001b[0m\u001b[0;34m(\u001b[0m\u001b[0mdf\u001b[0m\u001b[0;34m[\u001b[0m\u001b[0;34m'weekend'\u001b[0m\u001b[0;34m]\u001b[0m\u001b[0;34m,\u001b[0m \u001b[0mdf\u001b[0m\u001b[0;34m[\u001b[0m\u001b[0;34m'ITEM_QTY'\u001b[0m\u001b[0;34m]\u001b[0m\u001b[0;34m,\u001b[0m \u001b[0;34m'o'\u001b[0m\u001b[0;34m)\u001b[0m\u001b[0;34m\u001b[0m\u001b[0;34m\u001b[0m\u001b[0m\n\u001b[0m\u001b[1;32m      8\u001b[0m \u001b[0mplt\u001b[0m\u001b[0;34m.\u001b[0m\u001b[0msubplot\u001b[0m\u001b[0;34m(\u001b[0m\u001b[0;36m1\u001b[0m\u001b[0;34m,\u001b[0m\u001b[0;36m5\u001b[0m\u001b[0;34m,\u001b[0m\u001b[0;36m3\u001b[0m\u001b[0;34m)\u001b[0m\u001b[0;34m\u001b[0m\u001b[0;34m\u001b[0m\u001b[0m\n\u001b[1;32m      9\u001b[0m \u001b[0mplt\u001b[0m\u001b[0;34m.\u001b[0m\u001b[0mtitle\u001b[0m\u001b[0;34m(\u001b[0m\u001b[0;34m'holiday plot'\u001b[0m\u001b[0;34m)\u001b[0m\u001b[0;34m\u001b[0m\u001b[0;34m\u001b[0m\u001b[0m\n",
            "\u001b[0;32m/usr/local/lib/python3.7/dist-packages/pandas/core/frame.py\u001b[0m in \u001b[0;36m__getitem__\u001b[0;34m(self, key)\u001b[0m\n\u001b[1;32m   2904\u001b[0m             \u001b[0;32mif\u001b[0m \u001b[0mself\u001b[0m\u001b[0;34m.\u001b[0m\u001b[0mcolumns\u001b[0m\u001b[0;34m.\u001b[0m\u001b[0mnlevels\u001b[0m \u001b[0;34m>\u001b[0m \u001b[0;36m1\u001b[0m\u001b[0;34m:\u001b[0m\u001b[0;34m\u001b[0m\u001b[0;34m\u001b[0m\u001b[0m\n\u001b[1;32m   2905\u001b[0m                 \u001b[0;32mreturn\u001b[0m \u001b[0mself\u001b[0m\u001b[0;34m.\u001b[0m\u001b[0m_getitem_multilevel\u001b[0m\u001b[0;34m(\u001b[0m\u001b[0mkey\u001b[0m\u001b[0;34m)\u001b[0m\u001b[0;34m\u001b[0m\u001b[0;34m\u001b[0m\u001b[0m\n\u001b[0;32m-> 2906\u001b[0;31m             \u001b[0mindexer\u001b[0m \u001b[0;34m=\u001b[0m \u001b[0mself\u001b[0m\u001b[0;34m.\u001b[0m\u001b[0mcolumns\u001b[0m\u001b[0;34m.\u001b[0m\u001b[0mget_loc\u001b[0m\u001b[0;34m(\u001b[0m\u001b[0mkey\u001b[0m\u001b[0;34m)\u001b[0m\u001b[0;34m\u001b[0m\u001b[0;34m\u001b[0m\u001b[0m\n\u001b[0m\u001b[1;32m   2907\u001b[0m             \u001b[0;32mif\u001b[0m \u001b[0mis_integer\u001b[0m\u001b[0;34m(\u001b[0m\u001b[0mindexer\u001b[0m\u001b[0;34m)\u001b[0m\u001b[0;34m:\u001b[0m\u001b[0;34m\u001b[0m\u001b[0;34m\u001b[0m\u001b[0m\n\u001b[1;32m   2908\u001b[0m                 \u001b[0mindexer\u001b[0m \u001b[0;34m=\u001b[0m \u001b[0;34m[\u001b[0m\u001b[0mindexer\u001b[0m\u001b[0;34m]\u001b[0m\u001b[0;34m\u001b[0m\u001b[0;34m\u001b[0m\u001b[0m\n",
            "\u001b[0;32m/usr/local/lib/python3.7/dist-packages/pandas/core/indexes/base.py\u001b[0m in \u001b[0;36mget_loc\u001b[0;34m(self, key, method, tolerance)\u001b[0m\n\u001b[1;32m   2898\u001b[0m                 \u001b[0;32mreturn\u001b[0m \u001b[0mself\u001b[0m\u001b[0;34m.\u001b[0m\u001b[0m_engine\u001b[0m\u001b[0;34m.\u001b[0m\u001b[0mget_loc\u001b[0m\u001b[0;34m(\u001b[0m\u001b[0mcasted_key\u001b[0m\u001b[0;34m)\u001b[0m\u001b[0;34m\u001b[0m\u001b[0;34m\u001b[0m\u001b[0m\n\u001b[1;32m   2899\u001b[0m             \u001b[0;32mexcept\u001b[0m \u001b[0mKeyError\u001b[0m \u001b[0;32mas\u001b[0m \u001b[0merr\u001b[0m\u001b[0;34m:\u001b[0m\u001b[0;34m\u001b[0m\u001b[0;34m\u001b[0m\u001b[0m\n\u001b[0;32m-> 2900\u001b[0;31m                 \u001b[0;32mraise\u001b[0m \u001b[0mKeyError\u001b[0m\u001b[0;34m(\u001b[0m\u001b[0mkey\u001b[0m\u001b[0;34m)\u001b[0m \u001b[0;32mfrom\u001b[0m \u001b[0merr\u001b[0m\u001b[0;34m\u001b[0m\u001b[0;34m\u001b[0m\u001b[0m\n\u001b[0m\u001b[1;32m   2901\u001b[0m \u001b[0;34m\u001b[0m\u001b[0m\n\u001b[1;32m   2902\u001b[0m         \u001b[0;32mif\u001b[0m \u001b[0mtolerance\u001b[0m \u001b[0;32mis\u001b[0m \u001b[0;32mnot\u001b[0m \u001b[0;32mNone\u001b[0m\u001b[0;34m:\u001b[0m\u001b[0;34m\u001b[0m\u001b[0;34m\u001b[0m\u001b[0m\n",
            "\u001b[0;31mKeyError\u001b[0m: 'weekend'"
          ]
        },
        {
          "data": {
            "image/png": "[encoded data removed]",
            "text/plain": [
              "<Figure size 3456x576 with 2 Axes>"
            ]
          },
          "metadata": {},
          "output_type": "display_data"
        }
      ]
    },
    {
      "cell_type": "code",
      "metadata": {
        "colab": {
          "base_uri": "https://localhost:8080/",
          "height": 162
        },
        "id": "4gb3Gc4KBQFa",
        "outputId": "d743bcad-5441-46c5-c02f-a59ab96299b1"
      },
      "source": [
        "march.groupby('weekend').mean()"
      ],
      "execution_count": null,
      "outputs": [
        {
          "data": {
            "text/html": [
              "<div>\n",
              "<style scoped>\n",
              "    .dataframe tbody tr th:only-of-type {\n",
              "        vertical-align: middle;\n",
              "    }\n",
              "\n",
              "    .dataframe tbody tr th {\n",
              "        vertical-align: top;\n",
              "    }\n",
              "\n",
              "    .dataframe thead th {\n",
              "        text-align: right;\n",
              "    }\n",
              "</style>\n",
              "<table border=\"1\" class=\"dataframe\">\n",
              "  <thead>\n",
              "    <tr style=\"text-align: right;\">\n",
              "      <th></th>\n",
              "      <th>BKG_TYP</th>\n",
              "      <th>BKG_DATE</th>\n",
              "      <th>BKG_TIME</th>\n",
              "      <th>SHPR_CD</th>\n",
              "      <th>INV_AMT</th>\n",
              "      <th>ITEM_SEQ</th>\n",
              "      <th>ITEM_QTY</th>\n",
              "      <th>ITEM_AMT</th>\n",
              "      <th>ORDER_CRT_DATETIME</th>\n",
              "      <th>DLV_DV</th>\n",
              "      <th>INS_DATE</th>\n",
              "      <th>INS_TIME</th>\n",
              "      <th>POST_ZONE</th>\n",
              "      <th>month</th>\n",
              "      <th>day</th>\n",
              "      <th>year</th>\n",
              "      <th>holiday</th>\n",
              "      <th>monday</th>\n",
              "      <th>tuesday</th>\n",
              "      <th>wednesday</th>\n",
              "      <th>thursday</th>\n",
              "      <th>friday</th>\n",
              "      <th>saturday</th>\n",
              "      <th>sunday</th>\n",
              "      <th>1st_week</th>\n",
              "      <th>2nd_week</th>\n",
              "      <th>3rd_week</th>\n",
              "      <th>4th_week</th>\n",
              "      <th>last_week</th>\n",
              "    </tr>\n",
              "    <tr>\n",
              "      <th>weekend</th>\n",
              "      <th></th>\n",
              "      <th></th>\n",
              "      <th></th>\n",
              "      <th></th>\n",
              "      <th></th>\n",
              "      <th></th>\n",
              "      <th></th>\n",
              "      <th></th>\n",
              "      <th></th>\n",
              "      <th></th>\n",
              "      <th></th>\n",
              "      <th></th>\n",
              "      <th></th>\n",
              "      <th></th>\n",
              "      <th></th>\n",
              "      <th></th>\n",
              "      <th></th>\n",
              "      <th></th>\n",
              "      <th></th>\n",
              "      <th></th>\n",
              "      <th></th>\n",
              "      <th></th>\n",
              "      <th></th>\n",
              "      <th></th>\n",
              "      <th></th>\n",
              "      <th></th>\n",
              "      <th></th>\n",
              "      <th></th>\n",
              "      <th></th>\n",
              "    </tr>\n",
              "  </thead>\n",
              "  <tbody>\n",
              "    <tr>\n",
              "      <th>0</th>\n",
              "      <td>7.0</td>\n",
              "      <td>2.021032e+07</td>\n",
              "      <td>94234.035997</td>\n",
              "      <td>9.000141e+07</td>\n",
              "      <td>56942.850602</td>\n",
              "      <td>1.401347</td>\n",
              "      <td>1.310464</td>\n",
              "      <td>39782.067416</td>\n",
              "      <td>2.021032e+13</td>\n",
              "      <td>1.0</td>\n",
              "      <td>2.021032e+07</td>\n",
              "      <td>145590.623619</td>\n",
              "      <td>25.365332</td>\n",
              "      <td>3.0</td>\n",
              "      <td>16.514218</td>\n",
              "      <td>2021.0</td>\n",
              "      <td>0.034883</td>\n",
              "      <td>0.239318</td>\n",
              "      <td>0.28518</td>\n",
              "      <td>0.194186</td>\n",
              "      <td>0.135949</td>\n",
              "      <td>0.145367</td>\n",
              "      <td>0.00000</td>\n",
              "      <td>0.00000</td>\n",
              "      <td>0.236220</td>\n",
              "      <td>0.142358</td>\n",
              "      <td>0.155674</td>\n",
              "      <td>0.337936</td>\n",
              "      <td>0.206335</td>\n",
              "    </tr>\n",
              "    <tr>\n",
              "      <th>1</th>\n",
              "      <td>7.0</td>\n",
              "      <td>2.021032e+07</td>\n",
              "      <td>97023.010843</td>\n",
              "      <td>9.000141e+07</td>\n",
              "      <td>58330.958513</td>\n",
              "      <td>1.349999</td>\n",
              "      <td>1.293451</td>\n",
              "      <td>43707.375660</td>\n",
              "      <td>2.021032e+13</td>\n",
              "      <td>1.0</td>\n",
              "      <td>2.021032e+07</td>\n",
              "      <td>143132.563724</td>\n",
              "      <td>24.999142</td>\n",
              "      <td>3.0</td>\n",
              "      <td>17.968833</td>\n",
              "      <td>2021.0</td>\n",
              "      <td>0.000000</td>\n",
              "      <td>0.000000</td>\n",
              "      <td>0.00000</td>\n",
              "      <td>0.000000</td>\n",
              "      <td>0.000000</td>\n",
              "      <td>0.000000</td>\n",
              "      <td>0.43721</td>\n",
              "      <td>0.56279</td>\n",
              "      <td>0.206558</td>\n",
              "      <td>0.251964</td>\n",
              "      <td>0.246963</td>\n",
              "      <td>0.294515</td>\n",
              "      <td>0.294515</td>\n",
              "    </tr>\n",
              "  </tbody>\n",
              "</table>\n",
              "</div>"
            ],
            "text/plain": [
              "         BKG_TYP      BKG_DATE      BKG_TIME  ...  3rd_week  4th_week  last_week\n",
              "weekend                                       ...                               \n",
              "0            7.0  2.021032e+07  94234.035997  ...  0.155674  0.337936   0.206335\n",
              "1            7.0  2.021032e+07  97023.010843  ...  0.246963  0.294515   0.294515\n",
              "\n",
              "[2 rows x 29 columns]"
            ]
          },
          "execution_count": 69,
          "metadata": {},
          "output_type": "execute_result"
        }
      ]
    },
    {
      "cell_type": "code",
      "metadata": {
        "id": "PcR0OitxBQFa"
      },
      "source": [
        "df['monday'] = df['day'].apply(lambda x : 1 if x % 7 == 1 else 0)\n",
        "df['tuesday'] = df['day'].apply(lambda x : 1 if x % 7 == 2 else 0)\n",
        "march['wednesday'] = march['day'].apply(lambda x : 1 if x % 7 == 3 else 0)\n",
        "march['thursday'] = march['day'].apply(lambda x : 1 if x % 7 == 4 else 0)\n",
        "march['friday'] = march['day'].apply(lambda x : 1 if x % 7 == 5 else 0)\n",
        "march['saturday'] = march['day'].apply(lambda x : 1 if x % 7 == 6 else 0)\n",
        "march['sunday'] = march['day'].apply(lambda x : 1 if x % 7 == 0 else 0)"
      ],
      "execution_count": null,
      "outputs": []
    },
    {
      "cell_type": "code",
      "metadata": {
        "colab": {
          "base_uri": "https://localhost:8080/",
          "height": 478
        },
        "id": "9-k57pAdBQFa",
        "outputId": "05ecd804-7afb-4954-e30a-8915411b11c3"
      },
      "source": [
        "plt.figure(figsize = (35,10))\n",
        "plt.subplot(1,7,1)\n",
        "plt.title('monday plot')\n",
        "plt.plot(march['monday'], march['ITEM_QTY'], 'o')\n",
        "plt.subplot(1,7,2)\n",
        "plt.title('tuesday plot')\n",
        "plt.plot(march['tuesday'], march['ITEM_QTY'], 'o')\n",
        "plt.subplot(1,7,3)\n",
        "plt.title('wednesday plot')\n",
        "plt.plot(march['wednesday'], march['ITEM_QTY'], 'o')\n",
        "plt.subplot(1,7,4)\n",
        "plt.title('thursday plot')\n",
        "plt.plot(march['thursday'], march['ITEM_QTY'], 'o')\n",
        "plt.subplot(1,7,5)\n",
        "plt.title('friday plot')\n",
        "plt.plot(march['friday'], march['ITEM_QTY'], 'o')\n",
        "plt.subplot(1,7,6)\n",
        "plt.title('saturday plot')\n",
        "plt.plot(march['saturday'], march['ITEM_QTY'], 'o')\n",
        "plt.subplot(1,7,7)\n",
        "plt.title('sunday plot')\n",
        "plt.plot(march['sunday'], march['ITEM_QTY'], 'o')"
      ],
      "execution_count": null,
      "outputs": [
        {
          "data": {
            "text/plain": [
              "[<matplotlib.lines.Line2D at 0x7f51b601d110>]"
            ]
          },
          "execution_count": 60,
          "metadata": {},
          "output_type": "execute_result"
        },
        {
          "data": {
            "image/png": "[encoded data removed]",
            "text/plain": [
              "<Figure size 2520x720 with 7 Axes>"
            ]
          },
          "metadata": {},
          "output_type": "display_data"
        }
      ]
    },
    {
      "cell_type": "code",
      "metadata": {
        "colab": {
          "base_uri": "https://localhost:8080/"
        },
        "id": "KxweaMOnBQFa",
        "outputId": "5533188b-f2fc-49db-94f6-9ccb59a6896c"
      },
      "source": [
        "df['1st_week'] = df['day'].apply(lambda x : 1 if x <= 7 else 0)\n",
        "df['2nd_week'] = df['day'].apply(lambda x : 1 if 8 <= x <= 14 else 0)\n",
        "df['3rd_week'] = df['day'].apply(lambda x : 1 if 15 <= x <= 21 else 0)\n",
        "df['4th_week'] = df['day'].apply(lambda x : 1 if 22 <= x <= 28 else 0)\n",
        "df['last_week'] = df['day'].apply(lambda x : 1 if x >= 25 else 0)"
      ],
      "execution_count": null,
      "outputs": [
        {
          "name": "stderr",
          "output_type": "stream",
          "text": [
            "/usr/local/lib/python3.7/dist-packages/ipykernel_launcher.py:1: SettingWithCopyWarning: \n",
            "A value is trying to be set on a copy of a slice from a DataFrame.\n",
            "Try using .loc[row_indexer,col_indexer] = value instead\n",
            "\n",
            "See the caveats in the documentation: https://pandas.pydata.org/pandas-docs/stable/user_guide/indexing.html#returning-a-view-versus-a-copy\n",
            "  \"\"\"Entry point for launching an IPython kernel.\n",
            "/usr/local/lib/python3.7/dist-packages/ipykernel_launcher.py:2: SettingWithCopyWarning: \n",
            "A value is trying to be set on a copy of a slice from a DataFrame.\n",
            "Try using .loc[row_indexer,col_indexer] = value instead\n",
            "\n",
            "See the caveats in the documentation: https://pandas.pydata.org/pandas-docs/stable/user_guide/indexing.html#returning-a-view-versus-a-copy\n",
            "  \n",
            "/usr/local/lib/python3.7/dist-packages/ipykernel_launcher.py:3: SettingWithCopyWarning: \n",
            "A value is trying to be set on a copy of a slice from a DataFrame.\n",
            "Try using .loc[row_indexer,col_indexer] = value instead\n",
            "\n",
            "See the caveats in the documentation: https://pandas.pydata.org/pandas-docs/stable/user_guide/indexing.html#returning-a-view-versus-a-copy\n",
            "  This is separate from the ipykernel package so we can avoid doing imports until\n",
            "/usr/local/lib/python3.7/dist-packages/ipykernel_launcher.py:4: SettingWithCopyWarning: \n",
            "A value is trying to be set on a copy of a slice from a DataFrame.\n",
            "Try using .loc[row_indexer,col_indexer] = value instead\n",
            "\n",
            "See the caveats in the documentation: https://pandas.pydata.org/pandas-docs/stable/user_guide/indexing.html#returning-a-view-versus-a-copy\n",
            "  after removing the cwd from sys.path.\n",
            "/usr/local/lib/python3.7/dist-packages/ipykernel_launcher.py:5: SettingWithCopyWarning: \n",
            "A value is trying to be set on a copy of a slice from a DataFrame.\n",
            "Try using .loc[row_indexer,col_indexer] = value instead\n",
            "\n",
            "See the caveats in the documentation: https://pandas.pydata.org/pandas-docs/stable/user_guide/indexing.html#returning-a-view-versus-a-copy\n",
            "  \"\"\"\n"
          ]
        }
      ]
    },
    {
      "cell_type": "code",
      "metadata": {
        "colab": {
          "base_uri": "https://localhost:8080/",
          "height": 645
        },
        "id": "gq-0MVYfBQFa",
        "outputId": "0375aeb8-6e5c-4297-db87-c597dca99402"
      },
      "source": [
        "plt.figure(figsize = (35,10))\n",
        "plt.subplot(1,5,1)\n",
        "plt.title('lst week plot')\n",
        "plt.plot(df['1st_week'], df['ITEM_QTY'], 'o')\n",
        "plt.subplot(1,5,2)\n",
        "plt.title('2nd week plot')\n",
        "plt.plot(df['2nd_week'], df['ITEM_QTY'], 'o')\n",
        "plt.subplot(1,5,3)\n",
        "plt.title('3rd week plot')\n",
        "plt.plot(df['3rd_week'], df['ITEM_QTY'], 'o')\n",
        "plt.subplot(1,5,4)\n",
        "plt.title('4th week plot')\n",
        "plt.plot(df['4th_week'], df['ITEM_QTY'], 'o')\n",
        "plt.subplot(1,5,5)\n",
        "plt.title('last week plot')\n",
        "plt.plot(df['last_week'], df['ITEM_QTY'], 'o')"
      ],
      "execution_count": null,
      "outputs": [
        {
          "data": {
            "text/plain": [
              "[<matplotlib.lines.Line2D at 0x7f207a007250>]"
            ]
          },
          "execution_count": 53,
          "metadata": {},
          "output_type": "execute_result"
        },
        {
          "data": {
            "image/png": "[encoded data removed]",
            "text/plain": [
              "<Figure size 2520x720 with 5 Axes>"
            ]
          },
          "metadata": {},
          "output_type": "display_data"
        }
      ]
    },
    {
      "cell_type": "code",
      "metadata": {
        "id": "gRj76E_5kjgH",
        "colab": {
          "base_uri": "https://localhost:8080/"
        },
        "outputId": "c95046f5-5e1c-4175-e873-cf0e052907e1"
      },
      "source": [
        "Y_test_private"
      ],
      "execution_count": null,
      "outputs": [
        {
          "output_type": "execute_result",
          "data": {
            "text/plain": [
              "608810    1\n",
              "292206    1\n",
              "219571    4\n",
              "174970    1\n",
              "139648    1\n",
              "         ..\n",
              "463209    1\n",
              "160935    1\n",
              "122546    1\n",
              "44179     1\n",
              "257194    5\n",
              "Name: ITEM_QTY, Length: 174442, dtype: int64"
            ]
          },
          "metadata": {},
          "execution_count": 33
        }
      ]
    },
    {
      "cell_type": "code",
      "metadata": {
        "id": "qlMPQb-7kPcC"
      },
      "source": [
        "predict = model.predict(X_test_private)"
      ],
      "execution_count": null,
      "outputs": []
    },
    {
      "cell_type": "code",
      "metadata": {
        "colab": {
          "base_uri": "https://localhost:8080/"
        },
        "id": "UX8c-skakV8l",
        "outputId": "f61bcc63-419a-4c70-982c-fc423ecd68d6"
      },
      "source": [
        "RMSE(predict, Y_test_pr)"
      ],
      "execution_count": null,
      "outputs": [
        {
          "output_type": "execute_result",
          "data": {
            "text/plain": [
              "(174442, 1)"
            ]
          },
          "metadata": {},
          "execution_count": 29
        }
      ]
    },
    {
      "cell_type": "code",
      "metadata": {
        "id": "9uMcS25sRGIY"
      },
      "source": [
        "# hj = Input(shape=(1,))\n",
        "# sex = Input(shape=(1,))\n",
        "# age = Input(shape=(1,))\n",
        "# item_buz = Input(shape=(1,))\n",
        "\n",
        "# K = 200\n",
        "\n",
        "# #U_embedding = Embedding(2000,K,embeddings_regularizer=l2())(unit) #user를 특정 할 수 있는 정보가 있을 때 사용\n",
        "# H_embedding = Embedding(H,K,embeddings_regularizer=l2())(hj)\n",
        "# S_embedding = Embedding(S,K,embeddings_regularizer=l2())(sex)\n",
        "# A_embedding = Embedding(A,K,embeddings_regularizer=l2())(age)\n",
        "# I_embedding = Embedding(I,K,embeddings_regularizer=l2())(item_buz)\n",
        "\n",
        "# #user_bias = Embedding(U.max()+1,1,embeddings_regularizer=l2())(user) #user를 특정 할 수 있는 정보가 있을 때 사용\n",
        "# sex_bias = Embedding(S,1,embeddings_regularizer=l2())(sex)\n",
        "# age_bias = Embedding(A,1,embeddings_regularizer=l2())(age)\n",
        "# hj_bias = Embedding(H,1,embeddings_regularizer=l2())(hj)\n",
        "# item_bias = Embedding(I,1,embeddings_regularizer=l2())(item_buz)\n",
        "# from tensorflow.keras.layers import Dense,Concatenate,Activation\n",
        "\n",
        "# #U_embedding = Flatten()(U_embedding)\n",
        "# H_embedding = Flatten()(H_embedding)\n",
        "# S_embedding = Flatten()(S_embedding)\n",
        "# A_embedding = Flatten()(A_embedding)\n",
        "# I_embedding = Flatten()(I_embedding)\n",
        "\n",
        "# #user_bias = Flatten()(user_bias)\n",
        "# sex_bias = Flatten()(sex_bias)\n",
        "# age_bias = Flatten()(age_bias)\n",
        "# hj_bias = Flatten()(hj_bias)\n",
        "# item_bias = Flatten()(item_bias)\n",
        "\n",
        "# #user_bias 와 U_embedding을 user를 특정 할 수 있는 정보가 있다면 추가하면 좋다. => 더 높은 정확성과, 적은 오류를 가질 것이다.\n",
        "# R = Concatenate()([S_embedding,A_embedding,H_embedding,I_embedding,sex_bias,age_bias,hj_bias,item_bias])\n",
        "\n",
        "# R = Dense(2048)(R)\n",
        "# R = Activation('relu')(R)\n",
        "# R = Dense(256)(R)\n",
        "# R = Activation('relu')(R)\n",
        "# R = Dense(1)(R) #소비 점수를 output으로 가져온다(정확한 평가 지표가 있었다면, 조금 더 좋았을 것)\n",
        "\n",
        "# model = Model(inputs=[sex,age,hj,item_buz],outputs=R)\n",
        "# model.compile(\n",
        "#     loss = RMSE,\n",
        "#     optimizer = 'Adam',\n",
        "#     metrics = [RMSE]\n",
        "# )\n",
        "\n",
        "# model.summary()"
      ],
      "execution_count": null,
      "outputs": []
    },
    {
      "cell_type": "markdown",
      "metadata": {
        "id": "_Ab66o2Pmr3t"
      },
      "source": [
        "# 3월 EDA"
      ]
    },
    {
      "cell_type": "code",
      "metadata": {
        "colab": {
          "base_uri": "https://localhost:8080/",
          "height": 387
        },
        "id": "G1keCMUAu7h7",
        "outputId": "a920bb7c-580d-4ed4-879c-4df303e5376e"
      },
      "source": [
        "sns.displot(march['ITEM_QTY'])"
      ],
      "execution_count": null,
      "outputs": [
        {
          "data": {
            "text/plain": [
              "<seaborn.axisgrid.FacetGrid at 0x7f20a4454d90>"
            ]
          },
          "execution_count": 21,
          "metadata": {},
          "output_type": "execute_result"
        },
        {
          "data": {
            "image/png": "[encoded data removed]",
            "text/plain": [
              "<Figure size 360x360 with 1 Axes>"
            ]
          },
          "metadata": {},
          "output_type": "display_data"
        }
      ]
    },
    {
      "cell_type": "code",
      "metadata": {
        "colab": {
          "base_uri": "https://localhost:8080/",
          "height": 338
        },
        "id": "QGcgVZmHI9aO",
        "outputId": "4056910d-b4f1-445c-d446-a587853ca05b"
      },
      "source": [
        "plt.plot(march['BRAND_NM'], march['ITEM_QTY'], 'o')\n",
        "plt.show()\n",
        "print(march['BRAND_NM'].value_counts()) # 적어도 3월엔 3개의 종류의 상품만 존재함."
      ],
      "execution_count": null,
      "outputs": [
        {
          "data": {
            "image/png": "[encoded data removed]",
            "text/plain": [
              "<Figure size 432x288 with 1 Axes>"
            ]
          },
          "metadata": {},
          "output_type": "display_data"
        },
        {
          "name": "stdout",
          "output_type": "stream",
          "text": [
            "1    231851\n",
            "0     47417\n",
            "2       583\n",
            "Name: BRAND_NM, dtype: int64\n"
          ]
        }
      ]
    },
    {
      "cell_type": "code",
      "metadata": {
        "colab": {
          "base_uri": "https://localhost:8080/",
          "height": 669
        },
        "id": "oIVazZGBJAt_",
        "outputId": "2d392bcc-52bf-481d-d761-a90e8ae404cf"
      },
      "source": [
        "plt.plot(march['ITEM_SEQ'], march['ITEM_QTY'], 'o')\n",
        "plt.show()\n",
        "print(march['ITEM_SEQ'].value_counts())\n",
        "# 시퀀스 값에 따라서 현저히 감소하는 추세를 확인할 수 있음!"
      ],
      "execution_count": null,
      "outputs": [
        {
          "data": {
            "image/png": "[encoded data removed]",
            "text/plain": [
              "<Figure size 432x288 with 1 Axes>"
            ]
          },
          "metadata": {},
          "output_type": "display_data"
        },
        {
          "name": "stdout",
          "output_type": "stream",
          "text": [
            "1     218001\n",
            "2      36433\n",
            "3      14233\n",
            "4       6026\n",
            "5       2435\n",
            "6       1234\n",
            "7        734\n",
            "8        395\n",
            "9        141\n",
            "10        76\n",
            "11        49\n",
            "12        33\n",
            "13        22\n",
            "14        12\n",
            "15         9\n",
            "16         6\n",
            "17         4\n",
            "18         3\n",
            "20         2\n",
            "19         2\n",
            "21         1\n",
            "Name: ITEM_SEQ, dtype: int64\n"
          ]
        }
      ]
    },
    {
      "cell_type": "code",
      "metadata": {
        "colab": {
          "base_uri": "https://localhost:8080/",
          "height": 265
        },
        "id": "aGHabNbKKDff",
        "outputId": "0c9dd66d-c513-45fc-fb2b-f9e79daad7ca"
      },
      "source": [
        "plt.plot(np.log(march['ITEM_AMT']), march['ITEM_QTY'], 'o')\n",
        "plt.show()\n",
        "# 가격 스케일이 커서 로그를 씌우고 실행시킴.\n",
        "# 전반적으로 가격이 커질수록 배송할 제품의 양이 커지는 효과를 볼 수 있음.\n",
        " "
      ],
      "execution_count": null,
      "outputs": [
        {
          "data": {
            "image/png": "[encoded data removed]",
            "text/plain": [
              "<Figure size 432x288 with 1 Axes>"
            ]
          },
          "metadata": {},
          "output_type": "display_data"
        }
      ]
    },
    {
      "cell_type": "code",
      "metadata": {
        "colab": {
          "base_uri": "https://localhost:8080/",
          "height": 265
        },
        "id": "ZWMziCWdKmHp",
        "outputId": "6787e646-eff8-4cc7-94e1-80cf4b10b6df"
      },
      "source": [
        "plt.plot(np.log(march['INV_AMT']), march['ITEM_QTY'], 'o')\n",
        "plt.show()"
      ],
      "execution_count": null,
      "outputs": [
        {
          "data": {
            "image/png": "[encoded data removed]",
            "text/plain": [
              "<Figure size 432x288 with 1 Axes>"
            ]
          },
          "metadata": {},
          "output_type": "display_data"
        }
      ]
    },
    {
      "cell_type": "code",
      "metadata": {
        "colab": {
          "base_uri": "https://localhost:8080/",
          "height": 374
        },
        "id": "wy78XUCyKr0O",
        "outputId": "6574e68b-7f91-4f32-e7b7-7d3ac08afcd3"
      },
      "source": [
        "plt.figure(figsize = (12,6))\n",
        "plt.subplot(1,2,1)\n",
        "plt.plot(np.log(march['INV_AMT']), np.log(march['ITEM_AMT']), 'o')\n",
        "plt.xlim(5, 21)\n",
        "plt.ylim(5, 21)\n",
        "plt.subplot(1,2,2)\n",
        "plt.plot(np.log(march['INV_AMT']), np.log(march['ITEM_AMT'] * march['ITEM_QTY']), 'o')\n",
        "plt.xlim(5, 21)\n",
        "plt.ylim(5, 21)\n",
        "plt.show()\n",
        "plt.show()\n",
        "# 혹시 몰라서 주문 금액과 품목 금액에 대한 EDA를 해봤는데, 대략적으로 품목 금액은 주문 금액과 비례하는 성질을 가짐.\n",
        "# 그리고 혹시나 해서 품목금액과 수량의 곱을 적용해 보았지만, 기존의 것이 더 설득력있는 분석임을 확인함.\n",
        "# 그런데 주문금액과 품목 금액간 차이가 나는 이유는? 대체적으로 주문금액 > 품목금액이지만, 그렇지 않은 케이스도 존재함."
      ],
      "execution_count": null,
      "outputs": [
        {
          "data": {
            "image/png": "[encoded data removed]",
            "text/plain": [
              "<Figure size 864x432 with 2 Axes>"
            ]
          },
          "metadata": {},
          "output_type": "display_data"
        }
      ]
    },
    {
      "cell_type": "code",
      "metadata": {
        "colab": {
          "base_uri": "https://localhost:8080/",
          "height": 265
        },
        "id": "zZ8ENUHZK-L7",
        "outputId": "4eaf953a-acf3-48cb-a429-c3ef3ec02e8d"
      },
      "source": [
        "plt.plot(np.log(march['INV_AMT']), np.log(march['ITEM_AMT'] * march['ITEM_QTY']), 'o')\n",
        "plt.xlim(5, 21)\n",
        "plt.ylim(5, 21)\n",
        "plt.show()\n",
        "# 혹시 몰라서 주문 금액과 품목 금액에 대한 EDA를 해봤는데, 대략적으로 "
      ],
      "execution_count": null,
      "outputs": [
        {
          "data": {
            "image/png": "[encoded data removed]",
            "text/plain": [
              "<Figure size 432x288 with 1 Axes>"
            ]
          },
          "metadata": {},
          "output_type": "display_data"
        }
      ]
    },
    {
      "cell_type": "code",
      "metadata": {
        "colab": {
          "base_uri": "https://localhost:8080/"
        },
        "id": "3yuzMoVfb0SO",
        "outputId": "8f66f595-4452-4027-ba2c-137d7601c7e3"
      },
      "source": [
        "march['SHPR_CD'].value_counts()"
      ],
      "execution_count": null,
      "outputs": [
        {
          "data": {
            "text/plain": [
              "90001302    96484\n",
              "90001542    47141\n",
              "90001341    39549\n",
              "90001541    32932\n",
              "90001441    30209\n",
              "90001443    21819\n",
              "90001521     8802\n",
              "90001381     2739\n",
              "90001582      176\n",
              "Name: SHPR_CD, dtype: int64"
            ]
          },
          "execution_count": 97,
          "metadata": {},
          "output_type": "execute_result"
        }
      ]
    },
    {
      "cell_type": "code",
      "metadata": {
        "colab": {
          "base_uri": "https://localhost:8080/",
          "height": 283
        },
        "id": "GFBjeLudMhxb",
        "outputId": "ce37c15b-1e32-4ff8-d61b-27a4cc6c0f1e"
      },
      "source": [
        "k = march['SHPR_CD'] - march['SHPR_CD'].min()\n",
        "plt.plot(k, march['ITEM_QTY'], 'o')\n",
        "# 고객사 코드를 통한 eda, 확실히 고객사 별로 데이터 수도 다르고 분포 또한 다름을 알 수 있음. \n",
        "# 특히 특정 고객사의 주문량이 폭주하는 모습을 볼 수 있다. "
      ],
      "execution_count": null,
      "outputs": [
        {
          "data": {
            "text/plain": [
              "[<matplotlib.lines.Line2D at 0x7f9fbee32cd0>]"
            ]
          },
          "execution_count": 92,
          "metadata": {},
          "output_type": "execute_result"
        },
        {
          "data": {
            "image/png": "[encoded data removed]",
            "text/plain": [
              "<Figure size 432x288 with 1 Axes>"
            ]
          },
          "metadata": {},
          "output_type": "display_data"
        }
      ]
    },
    {
      "cell_type": "code",
      "metadata": {
        "colab": {
          "base_uri": "https://localhost:8080/"
        },
        "id": "5Abva3NxNVxp",
        "outputId": "696c5d94-02a6-455d-b734-e7c0531c18a2"
      },
      "source": [
        "march['ITEM_CD'].value_counts() # 주문 코드가 동일한 주문이 많다? 한번에 배송을 하는 것을 의미하는 걸까?"
      ],
      "execution_count": null,
      "outputs": [
        {
          "data": {
            "text/plain": [
              "1486    9688\n",
              "1223    3479\n",
              "1224    3281\n",
              "4692    2833\n",
              "4826    2833\n",
              "        ... \n",
              "2864       1\n",
              "817        1\n",
              "4046       1\n",
              "3534       1\n",
              "0          1\n",
              "Name: ITEM_CD, Length: 5320, dtype: int64"
            ]
          },
          "execution_count": 95,
          "metadata": {},
          "output_type": "execute_result"
        }
      ]
    },
    {
      "cell_type": "code",
      "metadata": {
        "colab": {
          "base_uri": "https://localhost:8080/"
        },
        "id": "s6AB7wPqNuiR",
        "outputId": "63bab249-0099-414d-f525-ae7c2c10d390"
      },
      "source": [
        "L_encoder = LabelEncoder()\n",
        "L_encoder.fit(march['ITEM_CD'])\n",
        "march['ITEM_CD'] = L_encoder.transform(march['ITEM_CD'])"
      ],
      "execution_count": null,
      "outputs": [
        {
          "name": "stderr",
          "output_type": "stream",
          "text": [
            "/usr/local/lib/python3.7/dist-packages/ipykernel_launcher.py:3: SettingWithCopyWarning: \n",
            "A value is trying to be set on a copy of a slice from a DataFrame.\n",
            "Try using .loc[row_indexer,col_indexer] = value instead\n",
            "\n",
            "See the caveats in the documentation: https://pandas.pydata.org/pandas-docs/stable/user_guide/indexing.html#returning-a-view-versus-a-copy\n",
            "  This is separate from the ipykernel package so we can avoid doing imports until\n"
          ]
        }
      ]
    },
    {
      "cell_type": "code",
      "metadata": {
        "colab": {
          "base_uri": "https://localhost:8080/"
        },
        "id": "kvhz7x4mN3P9",
        "outputId": "084fb1e9-69c5-4718-b555-347248ff7752"
      },
      "source": [
        "march['ITEM_CD'].value_counts()"
      ],
      "execution_count": null,
      "outputs": [
        {
          "data": {
            "text/plain": [
              "1486    9688\n",
              "1223    3479\n",
              "1224    3281\n",
              "4692    2833\n",
              "4826    2833\n",
              "        ... \n",
              "2864       1\n",
              "817        1\n",
              "4046       1\n",
              "3534       1\n",
              "0          1\n",
              "Name: ITEM_CD, Length: 5320, dtype: int64"
            ]
          },
          "execution_count": 86,
          "metadata": {},
          "output_type": "execute_result"
        }
      ]
    },
    {
      "cell_type": "code",
      "metadata": {
        "colab": {
          "base_uri": "https://localhost:8080/",
          "height": 283
        },
        "id": "fF3_kh8aN0hg",
        "outputId": "1fadce0b-7b68-4731-bc75-8b65c62e5c8e"
      },
      "source": [
        "plt.plot(march['ITEM_CD'], march['ITEM_QTY'], 'o')\n",
        "# 주문코드 별로 분포가 상이하게 다른? 모습을 볼 수 있다. 좀 더 자세히 볼 필요가 있을것 같다."
      ],
      "execution_count": null,
      "outputs": [
        {
          "data": {
            "text/plain": [
              "[<matplotlib.lines.Line2D at 0x7f9fbf015050>]"
            ]
          },
          "execution_count": 93,
          "metadata": {},
          "output_type": "execute_result"
        },
        {
          "data": {
            "image/png": "[encoded data removed]",
            "text/plain": [
              "<Figure size 432x288 with 1 Axes>"
            ]
          },
          "metadata": {},
          "output_type": "display_data"
        }
      ]
    },
    {
      "cell_type": "code",
      "metadata": {
        "colab": {
          "base_uri": "https://localhost:8080/",
          "height": 374
        },
        "id": "Fu7TdehTOCR-",
        "outputId": "5574f2ca-939b-4b6c-cf16-2b4a4d3954cd"
      },
      "source": [
        "plt.figure(figsize = (30,6))\n",
        "plt.subplot(1,5,1)\n",
        "plt.plot(march['ITEM_CD'], march['ITEM_QTY'], 'o')\n",
        "plt.xlim(0, 1000)\n",
        "plt.subplot(1,5,2)\n",
        "plt.plot(march['ITEM_CD'], march['ITEM_QTY'], 'o')\n",
        "plt.xlim(1000, 2000)\n",
        "plt.subplot(1,5,3)\n",
        "plt.plot(march['ITEM_CD'], march['ITEM_QTY'], 'o')\n",
        "plt.xlim(2000, 3000)\n",
        "plt.subplot(1,5,4)\n",
        "plt.plot(march['ITEM_CD'], march['ITEM_QTY'], 'o')\n",
        "plt.xlim(3000, 4000)\n",
        "plt.subplot(1,5,5)\n",
        "plt.plot(march['ITEM_CD'], march['ITEM_QTY'], 'o')\n",
        "plt.xlim(4000, march['ITEM_CD'].max())\n",
        "plt.show()\n",
        "# 주문 코드별 수량을 봤는데, 특정 주문 코드에서 주문이 폭발적으로 증가.\n",
        "# 아마도 고객사와 연계하면 더 좋게 될지도? \n",
        "# 하지만 주문코드는 주문할 때마다 달라지지 않을까? 그러면 의미가 퇴색될 가능성이 높아질 것이다."
      ],
      "execution_count": null,
      "outputs": [
        {
          "data": {
            "image/png": "[encoded data removed]",
            "text/plain": [
              "<Figure size 2160x432 with 5 Axes>"
            ]
          },
          "metadata": {},
          "output_type": "display_data"
        }
      ]
    },
    {
      "cell_type": "markdown",
      "metadata": {
        "id": "4UODBoe0bWk3"
      },
      "source": [
        "groupby 를 써서 휴일 / 평일 나눠서 eda를 해봅시다!"
      ]
    },
    {
      "cell_type": "code",
      "metadata": {
        "colab": {
          "base_uri": "https://localhost:8080/"
        },
        "id": "cPfaPPEebWOA",
        "outputId": "e2763e8b-b8c2-474f-f3c9-b65cd73bcd8e"
      },
      "source": [
        "march['BKG_DATE'].value_counts() # 적어도 3월엔 3개의 종류의 상품만 존재함."
      ],
      "execution_count": null,
      "outputs": [
        {
          "data": {
            "text/plain": [
              "20210323    29299\n",
              "20210322    20724\n",
              "20210303    12825\n",
              "20210305    12225\n",
              "20210329    11121\n",
              "20210302    10996\n",
              "20210331     9549\n",
              "20210304     9510\n",
              "20210316     9384\n",
              "20210326     9135\n",
              "20210324     8674\n",
              "20210325     8632\n",
              "20210328     8480\n",
              "20210330     8250\n",
              "20210314     7949\n",
              "20210301     7893\n",
              "20210321     7757\n",
              "20210315     7302\n",
              "20210327     7301\n",
              "20210308     7110\n",
              "20210311     6693\n",
              "20210309     6598\n",
              "20210317     6586\n",
              "20210310     6304\n",
              "20210319     6026\n",
              "20210307     5970\n",
              "20210318     5926\n",
              "20210313     5552\n",
              "20210312     5506\n",
              "20210320     5476\n",
              "20210306     5098\n",
              "Name: BKG_DATE, dtype: int64"
            ]
          },
          "execution_count": 10,
          "metadata": {},
          "output_type": "execute_result"
        }
      ]
    },
    {
      "cell_type": "code",
      "metadata": {
        "colab": {
          "base_uri": "https://localhost:8080/"
        },
        "id": "1dlezgOgAvvF",
        "outputId": "f842a0d1-181c-4cdd-fe46-699af307ebd6"
      },
      "source": [
        "march['BKG_DATE'].astype(str).str[6:].astype(int)"
      ],
      "execution_count": null,
      "outputs": [
        {
          "data": {
            "text/plain": [
              "1          3\n",
              "2          3\n",
              "3          3\n",
              "4          3\n",
              "5          3\n",
              "          ..\n",
              "309344    31\n",
              "309345    31\n",
              "309346    31\n",
              "309347    31\n",
              "309348    31\n",
              "Name: BKG_DATE, Length: 279851, dtype: int64"
            ]
          },
          "execution_count": 23,
          "metadata": {},
          "output_type": "execute_result"
        }
      ]
    },
    {
      "cell_type": "code",
      "metadata": {
        "colab": {
          "base_uri": "https://localhost:8080/"
        },
        "id": "4-ba_mdFCexc",
        "outputId": "83e3d927-1fad-4781-d159-86198c310cda"
      },
      "source": [
        "march['day'].value_counts()"
      ],
      "execution_count": null,
      "outputs": [
        {
          "data": {
            "text/plain": [
              "23    29299\n",
              "22    20724\n",
              "3     12825\n",
              "5     12225\n",
              "29    11121\n",
              "2     10996\n",
              "31     9549\n",
              "4      9510\n",
              "16     9384\n",
              "26     9135\n",
              "24     8674\n",
              "25     8632\n",
              "28     8480\n",
              "30     8250\n",
              "14     7949\n",
              "1      7893\n",
              "21     7757\n",
              "15     7302\n",
              "27     7301\n",
              "8      7110\n",
              "11     6693\n",
              "9      6598\n",
              "17     6586\n",
              "10     6304\n",
              "19     6026\n",
              "7      5970\n",
              "18     5926\n",
              "13     5552\n",
              "12     5506\n",
              "20     5476\n",
              "6      5098\n",
              "Name: day, dtype: int64"
            ]
          },
          "execution_count": 43,
          "metadata": {},
          "output_type": "execute_result"
        }
      ]
    },
    {
      "cell_type": "code",
      "metadata": {
        "id": "TWbW_5nAAnq5"
      },
      "source": [
        "march['year'] = march['BKG_DATE'].astype(str).str[0:4].astype(int)\n",
        "march['month'] = march['BKG_DATE'].astype(str).str[4:6].astype(int)\n",
        "march['day'] = march['BKG_DATE'].astype(str).str[6:].astype(int)"
      ],
      "execution_count": null,
      "outputs": []
    },
    {
      "cell_type": "code",
      "metadata": {
        "id": "lhsu9orhCWxZ"
      },
      "source": [
        "march['weekend'] = march['day'].apply(lambda x : 1 if x % 7 == 6 else (1 if x % 7 == 0 else 0))"
      ],
      "execution_count": null,
      "outputs": []
    },
    {
      "cell_type": "code",
      "metadata": {
        "id": "IILw3C1kFSNZ"
      },
      "source": [
        "march['holiday'] = march['day'].apply(lambda x : 1 if x == 1 else 0)"
      ],
      "execution_count": null,
      "outputs": []
    },
    {
      "cell_type": "code",
      "metadata": {
        "colab": {
          "base_uri": "https://localhost:8080/"
        },
        "id": "4mI03gh2CWvA",
        "outputId": "ad67450a-6b29-45b7-f55a-8a10a00695c4"
      },
      "source": [
        "print(march['weekend'].value_counts())\n",
        "print(march['holiday'].value_counts())"
      ],
      "execution_count": null,
      "outputs": [
        {
          "name": "stdout",
          "output_type": "stream",
          "text": [
            "0    226268\n",
            "1     53583\n",
            "Name: weekend, dtype: int64\n",
            "0    271958\n",
            "1      7893\n",
            "Name: holiday, dtype: int64\n"
          ]
        }
      ]
    },
    {
      "cell_type": "code",
      "metadata": {
        "colab": {
          "base_uri": "https://localhost:8080/",
          "height": 483
        },
        "id": "w0EzMMMtCWoH",
        "outputId": "3d90b55d-d188-4938-e0c7-a2c9360d325d"
      },
      "source": [
        "plt.figure(figsize = (48,8))\n",
        "plt.subplot(1,5,1)\n",
        "plt.title('day plot')\n",
        "plt.plot(march['day'], march['ITEM_QTY'], 'o')\n",
        "plt.subplot(1,5,2)\n",
        "plt.title('day plot')\n",
        "plt.plot(march['weekend'], march['ITEM_QTY'], 'o')\n",
        "plt.subplot(1,5,3)\n",
        "plt.title('holiday plot')\n",
        "plt.plot(march['holiday'], march['ITEM_QTY'], 'o')"
      ],
      "execution_count": null,
      "outputs": [
        {
          "data": {
            "text/plain": [
              "[<matplotlib.lines.Line2D at 0x7f51b3f37310>]"
            ]
          },
          "execution_count": 53,
          "metadata": {},
          "output_type": "execute_result"
        },
        {
          "data": {
            "image/png": "[encoded data removed]",
            "text/plain": [
              "<Figure size 3456x576 with 3 Axes>"
            ]
          },
          "metadata": {},
          "output_type": "display_data"
        }
      ]
    },
    {
      "cell_type": "code",
      "metadata": {
        "colab": {
          "base_uri": "https://localhost:8080/",
          "height": 162
        },
        "id": "4dTmsJQoLXtH",
        "outputId": "d743bcad-5441-46c5-c02f-a59ab96299b1"
      },
      "source": [
        "march.groupby('weekend').mean()"
      ],
      "execution_count": null,
      "outputs": [
        {
          "data": {
            "text/html": [
              "<div>\n",
              "<style scoped>\n",
              "    .dataframe tbody tr th:only-of-type {\n",
              "        vertical-align: middle;\n",
              "    }\n",
              "\n",
              "    .dataframe tbody tr th {\n",
              "        vertical-align: top;\n",
              "    }\n",
              "\n",
              "    .dataframe thead th {\n",
              "        text-align: right;\n",
              "    }\n",
              "</style>\n",
              "<table border=\"1\" class=\"dataframe\">\n",
              "  <thead>\n",
              "    <tr style=\"text-align: right;\">\n",
              "      <th></th>\n",
              "      <th>BKG_TYP</th>\n",
              "      <th>BKG_DATE</th>\n",
              "      <th>BKG_TIME</th>\n",
              "      <th>SHPR_CD</th>\n",
              "      <th>INV_AMT</th>\n",
              "      <th>ITEM_SEQ</th>\n",
              "      <th>ITEM_QTY</th>\n",
              "      <th>ITEM_AMT</th>\n",
              "      <th>ORDER_CRT_DATETIME</th>\n",
              "      <th>DLV_DV</th>\n",
              "      <th>INS_DATE</th>\n",
              "      <th>INS_TIME</th>\n",
              "      <th>POST_ZONE</th>\n",
              "      <th>month</th>\n",
              "      <th>day</th>\n",
              "      <th>year</th>\n",
              "      <th>holiday</th>\n",
              "      <th>monday</th>\n",
              "      <th>tuesday</th>\n",
              "      <th>wednesday</th>\n",
              "      <th>thursday</th>\n",
              "      <th>friday</th>\n",
              "      <th>saturday</th>\n",
              "      <th>sunday</th>\n",
              "      <th>1st_week</th>\n",
              "      <th>2nd_week</th>\n",
              "      <th>3rd_week</th>\n",
              "      <th>4th_week</th>\n",
              "      <th>last_week</th>\n",
              "    </tr>\n",
              "    <tr>\n",
              "      <th>weekend</th>\n",
              "      <th></th>\n",
              "      <th></th>\n",
              "      <th></th>\n",
              "      <th></th>\n",
              "      <th></th>\n",
              "      <th></th>\n",
              "      <th></th>\n",
              "      <th></th>\n",
              "      <th></th>\n",
              "      <th></th>\n",
              "      <th></th>\n",
              "      <th></th>\n",
              "      <th></th>\n",
              "      <th></th>\n",
              "      <th></th>\n",
              "      <th></th>\n",
              "      <th></th>\n",
              "      <th></th>\n",
              "      <th></th>\n",
              "      <th></th>\n",
              "      <th></th>\n",
              "      <th></th>\n",
              "      <th></th>\n",
              "      <th></th>\n",
              "      <th></th>\n",
              "      <th></th>\n",
              "      <th></th>\n",
              "      <th></th>\n",
              "      <th></th>\n",
              "    </tr>\n",
              "  </thead>\n",
              "  <tbody>\n",
              "    <tr>\n",
              "      <th>0</th>\n",
              "      <td>7.0</td>\n",
              "      <td>2.021032e+07</td>\n",
              "      <td>94234.035997</td>\n",
              "      <td>9.000141e+07</td>\n",
              "      <td>56942.850602</td>\n",
              "      <td>1.401347</td>\n",
              "      <td>1.310464</td>\n",
              "      <td>39782.067416</td>\n",
              "      <td>2.021032e+13</td>\n",
              "      <td>1.0</td>\n",
              "      <td>2.021032e+07</td>\n",
              "      <td>145590.623619</td>\n",
              "      <td>25.365332</td>\n",
              "      <td>3.0</td>\n",
              "      <td>16.514218</td>\n",
              "      <td>2021.0</td>\n",
              "      <td>0.034883</td>\n",
              "      <td>0.239318</td>\n",
              "      <td>0.28518</td>\n",
              "      <td>0.194186</td>\n",
              "      <td>0.135949</td>\n",
              "      <td>0.145367</td>\n",
              "      <td>0.00000</td>\n",
              "      <td>0.00000</td>\n",
              "      <td>0.236220</td>\n",
              "      <td>0.142358</td>\n",
              "      <td>0.155674</td>\n",
              "      <td>0.337936</td>\n",
              "      <td>0.206335</td>\n",
              "    </tr>\n",
              "    <tr>\n",
              "      <th>1</th>\n",
              "      <td>7.0</td>\n",
              "      <td>2.021032e+07</td>\n",
              "      <td>97023.010843</td>\n",
              "      <td>9.000141e+07</td>\n",
              "      <td>58330.958513</td>\n",
              "      <td>1.349999</td>\n",
              "      <td>1.293451</td>\n",
              "      <td>43707.375660</td>\n",
              "      <td>2.021032e+13</td>\n",
              "      <td>1.0</td>\n",
              "      <td>2.021032e+07</td>\n",
              "      <td>143132.563724</td>\n",
              "      <td>24.999142</td>\n",
              "      <td>3.0</td>\n",
              "      <td>17.968833</td>\n",
              "      <td>2021.0</td>\n",
              "      <td>0.000000</td>\n",
              "      <td>0.000000</td>\n",
              "      <td>0.00000</td>\n",
              "      <td>0.000000</td>\n",
              "      <td>0.000000</td>\n",
              "      <td>0.000000</td>\n",
              "      <td>0.43721</td>\n",
              "      <td>0.56279</td>\n",
              "      <td>0.206558</td>\n",
              "      <td>0.251964</td>\n",
              "      <td>0.246963</td>\n",
              "      <td>0.294515</td>\n",
              "      <td>0.294515</td>\n",
              "    </tr>\n",
              "  </tbody>\n",
              "</table>\n",
              "</div>"
            ],
            "text/plain": [
              "         BKG_TYP      BKG_DATE      BKG_TIME  ...  3rd_week  4th_week  last_week\n",
              "weekend                                       ...                               \n",
              "0            7.0  2.021032e+07  94234.035997  ...  0.155674  0.337936   0.206335\n",
              "1            7.0  2.021032e+07  97023.010843  ...  0.246963  0.294515   0.294515\n",
              "\n",
              "[2 rows x 29 columns]"
            ]
          },
          "execution_count": 69,
          "metadata": {},
          "output_type": "execute_result"
        }
      ]
    },
    {
      "cell_type": "code",
      "metadata": {
        "id": "QO0wB4ifGhlr"
      },
      "source": [
        "march['monday'] = march['day'].apply(lambda x : 1 if x % 7 == 1 else 0)\n",
        "march['tuesday'] = march['day'].apply(lambda x : 1 if x % 7 == 2 else 0)\n",
        "march['wednesday'] = march['day'].apply(lambda x : 1 if x % 7 == 3 else 0)\n",
        "march['thursday'] = march['day'].apply(lambda x : 1 if x % 7 == 4 else 0)\n",
        "march['friday'] = march['day'].apply(lambda x : 1 if x % 7 == 5 else 0)\n",
        "march['saturday'] = march['day'].apply(lambda x : 1 if x % 7 == 6 else 0)\n",
        "march['sunday'] = march['day'].apply(lambda x : 1 if x % 7 == 0 else 0)"
      ],
      "execution_count": null,
      "outputs": []
    },
    {
      "cell_type": "code",
      "metadata": {
        "colab": {
          "base_uri": "https://localhost:8080/",
          "height": 478
        },
        "id": "8J_0yHcWGhjZ",
        "outputId": "05ecd804-7afb-4954-e30a-8915411b11c3"
      },
      "source": [
        "plt.figure(figsize = (35,10))\n",
        "plt.subplot(1,7,1)\n",
        "plt.title('monday plot')\n",
        "plt.plot(march['monday'], march['ITEM_QTY'], 'o')\n",
        "plt.subplot(1,7,2)\n",
        "plt.title('tuesday plot')\n",
        "plt.plot(march['tuesday'], march['ITEM_QTY'], 'o')\n",
        "plt.subplot(1,7,3)\n",
        "plt.title('wednesday plot')\n",
        "plt.plot(march['wednesday'], march['ITEM_QTY'], 'o')\n",
        "plt.subplot(1,7,4)\n",
        "plt.title('thursday plot')\n",
        "plt.plot(march['thursday'], march['ITEM_QTY'], 'o')\n",
        "plt.subplot(1,7,5)\n",
        "plt.title('friday plot')\n",
        "plt.plot(march['friday'], march['ITEM_QTY'], 'o')\n",
        "plt.subplot(1,7,6)\n",
        "plt.title('saturday plot')\n",
        "plt.plot(march['saturday'], march['ITEM_QTY'], 'o')\n",
        "plt.subplot(1,7,7)\n",
        "plt.title('sunday plot')\n",
        "plt.plot(march['sunday'], march['ITEM_QTY'], 'o')"
      ],
      "execution_count": null,
      "outputs": [
        {
          "data": {
            "text/plain": [
              "[<matplotlib.lines.Line2D at 0x7f51b601d110>]"
            ]
          },
          "execution_count": 60,
          "metadata": {},
          "output_type": "execute_result"
        },
        {
          "data": {
            "image/png": "[encoded data removed]",
            "text/plain": [
              "<Figure size 2520x720 with 7 Axes>"
            ]
          },
          "metadata": {},
          "output_type": "display_data"
        }
      ]
    },
    {
      "cell_type": "code",
      "metadata": {
        "id": "ltNNCJsxH02r"
      },
      "source": [
        "march['1st_week'] = march['day'].apply(lambda x : 1 if x <= 7 else 0)\n",
        "march['2nd_week'] = march['day'].apply(lambda x : 1 if 8 <= x <= 14 else 0)\n",
        "march['3rd_week'] = march['day'].apply(lambda x : 1 if 15 <= x <= 21 else 0)\n",
        "march['4th_week'] = march['day'].apply(lambda x : 1 if 22 <= x <= 28 else 0)\n",
        "march['last_week'] = march['day'].apply(lambda x : 1 if x >= 25 else 0)"
      ],
      "execution_count": null,
      "outputs": []
    },
    {
      "cell_type": "code",
      "metadata": {
        "colab": {
          "base_uri": "https://localhost:8080/",
          "height": 478
        },
        "id": "LpndPEnhJqk5",
        "outputId": "bff7f349-7381-45e1-c6df-bc74262f401d"
      },
      "source": [
        "plt.figure(figsize = (35,10))\n",
        "plt.subplot(1,5,1)\n",
        "plt.title('lst week plot')\n",
        "plt.plot(march['1st_week'], march['ITEM_QTY'], 'o')\n",
        "plt.subplot(1,5,2)\n",
        "plt.title('2nd week plot')\n",
        "plt.plot(march['2nd_week'], march['ITEM_QTY'], 'o')\n",
        "plt.subplot(1,5,3)\n",
        "plt.title('3rd week plot')\n",
        "plt.plot(march['3rd_week'], march['ITEM_QTY'], 'o')\n",
        "plt.subplot(1,5,4)\n",
        "plt.title('4th week plot')\n",
        "plt.plot(march['4th_week'], march['ITEM_QTY'], 'o')\n",
        "plt.subplot(1,5,5)\n",
        "plt.title('last week plot')\n",
        "plt.plot(march['last_week'], march['ITEM_QTY'], 'o')"
      ],
      "execution_count": null,
      "outputs": [
        {
          "data": {
            "text/plain": [
              "[<matplotlib.lines.Line2D at 0x7f51b7f87bd0>]"
            ]
          },
          "execution_count": 66,
          "metadata": {},
          "output_type": "execute_result"
        },
        {
          "data": {
            "image/png": "[encoded data removed]",
            "text/plain": [
              "<Figure size 2520x720 with 5 Axes>"
            ]
          },
          "metadata": {},
          "output_type": "display_data"
        }
      ]
    },
    {
      "cell_type": "markdown",
      "metadata": {
        "id": "kWMFzhmcMaGs"
      },
      "source": [
        "# 쇼핑몰 코드 EDA"
      ]
    },
    {
      "cell_type": "code",
      "metadata": {
        "colab": {
          "base_uri": "https://localhost:8080/"
        },
        "id": "cTJpxDk2OP55",
        "outputId": "230e7ab3-bf25-443c-8fc8-4a487c520325"
      },
      "source": [
        "L_encoder = LabelEncoder()\n",
        "L_encoder.fit(df['INS_ID'])\n",
        "df['INS_ID'] = L_encoder.transform(df['INS_ID'])"
      ],
      "execution_count": null,
      "outputs": [
        {
          "name": "stderr",
          "output_type": "stream",
          "text": [
            "/usr/local/lib/python3.7/dist-packages/ipykernel_launcher.py:3: SettingWithCopyWarning: \n",
            "A value is trying to be set on a copy of a slice from a DataFrame.\n",
            "Try using .loc[row_indexer,col_indexer] = value instead\n",
            "\n",
            "See the caveats in the documentation: https://pandas.pydata.org/pandas-docs/stable/user_guide/indexing.html#returning-a-view-versus-a-copy\n",
            "  This is separate from the ipykernel package so we can avoid doing imports until\n"
          ]
        }
      ]
    },
    {
      "cell_type": "code",
      "metadata": {
        "colab": {
          "base_uri": "https://localhost:8080/"
        },
        "id": "I2lrUdZRMuCj",
        "outputId": "4ea5ce41-08f6-4e49-968c-a3ddc46f7c0b"
      },
      "source": [
        "df['INS_ID'].value_counts()\n",
        "# 뭐지? 했는데 iNEXBatch 말고는 전부 결측치떔에 날라감 ㅡㅡ;"
      ],
      "execution_count": null,
      "outputs": [
        {
          "data": {
            "text/plain": [
              "1    1585496\n",
              "0         28\n",
              "Name: INS_ID, dtype: int64"
            ]
          },
          "execution_count": 27,
          "metadata": {},
          "output_type": "execute_result"
        }
      ]
    },
    {
      "cell_type": "code",
      "metadata": {
        "id": "QACXqVooLOwD"
      },
      "source": [
        "plt.plot(march['ITEM_CD'], march['ITEM_QTY'], 'o')"
      ],
      "execution_count": null,
      "outputs": []
    }
  ]
}